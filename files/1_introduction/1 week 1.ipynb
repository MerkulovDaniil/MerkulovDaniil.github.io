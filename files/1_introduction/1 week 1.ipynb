{
 "cells": [
  {
   "cell_type": "markdown",
   "metadata": {},
   "source": [
    "# Домашнее задание 1\n",
    "Используя геометрические интерпретации, решить следующие экстремальные задачи:\n",
    "1. $\\text{extr}\\left(\\left|x_1\\right|^\\lambda + 2 \\left|x_2\\right|^\\lambda \\right)$ при условии $x_1^2 + 4x_2^2 = 4, \\;\\; \\lambda \\neq 0$\n",
    "\n",
    "2. $\\text{extr}\\left(x_1^2 + 4x_2^2\\right)$ при условии $\\left|x_1\\right|^\\lambda + 2 \\left|x_2\\right|^\\lambda \\le 1, \\;\\; \\lambda \\neq 0$\n",
    "\n",
    "3. $\\text{extr}\\left(x_1^2 + 4x_2^2\\right)$ при условии $\\left|x_1\\right|^\\lambda + 2 \\left|x_2\\right|^\\lambda = 1, \\;\\; \\lambda \\neq 0$\n",
    "\n",
    "В качестве решения необходимо предоставить либо:\n",
    "- `jupyter notebook` с построенными графиками целевой функции и бюджетного множества, описывающие различные параметры $\\lambda$. Для построения графиков можно использовать код указанный в этом семинаре, но будет проще рабоать с библиотекой `matplotlib`\n",
    "- Аналитическое решение при $\\lambda \\in Z \\neq 0$ с рассмотрением всех случаев\n",
    "\n",
    "Плюсом будут отмечены те решения, что рассмотрят $\\lambda \\in R \\backslash \\{0\\}$"
   ]
  }
 ],
 "metadata": {
  "kernelspec": {
   "display_name": "Python 3",
   "language": "python",
   "name": "python3"
  },
  "language_info": {
   "codemirror_mode": {
    "name": "ipython",
    "version": 3
   },
   "file_extension": ".py",
   "mimetype": "text/x-python",
   "name": "python",
   "nbconvert_exporter": "python",
   "pygments_lexer": "ipython3",
   "version": "3.6.5"
  }
 },
 "nbformat": 4,
 "nbformat_minor": 2
}
