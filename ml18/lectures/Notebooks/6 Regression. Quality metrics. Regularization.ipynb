{
 "cells": [
  {
   "cell_type": "markdown",
   "metadata": {
    "slideshow": {
     "slide_type": "slide"
    }
   },
   "source": [
    "# Lecture 6. Regression problem: quality measures and regularization "
   ]
  },
  {
   "cell_type": "markdown",
   "metadata": {
    "slideshow": {
     "slide_type": "slide"
    }
   },
   "source": [
    "## Reminder\n",
    "\n",
    "- Regression problem statement\n",
    "- Linear least squares\n",
    "- Nonlinear least squares\n",
    "- Gauss-Newton and Levenberg-Marquardt methods"
   ]
  },
  {
   "cell_type": "markdown",
   "metadata": {
    "slideshow": {
     "slide_type": "slide"
    }
   },
   "source": [
    "## Today lecture\n",
    "\n",
    "- Regression quality measures\n",
    "- What to do when the design matrix is not full-rank?\n",
    "- Probabilistic interpretation"
   ]
  },
  {
   "cell_type": "markdown",
   "metadata": {
    "slideshow": {
     "slide_type": "slide"
    }
   },
   "source": [
    "## Quality measures\n",
    "\n",
    "- Train and test loss\n",
    "- Coefficient of determination $R^2$\n",
    "$$\n",
    "R^2 = 1 - \\frac{S_{res}}{S_{tot}},\n",
    "$$\n",
    "where $S_{res} = \\| y - \\hat{y} \\|^2_2$ and $S_{tot} = \\| y - \\bar{y}\\|^2_2$.\n",
    "Closer to 1, better the model\n",
    "\n",
    "Cons: $R^2$ increases when more features are added\n",
    "\n",
    "- Scikit-learn uses this measure to score the regression model \n",
    "- Attempt to treat the cons: adjusted $R^2$ &mdash; $\\bar{R}^2$\n",
    "$$\n",
    "\\bar{R}^2 = 1 - (1 - R^2) \\frac{n-1}{n-m}\n",
    "$$\n",
    "\n",
    "Here $x \\in \\mathbb{R}^n, y \\in \\mathbb{R}^m$"
   ]
  },
  {
   "cell_type": "markdown",
   "metadata": {
    "slideshow": {
     "slide_type": "slide"
    }
   },
   "source": [
    "### AIC and BIC - the lower the better\n",
    "\n",
    "- Akaike Information Criterion\n",
    "$$\n",
    "AIC = n \\log \\left(\\frac{S_{res}}{n}\\right) + 2m,\n",
    "$$\n",
    "where $n$ is a number of samples, $m$ is a number of features\n",
    "- Bayesian Information Criterion\n",
    "$$\n",
    "BIC = n \\log \\left(\\frac{S_{res}}{n}\\right) + 2m \\log(n)\n",
    "$$"
   ]
  },
  {
   "cell_type": "markdown",
   "metadata": {
    "slideshow": {
     "slide_type": "slide"
    }
   },
   "source": [
    "## Statistical tests\n",
    "\n",
    "- $t$-test\n",
    "\n",
    "Test significance of every feature in explanation of the target vector:\n",
    "\n",
    "$$\n",
    "H_0: w_j = 0 \\quad H_1: w_j \\neq 0\n",
    "$$\n",
    "\n",
    "- $F$-test\n",
    "\n",
    "Test if the linear model is adequate\n",
    "\n",
    "$$\n",
    "H_0: w_1, w_2, \\ldots, w_n = 0 \\quad H_1: \\exists k: \\; w_k \\neq 0 \n",
    "$$\n",
    "\n",
    "- Normality of the residuals"
   ]
  },
  {
   "cell_type": "markdown",
   "metadata": {
    "slideshow": {
     "slide_type": "slide"
    }
   },
   "source": [
    "Again,\n",
    "\n",
    "$$\n",
    "\\|Xw - y\\|_2^2 \\to \\min_w\n",
    "$$\n",
    "\n",
    "Normal equation is the solution:\n",
    "\n",
    "$$\n",
    "w^* = (X^*X)^{-1}X^* y = X^\\dagger y\n",
    "$$\n",
    "\n",
    "Given the solution let's turn it back to the problem:\n",
    "\n",
    "$$\n",
    "\\|X(X^*X)^{-1}X^* y - y\\|_2^2 \\to \\min_w\n",
    "$$\n",
    "\n",
    "$$\n",
    "\\|\\Pi y - y\\|_2^2 \\to \\min_w\n",
    "$$\n",
    "\n",
    "Where $\\Pi = X(X^*X)^{-1}X^*$ is the projector matrix. It means, that least squares is just the projection of $y$ to the linear hull of columns of $X$ :)"
   ]
  },
  {
   "cell_type": "markdown",
   "metadata": {
    "slideshow": {
     "slide_type": "subslide"
    }
   },
   "source": [
    "Let us introduce covariation matrix $\\Sigma = X^* X$ (Note, that if all features are normalized, it is just correlation matrix). \n",
    "What should we do if its condition number $\\mu(\\Sigma) = \\dfrac{\\lambda_{max}}{\\lambda_{min}}$ is huge?"
   ]
  },
  {
   "cell_type": "markdown",
   "metadata": {
    "slideshow": {
     "slide_type": "slide"
    }
   },
   "source": [
    "## Multicollinearity\n",
    "\n",
    "**Definition.** The phenomenon of linear dependencies between features is called *multicollinearity*.\n",
    "\n",
    "**Corollary.** The matrix $X^{\\top}X$ is singular and normal equation can not be solved as it is. \n",
    "\n",
    "**Q:** how to deal with this problem?"
   ]
  },
  {
   "cell_type": "markdown",
   "metadata": {
    "slideshow": {
     "slide_type": "slide"
    }
   },
   "source": [
    "## Regularization\n",
    "\n",
    "**Definition. (not formal)** Regularization is a process of introduction to the model additional information to solve incorrect problems\n",
    "\n",
    "Examples:\n",
    "- improve stability by changing objective function\n",
    "- provide uniqueness of the solution by adding constraints\n",
    "- transform objective function to provide finite solution"
   ]
  },
  {
   "cell_type": "markdown",
   "metadata": {
    "slideshow": {
     "slide_type": "slide"
    }
   },
   "source": [
    "### Tikhonov regularization (Ridge or $\\ell_2$)\n",
    "\n",
    "$$\n",
    "\\min_w \\|Xw - y \\|^2_2 + \\alpha\\|w\\|^2_2, \\quad \\alpha > 0\n",
    "$$\n",
    "\n",
    "The solution changes:\n",
    "\n",
    "$$\n",
    "w^* = (X^*X + \\alpha I)^{-1}X^* y\n",
    "$$\n",
    "\n",
    "All the eugunvalues of $\\Sigma$ now increased to $\\alpha$, but the eigenvectors are still the same. Let us also look to the trace of projection matrix $\\Pi$ under such transformation:\n",
    "\n",
    "Before:\n",
    "$$\n",
    "\\text{tr}\\;\\Pi =\\text{tr}\\; X(X^*X)^{-1}X^* = \\text{tr}\\; X^*X(X^*X)^{-1} = \\text{tr}\\; I = n \n",
    "$$\n",
    "\n",
    "After:\n",
    "$$\n",
    "\\text{tr}\\;\\Pi = \\text{tr}\\; X(X^*X + \\alpha I)^{-1}X^* = \\text{tr}\\; \\text{diag}\\; \\dfrac{\\lambda_i}{\\lambda_i + \\alpha} = \\sum_i \\dfrac{\\lambda_i}{\\lambda_i + \\alpha} \\leq n \n",
    "$$"
   ]
  },
  {
   "cell_type": "markdown",
   "metadata": {
    "slideshow": {
     "slide_type": "slide"
    }
   },
   "source": [
    "#### Lasso ($\\ell_1$)\n",
    "\n",
    "$$\n",
    "\\min_w \\|Xw - y \\|^2_2 + \\alpha\\|w\\|_1, \\quad \\alpha > 0\n",
    "$$\n",
    "\n",
    "Specifics:\n",
    "- nondifferential but convex objective function\n",
    "- relaxation of the $\\ell_0$ \"norm\"\n",
    "- sparse solution"
   ]
  },
  {
   "cell_type": "markdown",
   "metadata": {
    "slideshow": {
     "slide_type": "slide"
    }
   },
   "source": [
    "### Ridge vs. Lasso\n",
    "![](../files/l1_l2.png)"
   ]
  },
  {
   "cell_type": "markdown",
   "metadata": {
    "slideshow": {
     "slide_type": "slide"
    }
   },
   "source": [
    "### Elastic Net\n",
    "\n",
    "$$\n",
    "\\min_w \\|Xw - y \\|^2_2 + \\alpha \\rho\\|w\\|_1 + \\alpha\\frac{1-\\rho}{2}\\| w \\|^2_2, \\quad \\rho \\in [0, 1], \\alpha > 0\n",
    "$$\n",
    "\n",
    "Specifics:\n",
    "- combination of Lasso and Ridge\n",
    "- more stable than Lasso"
   ]
  },
  {
   "cell_type": "markdown",
   "metadata": {
    "slideshow": {
     "slide_type": "slide"
    }
   },
   "source": [
    "### General form of objectives in machine learning\n",
    "$$\n",
    "\\min_w \\ell(w|X, y) + R(w),\n",
    "$$\n",
    "where $\\ell(w|X, y) = \\sum\\limits_{i=1}^m \\ell_i(w|x_i, y_i)$ is a loss function and $R(w)$ is a regulaization term\n",
    "\n",
    "- The objectives of such structure is called *composite* functions.\n",
    "- For this structure there exist special optimization approaches and theory\n",
    "- Since loss is a sum of loss for every sample, *distributed optimization* is active too"
   ]
  },
  {
   "cell_type": "markdown",
   "metadata": {
    "slideshow": {
     "slide_type": "slide"
    }
   },
   "source": [
    "## Probability interpretation\n",
    "\n",
    "- Maximum likelihood estimation\n",
    "- Normal distributed residuals - linear least squares problem\n",
    "- Laplace distributed residuals - MAE minimization\n",
    "- Bayesian methodology - later in the course\n",
    "\n",
    "Let's see to logistic regression example\n"
   ]
  },
  {
   "cell_type": "code",
   "execution_count": 1,
   "metadata": {
    "slideshow": {
     "slide_type": "slide"
    }
   },
   "outputs": [
    {
     "name": "stderr",
     "output_type": "stream",
     "text": [
      "C:\\Users\\brati\\Anaconda3\\lib\\site-packages\\sklearn\\cross_validation.py:41: DeprecationWarning: This module was deprecated in version 0.18 in favor of the model_selection module into which all the refactored classes and functions are moved. Also note that the interface of the new CV iterators are different from that of this module. This module will be removed in 0.20.\n",
      "  \"This module will be removed in 0.20.\", DeprecationWarning)\n"
     ]
    }
   ],
   "source": [
    "import pandas as pd\n",
    "import numpy as np\n",
    "from sklearn import preprocessing\n",
    "import matplotlib.pyplot as plt \n",
    "plt.rc(\"font\", size=14)\n",
    "from sklearn.linear_model import LogisticRegression\n",
    "from sklearn.cross_validation import train_test_split\n",
    "import seaborn as sns\n",
    "sns.set(style=\"white\")\n",
    "sns.set(style=\"whitegrid\", color_codes=True)"
   ]
  },
  {
   "cell_type": "code",
   "execution_count": 2,
   "metadata": {},
   "outputs": [
    {
     "name": "stdout",
     "output_type": "stream",
     "text": [
      "(41188, 21)\n",
      "['age', 'job', 'marital', 'education', 'default', 'housing', 'loan', 'contact', 'month', 'day_of_week', 'duration', 'campaign', 'pdays', 'previous', 'poutcome', 'emp_var_rate', 'cons_price_idx', 'cons_conf_idx', 'euribor3m', 'nr_employed', 'y']\n"
     ]
    }
   ],
   "source": [
    "data = pd.read_csv('../files/banking.csv', header=0)\n",
    "data = data.dropna()\n",
    "print(data.shape)\n",
    "print(list(data.columns))"
   ]
  },
  {
   "cell_type": "code",
   "execution_count": 3,
   "metadata": {},
   "outputs": [
    {
     "data": {
      "image/png": "[encoded data removed]",
      "text/plain": [
       "<matplotlib.figure.Figure at 0x1ce52fbfe80>"
      ]
     },
     "metadata": {},
     "output_type": "display_data"
    }
   ],
   "source": [
    "sns.countplot(x='y',data=data, palette='hls')\n",
    "plt.show()"
   ]
  },
  {
   "cell_type": "code",
   "execution_count": 4,
   "metadata": {},
   "outputs": [
    {
     "data": {
      "text/plain": [
       "age               0\n",
       "job               0\n",
       "marital           0\n",
       "education         0\n",
       "default           0\n",
       "housing           0\n",
       "loan              0\n",
       "contact           0\n",
       "month             0\n",
       "day_of_week       0\n",
       "duration          0\n",
       "campaign          0\n",
       "pdays             0\n",
       "previous          0\n",
       "poutcome          0\n",
       "emp_var_rate      0\n",
       "cons_price_idx    0\n",
       "cons_conf_idx     0\n",
       "euribor3m         0\n",
       "nr_employed       0\n",
       "y                 0\n",
       "dtype: int64"
      ]
     },
     "execution_count": 4,
     "metadata": {},
     "output_type": "execute_result"
    }
   ],
   "source": [
    "data.isnull().sum()"
   ]
  },
  {
   "cell_type": "code",
   "execution_count": 5,
   "metadata": {},
   "outputs": [
    {
     "data": {
      "image/png": "[encoded data removed]",
      "text/plain": [
       "<matplotlib.figure.Figure at 0x1ce533e7b38>"
      ]
     },
     "metadata": {},
     "output_type": "display_data"
    }
   ],
   "source": [
    "sns.countplot(y=\"job\", data=data)\n",
    "plt.show()"
   ]
  },
  {
   "cell_type": "code",
   "execution_count": 6,
   "metadata": {},
   "outputs": [
    {
     "data": {
      "image/png": "[encoded data removed]",
      "text/plain": [
       "<matplotlib.figure.Figure at 0x1ce536b40b8>"
      ]
     },
     "metadata": {},
     "output_type": "display_data"
    }
   ],
   "source": [
    "sns.countplot(x=\"marital\", data=data)\n",
    "plt.show()"
   ]
  },
  {
   "cell_type": "code",
   "execution_count": 7,
   "metadata": {},
   "outputs": [
    {
     "data": {
      "image/png": "[encoded data removed]",
      "text/plain": [
       "<matplotlib.figure.Figure at 0x1ce53abfb00>"
      ]
     },
     "metadata": {},
     "output_type": "display_data"
    }
   ],
   "source": [
    "sns.countplot(x=\"default\", data=data)\n",
    "plt.show()"
   ]
  },
  {
   "cell_type": "code",
   "execution_count": 8,
   "metadata": {},
   "outputs": [
    {
     "data": {
      "image/png": "[encoded data removed]",
      "text/plain": [
       "<matplotlib.figure.Figure at 0x1ce53b34e48>"
      ]
     },
     "metadata": {},
     "output_type": "display_data"
    }
   ],
   "source": [
    "sns.countplot(x=\"housing\", data=data)\n",
    "plt.show()"
   ]
  },
  {
   "cell_type": "code",
   "execution_count": 9,
   "metadata": {},
   "outputs": [
    {
     "data": {
      "image/png": "[encoded data removed]",
      "text/plain": [
       "<matplotlib.figure.Figure at 0x1ce53b4ff98>"
      ]
     },
     "metadata": {},
     "output_type": "display_data"
    }
   ],
   "source": [
    "sns.countplot(x=\"loan\", data=data)\n",
    "plt.show()"
   ]
  },
  {
   "cell_type": "code",
   "execution_count": 10,
   "metadata": {},
   "outputs": [
    {
     "data": {
      "image/png": "[encoded data removed]",
      "text/plain": [
       "<matplotlib.figure.Figure at 0x1ce53b3cba8>"
      ]
     },
     "metadata": {},
     "output_type": "display_data"
    }
   ],
   "source": [
    "sns.countplot(x=\"poutcome\", data=data)\n",
    "plt.show()"
   ]
  },
  {
   "cell_type": "code",
   "execution_count": 11,
   "metadata": {},
   "outputs": [],
   "source": [
    "data.drop(data.columns[[0, 3, 7, 8, 9, 10, 11, 12, 13, 15, 16, 17, 18, 19]], axis=1, inplace=True)"
   ]
  },
  {
   "cell_type": "code",
   "execution_count": 12,
   "metadata": {},
   "outputs": [],
   "source": [
    "data2 = pd.get_dummies(data, columns =['job', 'marital', 'default', 'housing', 'loan', 'poutcome'])"
   ]
  },
  {
   "cell_type": "code",
   "execution_count": 13,
   "metadata": {},
   "outputs": [
    {
     "data": {
      "text/plain": [
       "Index(['y', 'job_admin.', 'job_blue-collar', 'job_entrepreneur',\n",
       "       'job_housemaid', 'job_management', 'job_retired', 'job_self-employed',\n",
       "       'job_services', 'job_student', 'job_technician', 'job_unemployed',\n",
       "       'marital_divorced', 'marital_married', 'marital_single', 'default_no',\n",
       "       'default_yes', 'housing_no', 'housing_yes', 'loan_no', 'loan_yes',\n",
       "       'poutcome_failure', 'poutcome_nonexistent', 'poutcome_success'],\n",
       "      dtype='object')"
      ]
     },
     "execution_count": 13,
     "metadata": {},
     "output_type": "execute_result"
    }
   ],
   "source": [
    "data2.drop(data2.columns[[12, 16, 18, 21, 24]], axis=1, inplace=True)\n",
    "data2.columns"
   ]
  },
  {
   "cell_type": "code",
   "execution_count": 14,
   "metadata": {},
   "outputs": [
    {
     "data": {
      "image/png": "[encoded data removed]",
      "text/plain": [
       "<matplotlib.figure.Figure at 0x1ce536eed30>"
      ]
     },
     "metadata": {},
     "output_type": "display_data"
    }
   ],
   "source": [
    "sns.heatmap(data2.corr())\n",
    "plt.show()"
   ]
  },
  {
   "cell_type": "code",
   "execution_count": 15,
   "metadata": {},
   "outputs": [],
   "source": [
    "X = data2.iloc[:,1:]\n",
    "y = data2.iloc[:,0]\n",
    "X_train, X_test, y_train, y_test = train_test_split(X, y, random_state=0)"
   ]
  },
  {
   "cell_type": "code",
   "execution_count": 16,
   "metadata": {},
   "outputs": [
    {
     "data": {
      "text/plain": [
       "(30891, 23)"
      ]
     },
     "execution_count": 16,
     "metadata": {},
     "output_type": "execute_result"
    }
   ],
   "source": [
    "X_train.shape"
   ]
  },
  {
   "cell_type": "code",
   "execution_count": 17,
   "metadata": {},
   "outputs": [
    {
     "data": {
      "text/plain": [
       "LogisticRegression(C=1.0, class_weight=None, dual=False, fit_intercept=True,\n",
       "          intercept_scaling=1, max_iter=100, multi_class='ovr', n_jobs=1,\n",
       "          penalty='l2', random_state=0, solver='liblinear', tol=0.0001,\n",
       "          verbose=0, warm_start=False)"
      ]
     },
     "execution_count": 17,
     "metadata": {},
     "output_type": "execute_result"
    }
   ],
   "source": [
    "classifier = LogisticRegression(random_state=0)\n",
    "classifier.fit(X_train, y_train)"
   ]
  },
  {
   "cell_type": "code",
   "execution_count": 18,
   "metadata": {},
   "outputs": [
    {
     "name": "stdout",
     "output_type": "stream",
     "text": [
      "[[9046  110]\n",
      " [ 912  229]]\n"
     ]
    }
   ],
   "source": [
    "y_pred = classifier.predict(X_test)\n",
    "from sklearn.metrics import confusion_matrix\n",
    "confusion_matrix = confusion_matrix(y_test, y_pred)\n",
    "print(confusion_matrix)"
   ]
  },
  {
   "cell_type": "code",
   "execution_count": 19,
   "metadata": {},
   "outputs": [
    {
     "name": "stdout",
     "output_type": "stream",
     "text": [
      "Accuracy of logistic regression classifier on test set: 0.90\n"
     ]
    }
   ],
   "source": [
    "print('Accuracy of logistic regression classifier on test set: {:.2f}'.format(classifier.score(X_test, y_test)))"
   ]
  },
  {
   "cell_type": "code",
   "execution_count": 20,
   "metadata": {},
   "outputs": [
    {
     "name": "stdout",
     "output_type": "stream",
     "text": [
      "             precision    recall  f1-score   support\n",
      "\n",
      "          0       0.91      0.99      0.95      9156\n",
      "          1       0.68      0.20      0.31      1141\n",
      "\n",
      "avg / total       0.88      0.90      0.88     10297\n",
      "\n"
     ]
    }
   ],
   "source": [
    "from sklearn.metrics import classification_report\n",
    "print(classification_report(y_test, y_pred))"
   ]
  },
  {
   "cell_type": "code",
   "execution_count": 21,
   "metadata": {},
   "outputs": [
    {
     "data": {
      "image/png": "[encoded data removed]",
      "text/plain": [
       "<matplotlib.figure.Figure at 0x1ce53012dd8>"
      ]
     },
     "metadata": {},
     "output_type": "display_data"
    }
   ],
   "source": [
    "from sklearn.decomposition import PCA\n",
    "X = data2.iloc[:,1:]\n",
    "y = data2.iloc[:,0]\n",
    "pca = PCA(n_components=2).fit_transform(X)\n",
    "X_train, X_test, y_train, y_test = train_test_split(pca, y, random_state=0)\n",
    "\n",
    "plt.figure(dpi=120)\n",
    "plt.scatter(pca[y.values==0,0], pca[y.values==0,1], alpha=0.5, label='YES', s=2, color='navy')\n",
    "plt.scatter(pca[y.values==1,0], pca[y.values==1,1], alpha=0.5, label='NO', s=2, color='darkorange')\n",
    "plt.legend()\n",
    "plt.title('Bank Marketing Data Set\\nFirst Two Principal Components')\n",
    "plt.xlabel('PC1')\n",
    "plt.ylabel('PC2')\n",
    "plt.gca().set_aspect('equal')\n",
    "plt.show()"
   ]
  },
  {
   "cell_type": "code",
   "execution_count": 32,
   "metadata": {},
   "outputs": [],
   "source": [
    "ans = np.linalg.svd(X_test @ X_test.T)"
   ]
  },
  {
   "cell_type": "code",
   "execution_count": 41,
   "metadata": {},
   "outputs": [
    {
     "data": {
      "text/plain": [
       "[<matplotlib.lines.Line2D at 0x1ce53214080>]"
      ]
     },
     "execution_count": 41,
     "metadata": {},
     "output_type": "execute_result"
    },
    {
     "data": {
      "image/png": "[encoded data removed]",
      "text/plain": [
       "<matplotlib.figure.Figure at 0x1ce53b0f048>"
      ]
     },
     "metadata": {},
     "output_type": "display_data"
    }
   ],
   "source": [
    "plt.plot(ans[1][:20])"
   ]
  },
  {
   "cell_type": "code",
   "execution_count": null,
   "metadata": {},
   "outputs": [],
   "source": []
  },
  {
   "cell_type": "code",
   "execution_count": 29,
   "metadata": {},
   "outputs": [
    {
     "data": {
      "text/plain": [
       "(10297, 2)"
      ]
     },
     "execution_count": 29,
     "metadata": {},
     "output_type": "execute_result"
    }
   ],
   "source": [
    "X_test.shape"
   ]
  },
  {
   "cell_type": "markdown",
   "metadata": {
    "slideshow": {
     "slide_type": "slide"
    }
   },
   "source": [
    "### Recap\n",
    "\n",
    "- Quality mesures for regression problem\n",
    "- Multicollinearity and regularization\n",
    "- Probabilistic interpretation"
   ]
  }
 ],
 "metadata": {
  "celltoolbar": "Slideshow",
  "kernelspec": {
   "display_name": "Python 3",
   "language": "python",
   "name": "python3"
  },
  "language_info": {
   "codemirror_mode": {
    "name": "ipython",
    "version": 3
   },
   "file_extension": ".py",
   "mimetype": "text/x-python",
   "name": "python",
   "nbconvert_exporter": "python",
   "pygments_lexer": "ipython3",
   "version": "3.6.4"
  },
  "toc": {
   "nav_menu": {},
   "number_sections": false,
   "sideBar": true,
   "skip_h1_title": false,
   "title_cell": "Table of Contents",
   "title_sidebar": "Contents",
   "toc_cell": false,
   "toc_position": {},
   "toc_section_display": true,
   "toc_window_display": false
  },
  "varInspector": {
   "cols": {
    "lenName": 16,
    "lenType": 16,
    "lenVar": 40
   },
   "kernels_config": {
    "python": {
     "delete_cmd_postfix": "",
     "delete_cmd_prefix": "del ",
     "library": "var_list.py",
     "varRefreshCmd": "print(var_dic_list())"
    },
    "r": {
     "delete_cmd_postfix": ") ",
     "delete_cmd_prefix": "rm(",
     "library": "var_list.r",
     "varRefreshCmd": "cat(var_dic_list()) "
    }
   },
   "types_to_exclude": [
    "module",
    "function",
    "builtin_function_or_method",
    "instance",
    "_Feature"
   ],
   "window_display": false
  }
 },
 "nbformat": 4,
 "nbformat_minor": 2
}
