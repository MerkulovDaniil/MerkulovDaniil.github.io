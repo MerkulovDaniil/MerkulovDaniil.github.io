{
 "cells": [
  {
   "cell_type": "markdown",
   "metadata": {
    "slideshow": {
     "slide_type": "slide"
    }
   },
   "source": [
    "# Lecture 5. Regression introduction"
   ]
  },
  {
   "cell_type": "markdown",
   "metadata": {
    "slideshow": {
     "slide_type": "slide"
    }
   },
   "source": [
    "## Problem statement\n",
    "\n",
    "Assume we have $m$ pairs of measurements $(x_i, y_i)$, where $ x_i \\in \\mathbb{R}^n, \\; y_i \\in \\mathbb{R}^p$. We want to find function $f$, such that \n",
    "$$\n",
    "\\frac{1}{2}\\|f(x_i) - y_i \\|^2_2 \\to \\min\n",
    "$$"
   ]
  },
  {
   "cell_type": "markdown",
   "metadata": {
    "slideshow": {
     "slide_type": "subslide"
    }
   },
   "source": [
    "Assume we have $m$ pairs of measurements $(x_i, y_i)$, where $ x_i \\in \\mathbb{R}^n, \\; y_i \\in \\mathbb{R}^p$. We want to find *parametric* function $f(x, w)$, such that \n",
    "$$\n",
    "\\frac{1}{2}\\|f(x_i, w) - y_i \\|^2_2 \\to \\min_w\n",
    "$$"
   ]
  },
  {
   "cell_type": "markdown",
   "metadata": {
    "slideshow": {
     "slide_type": "slide"
    }
   },
   "source": [
    "## Linear least squares problem\n",
    "\n",
    "Consider the case of linear dependence between $x_i \\in \\mathbb{R}^n$ and $y_i \\in \\mathbb{R}, \\; i = 1,\\ldots, m$.\n",
    "\n",
    "Then\n",
    "$$\n",
    "f(x, w) = x^{\\top}w\n",
    "$$\n",
    "or\n",
    "$$\n",
    "f(X, W) = XW\n",
    "$$\n",
    "Least squares problem is stated as\n",
    "$$\n",
    "L(w|X, y) = \\frac{1}{2}\\sum\\limits_{i=1}^m (x^{\\top}_i w - y_i)^2 = \\frac{1}{2}\\|Xw - y \\|^2_2 \\to \\min_w\n",
    "$$\n",
    "\n",
    "**Note.** Further $m \\geq n$ and $\\mathrm{rank}(X) = n$ except special cases"
   ]
  },
  {
   "cell_type": "markdown",
   "metadata": {
    "heading_collapsed": true,
    "slideshow": {
     "slide_type": "slide"
    }
   },
   "source": [
    "### Normal equation\n",
    "\n",
    "From the first order necessary condition and convexity of the norm we get\n",
    "$$\n",
    "L'(w^* | X, y) = 0 \\Rightarrow (X^{\\top}X)w^* = X^{\\top}y\n",
    "$$\n",
    "or\n",
    "$$\n",
    "w^* = (X^{\\top}X)^{-1}X^{\\top}y = X^+y = X^{\\dagger}y,\n",
    "$$\n",
    "where $X^{\\dagger} = X^+ = (X^{\\top}X)^{-1}X^{\\top}$ - *pseudo-inverse matrix*."
   ]
  },
  {
   "cell_type": "markdown",
   "metadata": {
    "slideshow": {
     "slide_type": "slide"
    }
   },
   "source": [
    "### Direct mehods"
   ]
  },
  {
   "cell_type": "markdown",
   "metadata": {
    "slideshow": {
     "slide_type": "slide"
    }
   },
   "source": [
    "#### Cholesky factorization\n",
    "\n",
    "**Definition.** Any matrix $A \\in \\mathbb{S}^n_{++}$ has unique Cholesky factorization:\n",
    "$$\n",
    "A = LL^{\\top},\n",
    "$$\n",
    "where $L$ &mdash; lower tringular matrix.\n",
    "\n",
    "Algorithm:\n",
    "1. Compute $X^{\\top}X$ and $X^{\\top}y$\n",
    "2. Compute Cholesky factorization of the matrix $X^{\\top}X = LL^\\top$\n",
    "3. Find $w^*$ from the forward and backward substitution\n",
    "$$\n",
    "Ly = X^\\top y\n",
    "$$\n",
    "$$\n",
    "L^\\top w^* = y\n",
    "$$"
   ]
  },
  {
   "cell_type": "markdown",
   "metadata": {
    "slideshow": {
     "slide_type": "slide"
    }
   },
   "source": [
    "### Pro & contra\n",
    "\n",
    "Pro \n",
    "\n",
    "- when $m \\gg n$ storing of $X^{\\top}X$ requires much less memory, than storing $X$\n",
    "- if matrix $X$ is sparse, there exist method, which give sparse Cholesky factor\n",
    "\n",
    "Contra\n",
    "\n",
    "- condition number of $X^{\\top}X$ equals square of the condition number of the matrix $X$. Error is proportional to the condition number.\n",
    "- it's necessary to compute $X^{\\top}X$"
   ]
  },
  {
   "cell_type": "markdown",
   "metadata": {
    "slideshow": {
     "slide_type": "slide"
    }
   },
   "source": [
    "#### QR factorization\n",
    "\n",
    "**Definition.** Any matrix $A \\in \\mathbb{R}^{m \\times n}$ can be represented in the form \n",
    "$$\n",
    "A = QR,\n",
    "$$\n",
    "where $Q \\in \\mathbb{R}^{m \\times m}$ is unitary, and $R \\in \\mathbb{R}^{m \\times n}$ is rectangular upper triangular."
   ]
  },
  {
   "cell_type": "markdown",
   "metadata": {
    "slideshow": {
     "slide_type": "slide"
    }
   },
   "source": [
    "#### Application\n",
    "\n",
    "1. Compute QR factorization of the matrix $X$: $X = QR$.\n",
    "2. $Q = [Q_1, Q_2]$, $Q_1 \\in \\mathbb{R}^{m \\times n}$,\n",
    "$R = \n",
    "\\begin{bmatrix}\n",
    "R_1\\\\\n",
    "0\n",
    "\\end{bmatrix}$,\n",
    "$R_1 \\in \\mathbb{R}^{n \\times n}$ - square upper triangular matrix\n",
    "2. The problem is reformulated as: \n",
    "$$\n",
    "\\|R_1w - Q_1^{\\top}y \\|^2_2 \\to \\min_w\n",
    "$$\n",
    "and normal equation\n",
    "$$\n",
    "R_1w^* = Q_1^{\\top}y\n",
    "$$\n",
    "We get linear system with square upper triangular matrix, which is easily solved by backward substitution."
   ]
  },
  {
   "cell_type": "markdown",
   "metadata": {
    "slideshow": {
     "slide_type": "slide"
    }
   },
   "source": [
    "### Pro & contra\n",
    "\n",
    "Pro \n",
    "\n",
    "- error is proportional to the condition number of the matrix $X$, but not $X^{\\top}X$\n",
    "- more stable than one is based on the Cholesky factorization\n",
    "\n",
    "Contra\n",
    "\n",
    "- we can not control the stability of the solution"
   ]
  },
  {
   "cell_type": "markdown",
   "metadata": {
    "slideshow": {
     "slide_type": "slide"
    }
   },
   "source": [
    "#### SVD\n",
    "\n",
    "**Definition.** Any matrix $A \\in \\mathbb{R}^{m \\times n}$ can be represented in the form\n",
    "$$\n",
    "A = U\\widehat{\\Sigma} V^* = [U_1, U_2] \\begin{bmatrix} \\Sigma\\\\ 0 \\end{bmatrix} V^*,\n",
    "$$\n",
    "where $U \\in \\mathbb{R}^{m \\times m}$ is unitary, $U_1 \\in \\mathbb{R}^{m \\times n}$, $\\Sigma = \\mathrm{diag}(\\sigma_1, \\ldots, \\sigma_n) \\in \\mathbb{R}^{n \\times n}$ is diagonal with singular values $\\sigma_i$ on the diagonal, and $V \\in \\mathbb{R}^{n \\times n}$ is unitary."
   ]
  },
  {
   "cell_type": "markdown",
   "metadata": {
    "slideshow": {
     "slide_type": "slide"
    }
   },
   "source": [
    "#### Application\n",
    "\n",
    "$$\n",
    "\\| Xw - y\\|^2_2 = \\left\\| \\begin{bmatrix} \\Sigma \\\\ 0 \\end{bmatrix} V^* w - \\begin{bmatrix} U_1^{\\top} \\\\ U_2^{\\top} \\end{bmatrix}y \\right\\|^2_2 \\sim \\| \\Sigma V^* w - U_1^{\\top}y \\|^2_2\n",
    "$$\n",
    "Solution of the linear system with **square** matrix:\n",
    "$$\n",
    "w^* = V\\Sigma^{-1}U_1^{\\top}y = \\sum\\limits_{i=1}^n \\frac{u_i^{\\top}y}{\\sigma_i} v_i,\n",
    "$$\n",
    "where $v_i$ и $u_i$ are columns of the matrices $V$ and $U_1$ "
   ]
  },
  {
   "cell_type": "markdown",
   "metadata": {
    "slideshow": {
     "slide_type": "slide"
    }
   },
   "source": [
    "### Pro & contra\n",
    "\n",
    "Pro \n",
    "\n",
    "- effect of the perturbation in $y$\n",
    "- stability control: small singular values can be discarded\n",
    "- if the matrix is close to singular, then only SVD shows this\n",
    "\n",
    "Contra\n",
    "\n",
    "- SVD computation is more computationally expensive than compuations of Cholesky and QR factorization"
   ]
  },
  {
   "cell_type": "markdown",
   "metadata": {
    "slideshow": {
     "slide_type": "slide"
    }
   },
   "source": [
    "### Experiments"
   ]
  },
  {
   "cell_type": "code",
   "execution_count": 1,
   "metadata": {
    "slideshow": {
     "slide_type": "fragment"
    }
   },
   "outputs": [
    {
     "name": "stdout",
     "output_type": "stream",
     "text": [
      "1.0030071923378466e-05\n"
     ]
    }
   ],
   "source": [
    "import numpy as np\n",
    "\n",
    "n = 1000\n",
    "m = 2 * n\n",
    "X = np.random.randn(m, n)\n",
    "w = np.random.randn(n)\n",
    "y = X.dot(w) + 1e-5 * np.random.randn(m)\n",
    "\n",
    "w_est = np.linalg.solve(X.T.dot(X), X.T.dot(y))\n",
    "print(np.linalg.norm(w - w_est))"
   ]
  },
  {
   "cell_type": "code",
   "execution_count": 2,
   "metadata": {
    "slideshow": {
     "slide_type": "fragment"
    }
   },
   "outputs": [],
   "source": [
    "import scipy.linalg as sclin\n",
    "import scipy.sparse.linalg as scsplin\n",
    "\n",
    "def CholSolve(X, y):\n",
    "    res = sclin.cho_factor(X.T.dot(X), lower=True)\n",
    "    return sclin.cho_solve(res, X.T.dot(y))\n",
    "\n",
    "def QRSolve(X, y):\n",
    "    Q, R = sclin.qr(X)\n",
    "    return sclin.solve_triangular(R[:R.shape[1], :], Q[:, :R.shape[1]].T.dot(y))\n",
    "\n",
    "def SVDSolve(X, y):\n",
    "    U, s, V = sclin.svd(X, full_matrices=False)    \n",
    "    return V.T.dot(np.diagflat(1.0 / s).dot(U.T.dot(y)))\n",
    "\n",
    "def CGSolve(X, y):\n",
    "    def mv(x):\n",
    "        return X.T.dot(X.dot(x))\n",
    "    LA = scsplin.LinearOperator((X.shape[1], X.shape[1]), matvec=mv)\n",
    "    w, _ = scsplin.cg(LA, X.T.dot(y), tol=1e-10)\n",
    "    return w\n",
    "\n",
    "def NPSolve(X, y):\n",
    "    return np.linalg.solve(X.T.dot(X), X.T.dot(y))\n",
    "\n",
    "def LSQRSolve(X, y):\n",
    "    res = scsplin.lsqr(X, y)\n",
    "    return res[0]"
   ]
  },
  {
   "cell_type": "code",
   "execution_count": 3,
   "metadata": {
    "slideshow": {
     "slide_type": "slide"
    }
   },
   "outputs": [
    {
     "name": "stdout",
     "output_type": "stream",
     "text": [
      "1.0030071920730699e-05\n",
      "1.0030071923648048e-05\n",
      "1.003007192053839e-05\n",
      "1.0029690000495502e-05\n",
      "1.0030071923378466e-05\n",
      "1.0030071972600035e-05\n"
     ]
    }
   ],
   "source": [
    "w_chol = CholSolve(X, y)\n",
    "print(np.linalg.norm(w - w_chol))\n",
    "w_qr = QRSolve(X, y)\n",
    "print(np.linalg.norm(w - w_qr))\n",
    "w_svd = SVDSolve(X, y)\n",
    "print(np.linalg.norm(w - w_svd))\n",
    "w_cg = CGSolve(X, y)\n",
    "print(np.linalg.norm(w - w_cg))\n",
    "w_np = NPSolve(X, y)\n",
    "print(np.linalg.norm(w - w_np))\n",
    "w_lsqr = LSQRSolve(X, y)\n",
    "print(np.linalg.norm(w - w_lsqr))"
   ]
  },
  {
   "cell_type": "code",
   "execution_count": 5,
   "metadata": {
    "scrolled": true,
    "slideshow": {
     "slide_type": "slide"
    }
   },
   "outputs": [
    {
     "name": "stdout",
     "output_type": "stream",
     "text": [
      "84.1 ms ± 1.06 ms per loop (mean ± std. dev. of 7 runs, 10 loops each)\n",
      "606 ms ± 12.1 ms per loop (mean ± std. dev. of 7 runs, 1 loop each)\n",
      "1.26 s ± 133 ms per loop (mean ± std. dev. of 7 runs, 1 loop each)\n",
      "175 ms ± 1.91 ms per loop (mean ± std. dev. of 7 runs, 10 loops each)\n",
      "95.7 ms ± 2.41 ms per loop (mean ± std. dev. of 7 runs, 10 loops each)\n",
      "250 ms ± 9.4 ms per loop (mean ± std. dev. of 7 runs, 1 loop each)\n"
     ]
    }
   ],
   "source": [
    "%timeit w_chol = CholSolve(X, y)\n",
    "%timeit w_qr = QRSolve(X, y)\n",
    "%timeit w_svd = SVDSolve(X, y)\n",
    "%timeit w_cg = CGSolve(X, y)\n",
    "%timeit w_np = NPSolve(X, y)\n",
    "%timeit w_lsqr = LSQRSolve(X, y)"
   ]
  },
  {
   "cell_type": "code",
   "execution_count": 6,
   "metadata": {
    "slideshow": {
     "slide_type": "slide"
    }
   },
   "outputs": [],
   "source": [
    "%matplotlib inline\n",
    "import time\n",
    "import matplotlib.pyplot as plt\n",
    "import seaborn as sns\n",
    "sns.set()\n",
    "n = [10, 50, 100, 1000, 2000, 3000, 5000]\n",
    "chol_time = []\n",
    "qr_time = []\n",
    "svd_time = []\n",
    "cg_time = []\n",
    "np_time = []\n",
    "lsqr_time = []\n",
    "for dim in n:\n",
    "    m = int(1.5 * dim)\n",
    "    X = np.random.randn(m, dim)\n",
    "    w = np.random.randn(dim)\n",
    "    y = X.dot(w) + 1e-5 * np.random.randn(m)\n",
    "    st = time.time()\n",
    "    w_chol = CholSolve(X, y)\n",
    "    chol_time.append(time.time() - st)\n",
    "    st = time.time()\n",
    "    w_qr = QRSolve(X, y)\n",
    "    qr_time.append(time.time() - st)\n",
    "    st = time.time()\n",
    "    w_svd = SVDSolve(X, y)\n",
    "    svd_time.append(time.time() - st)\n",
    "    st = time.time()\n",
    "    w_cg = CGSolve(X, y)\n",
    "    cg_time.append(time.time() - st)\n",
    "    st = time.time()\n",
    "    w_np = NPSolve(X, y)\n",
    "    np_time.append(time.time() - st)\n",
    "    st = time.time()\n",
    "    w_lsqr = LSQRSolve(X, y)\n",
    "    lsqr_time.append(time.time() - st)"
   ]
  },
  {
   "cell_type": "code",
   "execution_count": 7,
   "metadata": {
    "slideshow": {
     "slide_type": "slide"
    }
   },
   "outputs": [
    {
     "data": {
      "image/png": "[encoded data removed]",
      "text/plain": [
       "<matplotlib.figure.Figure at 0x18c8a221be0>"
      ]
     },
     "metadata": {},
     "output_type": "display_data"
    }
   ],
   "source": [
    "plt.figure(figsize=(10,8))\n",
    "plt.plot(n, chol_time, linewidth=5, label=\"Cholesky\")\n",
    "plt.plot(n, qr_time, linewidth=5, label=\"QR\")\n",
    "plt.plot(n, svd_time, linewidth=5, label=\"SVD\")\n",
    "plt.plot(n, cg_time, linewidth=5, label=\"CG\")\n",
    "plt.plot(n, np_time, linewidth=5, label=\"Numpy\")\n",
    "plt.plot(n, lsqr_time, linewidth=5, label=\"LSQR\")\n",
    "plt.legend(loc=\"best\", fontsize=20)\n",
    "plt.xscale(\"log\")\n",
    "plt.yscale(\"log\")\n",
    "plt.xlabel(r\"Dimension\", fontsize=20)\n",
    "plt.ylabel(r\"Time, sec.\", fontsize=20)\n",
    "plt.xticks(fontsize = 20)\n",
    "_ = plt.yticks(fontsize = 20)"
   ]
  },
  {
   "cell_type": "markdown",
   "metadata": {
    "slideshow": {
     "slide_type": "slide"
    }
   },
   "source": [
    "## Nonlinear least squares problem (J. Nocedal, S. Wright Numerical Optimization, Ch. 10)\n",
    "\n",
    "**Q:** what if we want model measures of a nonlinear function $f(x, w)$?\n",
    "\n",
    "**A:** we can use methods of nonlinear optimization!\n",
    "\n",
    "**BUT!** We have not analytical solution. Therefore, we have to use iterative methods!"
   ]
  },
  {
   "cell_type": "markdown",
   "metadata": {
    "slideshow": {
     "slide_type": "slide"
    }
   },
   "source": [
    "### Gauss-Newton method\n",
    "\n",
    "$$\n",
    "S = \\frac{1}{2}\\| f(X, w) - y\\|^2_2 = \\frac{1}{2}\\|r(w)\\|_2^2 \\to \\min_w\n",
    "$$\n",
    "$$\n",
    "S' = \\sum_{i=1}^m r_i(w)r_i'(w) = J^{\\top}(w)r(w), \n",
    "$$\n",
    "where $J$ is Jacobi matrix of the residual $r(w)$\n",
    "\\begin{equation*}\n",
    "\\begin{split}\n",
    "S''(w) = & \\sum_{i=1}^m r_i'(w)r_i'(w) + \\sum_{i=1}^m r_i(w)r_i''(w) \\\\\n",
    "= & J^{\\top}(w)J(w) + \\sum_{i=1}^m r_i(w)r_i''(w)\n",
    "\\end{split}\n",
    "\\end{equation*}"
   ]
  },
  {
   "cell_type": "markdown",
   "metadata": {
    "slideshow": {
     "slide_type": "slide"
    }
   },
   "source": [
    "#### Newton method\n",
    "$$\n",
    "S''(w_k)h_{k+1} = -J^{\\top}(w_k)r(w_k)\n",
    "$$\n",
    "\n",
    "$$\n",
    "\\left(J^{\\top}(w_k)J(w_k) + \\sum_{i=1}^m r_i(w_k)r_i''(w_k)\\right) h_{k+1} = -J^{\\top}(w_k)r(w_k)\n",
    "$$\n",
    "\n",
    "**Q:** what is changed if we add \"Gauss\" in the algorithm name?"
   ]
  },
  {
   "cell_type": "markdown",
   "metadata": {
    "slideshow": {
     "slide_type": "slide"
    }
   },
   "source": [
    "#### Gauss-Newton method\n",
    "$$\n",
    "\\left(J^{\\top}(w_k)J(w_k)\\right) h_{k+1} = -J^{\\top}(w_k)r(w_k)\n",
    "$$\n",
    "\n",
    "**Note:** step size in this method is defined by line search method according to  any of the previuosly described rules."
   ]
  },
  {
   "cell_type": "markdown",
   "metadata": {
    "slideshow": {
     "slide_type": "slide"
    }
   },
   "source": [
    "#### Convergence theorem\n",
    "\n",
    "**Theorem.** Assume the residuals $r_i(w)$ are bounded, its gradients are Lipschitz, and the Jacobi matrix $J$ is full-rank. Then\n",
    "$$\n",
    "\\lim_{k \\to \\infty} J^{\\top}(w_k)r_k = 0,\n",
    "$$\n",
    "if the step size is chosen according to Armijo and strong Wolf conditions."
   ]
  },
  {
   "cell_type": "markdown",
   "metadata": {
    "slideshow": {
     "slide_type": "slide"
    }
   },
   "source": [
    "#### Speed of convergence\n",
    "\n",
    "$$\n",
    "\\|w_{k+1} - w^* \\|_2 \\leq \\| (J^{\\top}J(w^*))^{-1}H(w^*)\\| \\|w_k - w^* \\|_2 + O(\\|w_k - w^* \\|^2_2)\n",
    "$$\n",
    "\n",
    "- It depends on the ratio between $J^{\\top}J$ и $H(w_k) = \\sum\\limits_{i=1}^m r_i(w_k)r_i''(w_k)$\n",
    "- The smaller $\\| (J^{\\top}J(w^*))^{-1}H(w^*) \\|$, the faster convergence\n",
    "- If $H(w^*) = 0$, then convergence is locally quadratic"
   ]
  },
  {
   "cell_type": "markdown",
   "metadata": {
    "slideshow": {
     "slide_type": "slide"
    }
   },
   "source": [
    "#### The case fo the large residuals\n",
    "\n",
    "- In that case we can not discard $H(w_k)$\n",
    "- It indicates that the chosen model $f(X, w)$ is not adequate for given data\n",
    "- It requires *hybrid* algorithms, that work as Gauss Newton method in the case of small residuals and as Newton or Quasi-Newton methods in the case of large residuals"
   ]
  },
  {
   "cell_type": "markdown",
   "metadata": {
    "slideshow": {
     "slide_type": "slide"
    }
   },
   "source": [
    "### Pro & contra\n",
    "\n",
    "Pro\n",
    "\n",
    "- computation of the hessian $r''(w)$ is not required\n",
    "- from Jacobi matrix to hessian approximation\n",
    "- hessian approximation often is accurate\n",
    "- in the case of matrix Jacobi has full rank, it is guaranteed that obtained direction is descent direction\n",
    "- it has interpretation as linearization of the function $f(x, w)$ near stationary point\n",
    "\n",
    "Contra\n",
    "\n",
    "- hessian approximation may be inaccurate \n",
    "- if matrix $J^{\\top}J$ is close to singular, the solution is not stable, and even convergence is not guaranteed"
   ]
  },
  {
   "cell_type": "markdown",
   "metadata": {
    "slideshow": {
     "slide_type": "slide"
    }
   },
   "source": [
    "### Levenberg-Marquardt method"
   ]
  },
  {
   "cell_type": "markdown",
   "metadata": {
    "slideshow": {
     "slide_type": "slide"
    }
   },
   "source": [
    "#### What problems do we have now?\n",
    "\n",
    "- Newton method gives **locally** but **quadratic** convergence\n",
    "- Singularity of hessian or its approximation leads to unstability of the solution\n",
    "- Gradient descent converges to stationary point from **any** starting guess, but only **linear**"
   ]
  },
  {
   "cell_type": "markdown",
   "metadata": {
    "slideshow": {
     "slide_type": "slide"
    }
   },
   "source": [
    "#### How to solve these problems? At least partially..."
   ]
  },
  {
   "cell_type": "markdown",
   "metadata": {
    "slideshow": {
     "slide_type": "fragment"
    }
   },
   "source": [
    "**Idea:** separate spectrum of the hessian from zero by auxilliary item in the form $\\lambda I$\n",
    "\n",
    "Levenberg-Marquardt method:\n",
    "$$\n",
    "(f''(x_k) + \\lambda_k I)h_k = -f'(x_k), \\qquad \\lambda_k > 0\n",
    "$$"
   ]
  },
  {
   "cell_type": "markdown",
   "metadata": {
    "slideshow": {
     "slide_type": "slide"
    }
   },
   "source": [
    "### Why is it a good idea?"
   ]
  },
  {
   "cell_type": "markdown",
   "metadata": {
    "slideshow": {
     "slide_type": "fragment"
    }
   },
   "source": [
    "- In the case of $\\lambda_k \\to 0$ the method works as Newton method\n",
    "- In the case of $\\lambda_k \\to \\infty$ the method works as gradient descent\n",
    "- The item $\\lambda_k I$ is an estimate of $H(w_k)$ in the Gauss-Newton method\n",
    "- If the estimate of the hessian $J^{\\top}J$ is sparse, then addition of $\\lambda_k I$ does not violate sparsity of the hessian estimate"
   ]
  },
  {
   "cell_type": "markdown",
   "metadata": {
    "slideshow": {
     "slide_type": "slide"
    }
   },
   "source": [
    "### But we still have one problem...."
   ]
  },
  {
   "cell_type": "markdown",
   "metadata": {
    "slideshow": {
     "slide_type": "fragment"
    }
   },
   "source": [
    "There are a lot of strategies of choosing $\\lambda_k$. The general idea is similar to backtracking:\n",
    "\n",
    "- set some initial value\n",
    "- if the function deacresing is large enough, then the method is in the region where quadratic approximation is good. Therefore, we can decrease parameter\n",
    "- if decreasing is not enough large, then  increase $\\lambda_k$, resolve the problem, get new direction $h_k$ and check it"
   ]
  },
  {
   "cell_type": "markdown",
   "metadata": {
    "slideshow": {
     "slide_type": "slide"
    }
   },
   "source": [
    "#### Convergence\n",
    "\n",
    "- Proofs of convergence is difficult because of various strategies of defining $\\lambda_k$\n",
    "- It is guaranteed convergence to the stationary point if the curvature of the function is modeled adequately in every point"
   ]
  },
  {
   "cell_type": "markdown",
   "metadata": {
    "slideshow": {
     "slide_type": "slide"
    }
   },
   "source": [
    "### Pro & Contra\n",
    "\n",
    "Pro\n",
    "\n",
    "- combination of pro's of previously studied methods\n",
    "- automatic adaptation to the gradient descent method and Newton method\n",
    "- better version of Gauss - Newton method\n",
    "- Hessian estimation still preserves sparsity\n",
    "- standard technique of solving non linear least squares [[1]](https://en.wikipedia.org/wiki/Levenberg–Marquardt_algorithm#Implementations)\n",
    "\n",
    "Contra\n",
    "\n",
    "- lack of universal strategy for choosing $\\lambda$\n",
    "- convergence depends on choice of $\\lambda_k$"
   ]
  },
  {
   "cell_type": "markdown",
   "metadata": {
    "slideshow": {
     "slide_type": "slide"
    }
   },
   "source": [
    "## Recap\n",
    "\n",
    "1. Least squares problem\n",
    "2. Algorithms for the linear case\n",
    "3. Algorithms for the nonlinear case"
   ]
  }
 ],
 "metadata": {
  "celltoolbar": "Slideshow",
  "kernelspec": {
   "display_name": "Python 3",
   "language": "python",
   "name": "python3"
  },
  "language_info": {
   "codemirror_mode": {
    "name": "ipython",
    "version": 3
   },
   "file_extension": ".py",
   "mimetype": "text/x-python",
   "name": "python",
   "nbconvert_exporter": "python",
   "pygments_lexer": "ipython3",
   "version": "3.6.4"
  },
  "toc": {
   "nav_menu": {},
   "number_sections": false,
   "sideBar": true,
   "skip_h1_title": false,
   "title_cell": "Table of Contents",
   "title_sidebar": "Contents",
   "toc_cell": false,
   "toc_position": {},
   "toc_section_display": true,
   "toc_window_display": false
  },
  "varInspector": {
   "cols": {
    "lenName": 16,
    "lenType": 16,
    "lenVar": 40
   },
   "kernels_config": {
    "python": {
     "delete_cmd_postfix": "",
     "delete_cmd_prefix": "del ",
     "library": "var_list.py",
     "varRefreshCmd": "print(var_dic_list())"
    },
    "r": {
     "delete_cmd_postfix": ") ",
     "delete_cmd_prefix": "rm(",
     "library": "var_list.r",
     "varRefreshCmd": "cat(var_dic_list()) "
    }
   },
   "types_to_exclude": [
    "module",
    "function",
    "builtin_function_or_method",
    "instance",
    "_Feature"
   ],
   "window_display": false
  }
 },
 "nbformat": 4,
 "nbformat_minor": 2
}
