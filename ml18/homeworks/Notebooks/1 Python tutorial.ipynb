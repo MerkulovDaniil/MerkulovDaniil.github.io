{
 "cells": [
  {
   "cell_type": "markdown",
   "metadata": {},
   "source": [
    "# Python tutorial\n",
    "(It is inspired by [this tutorial](https://github.com/kuleshov/cs228-material/blob/master/tutorials/python/cs228-python-tutorial.ipynb) and [this tutorial](https://github.com/oseledets/nla2016/blob/master/lectures/Python_Intro.ipynb))"
   ]
  },
  {
   "cell_type": "markdown",
   "metadata": {},
   "source": [
    "## Basics of Python"
   ]
  },
  {
   "cell_type": "markdown",
   "metadata": {},
   "source": [
    "### Some facts and references"
   ]
  },
  {
   "cell_type": "markdown",
   "metadata": {},
   "source": [
    "- Python developing was started in the late 1980s by [Guido van Rossum](https://gvanrossum.github.io/), who worked at CWI institute, Amsterdam. Now he works at Dropbox.\n",
    "![](../files/van.jpg)\n",
    "- The author called the language in honor of popular British comedy show \"Monty Pythons Flying Circus\"\n",
    "![](../files/MontyPythonsFlyingCircus.png)\n",
    "- Dynamic type system (PHP, Ruby, Javascript, Erlang, etc) vs. static type system (C/C++, Pascal, Java, etc)\n",
    "- Support multiple programming paradigms\n",
    "    - object-oriented\n",
    "    - imperative \n",
    "    - functional programming \n",
    "    - procedural\n",
    "- Python usage in industry and academia:\n",
    "    - Dropbox was written in Python\n",
    "    - Google: YouTube, YouTube API and others were written in Python\n",
    "    - Facebook\n",
    "    - SciPy stack replaces proprietary tools for scientific computing (MATLAB, Mathemathica)\n",
    "    - scikit-learn is a popular library for machine learning\n",
    "    - Web-development\n",
    "    - Pandas is a popular tool for data processing"
   ]
  },
  {
   "cell_type": "markdown",
   "metadata": {},
   "source": [
    "#### References\n",
    "\n",
    "* The Hitchhiker’s Guide to Python:\n",
    "http://docs.python-guide.org/en/latest/\n",
    "\n",
    "* Hard way is easier: http://learnpythonthehardway.org\n",
    "\n",
    "* Python crash course from Google:\n",
    "https://developers.google.com/edu/python/\n",
    "\n",
    "* Official tutorial:\n",
    "https://docs.python.org/2/tutorial/\n",
    "\n",
    "* Python Tutor - code visualization (developed by MIT):\n",
    "http://pythontutor.com/\n",
    "\n",
    "* If you feel lost: https://www.codecademy.com/en/tracks/python\n",
    "\n",
    "* Related course in HSE [here](http://math-info.hse.ru/2015-16/%D0%9F%D1%80%D0%BE%D0%B3%D1%80%D0%B0%D0%BC%D0%BC%D0%B8%D1%80%D0%BE%D0%B2%D0%B0%D0%BD%D0%B8%D0%B5_%D0%BD%D0%B0_%D1%8F%D0%B7%D1%8B%D0%BA%D0%B5_Python_%D0%B4%D0%BB%D1%8F_%D1%81%D0%B1%D0%BE%D1%80%D0%B0_%D0%B8_%D0%B0%D0%BD%D0%B0%D0%BB%D0%B8%D0%B7%D0%B0_%D0%B4%D0%B0%D0%BD%D0%BD%D1%8B%D1%85)"
   ]
  },
  {
   "cell_type": "markdown",
   "metadata": {},
   "source": [
    "#### Advanced references\n",
    "* Al Sweigart, \"Automate the Boring Stuff with Python\", https://automatetheboringstuff.com\n",
    "* Mark Lutz, \"Python Pocket Reference\" (250 pages)\n",
    "* Mark Lutz, \"Learning Python\" (1600 pages!)"
   ]
  },
  {
   "cell_type": "markdown",
   "metadata": {},
   "source": [
    "#### The Zen of Python, by Tim Peters"
   ]
  },
  {
   "cell_type": "code",
   "execution_count": 185,
   "metadata": {},
   "outputs": [
    {
     "name": "stdout",
     "output_type": "stream",
     "text": [
      "The Zen of Python, by Tim Peters\n",
      "\n",
      "Beautiful is better than ugly.\n",
      "Explicit is better than implicit.\n",
      "Simple is better than complex.\n",
      "Complex is better than complicated.\n",
      "Flat is better than nested.\n",
      "Sparse is better than dense.\n",
      "Readability counts.\n",
      "Special cases aren't special enough to break the rules.\n",
      "Although practicality beats purity.\n",
      "Errors should never pass silently.\n",
      "Unless explicitly silenced.\n",
      "In the face of ambiguity, refuse the temptation to guess.\n",
      "There should be one-- and preferably only one --obvious way to do it.\n",
      "Although that way may not be obvious at first unless you're Dutch.\n",
      "Now is better than never.\n",
      "Although never is often better than *right* now.\n",
      "If the implementation is hard to explain, it's a bad idea.\n",
      "If the implementation is easy to explain, it may be a good idea.\n",
      "Namespaces are one honking great idea -- let's do more of those!\n"
     ]
    }
   ],
   "source": [
    "import this"
   ]
  },
  {
   "cell_type": "markdown",
   "metadata": {},
   "source": [
    "#### How to write code\n",
    "\n",
    "- First of all your code has to be readable!\n",
    "    - Other people can easily understand what your code means and what operations it performs\n",
    "    - Variable, function and class names have to be meaningful\n",
    "    - Style of your code has to be consistent: formatting, spaces, etc\n",
    "\n",
    "- Style giudes:\n",
    "    - [PEP8](http://legacy.python.org/dev/peps/pep-0008/) (PEP = Python Enhancement Proposal)\n",
    "    - [Google Python style guide](https://google.github.io/styleguide/pyguide.html)\n",
    "    - write idiomatic code http://python.net/~goodger/projects/pycon/2007/idiomatic/handout.html"
   ]
  },
  {
   "cell_type": "markdown",
   "metadata": {},
   "source": [
    "#### Python installation\n",
    "\n",
    "- In this course we will use [Python 3.6 from Anaconda distribution](https://www.anaconda.com/download/)\n",
    "- Install it if you didn't do it earlier"
   ]
  },
  {
   "cell_type": "markdown",
   "metadata": {},
   "source": [
    "#### Python 2 vs. Python 3\n",
    "\n",
    "Check your Python version:\n",
    "```bash\n",
    "python --version\n",
    "```\n",
    "This course uses Python 3\n",
    "\n",
    "Main changes in Python 3\n",
    "\n",
    "- Key word ```print``` becomes function\n",
    "- ```xrange()``` is replaced by ```range()```\n",
    "- Integer division\n",
    "- Some methods return iterators, not lists\n",
    "- Support Unicode"
   ]
  },
  {
   "cell_type": "markdown",
   "metadata": {},
   "source": [
    "### Data types"
   ]
  },
  {
   "cell_type": "markdown",
   "metadata": {},
   "source": [
    "- Number\n",
    "- String\n",
    "- Booleans"
   ]
  },
  {
   "cell_type": "markdown",
   "metadata": {},
   "source": [
    "#### Numbers\n",
    "\n",
    "- Float \n",
    "- Complex"
   ]
  },
  {
   "cell_type": "code",
   "execution_count": 3,
   "metadata": {},
   "outputs": [
    {
     "name": "stdout",
     "output_type": "stream",
     "text": [
      "15\n",
      "9\n",
      "36\n",
      "531441\n",
      "0.25\n",
      "0\n",
      "2\n",
      "3.4641016151377544\n"
     ]
    }
   ],
   "source": [
    "import math\n",
    "\n",
    "a = 12\n",
    "b = 3\n",
    "print(a + b)\n",
    "print(a - b)\n",
    "print(a * b)\n",
    "print(b**a)\n",
    "print(b / a)\n",
    "print(b // a)\n",
    "print(a % 5)\n",
    "print(math.sqrt(12))"
   ]
  },
  {
   "cell_type": "code",
   "execution_count": 4,
   "metadata": {},
   "outputs": [
    {
     "name": "stdout",
     "output_type": "stream",
     "text": [
      "(3+3j)\n",
      "1.4142135623730951\n",
      "4j\n",
      "(-1-1j)\n",
      "(-0.3244472096893367+1.2481068139109326j)\n"
     ]
    }
   ],
   "source": [
    "a = 1 + 1j\n",
    "b = 2 + 2j\n",
    "print(a + b)\n",
    "print(abs(a))\n",
    "print(a * b)\n",
    "print(a - b)\n",
    "print(b**a)"
   ]
  },
  {
   "cell_type": "markdown",
   "metadata": {},
   "source": [
    "- No unary operaors ++ and --"
   ]
  },
  {
   "cell_type": "code",
   "execution_count": 5,
   "metadata": {},
   "outputs": [
    {
     "name": "stdout",
     "output_type": "stream",
     "text": [
      "(3+3j) (2+2j)\n",
      "(1+1j) (2+2j)\n",
      "4j (2+2j)\n",
      "(1+1j)\n"
     ]
    }
   ],
   "source": [
    "a += b\n",
    "print(a, b)\n",
    "a-= b\n",
    "print(a, b)\n",
    "a *= b\n",
    "print(a, b)\n",
    "a /= b\n",
    "print(a)"
   ]
  },
  {
   "cell_type": "code",
   "execution_count": 6,
   "metadata": {},
   "outputs": [
    {
     "name": "stdout",
     "output_type": "stream",
     "text": [
      "1.0\n",
      "4.810477380965351\n",
      "6.123233995736766e-17\n",
      "1.633123935319537e+16\n",
      "1.2533141373155001\n"
     ]
    }
   ],
   "source": [
    "import numpy as np\n",
    "\n",
    "x = np.pi / 2\n",
    "print(np.sin(x))\n",
    "print(np.exp(x))\n",
    "print(np.cos(x))\n",
    "print(np.tan(x))\n",
    "print(np.sqrt(x))"
   ]
  },
  {
   "cell_type": "markdown",
   "metadata": {},
   "source": [
    "#### String\n",
    "\n",
    "- Immutable type\n",
    "- Sequence of symbols\n",
    "- Indexing and slicing"
   ]
  },
  {
   "cell_type": "code",
   "execution_count": 7,
   "metadata": {},
   "outputs": [
    {
     "name": "stdout",
     "output_type": "stream",
     "text": [
      "Moscow State University\n",
      "M\n",
      "ow State University\n",
      "Mosco\n",
      "scow Sta\n",
      "so t\n"
     ]
    }
   ],
   "source": [
    "mystring = \"Moscow State University\"\n",
    "print(mystring)\n",
    "print(mystring[0])\n",
    "print(mystring[4:])\n",
    "print(mystring[:5])\n",
    "print(mystring[2:10])\n",
    "print(mystring[2:10:2])"
   ]
  },
  {
   "cell_type": "code",
   "execution_count": 8,
   "metadata": {},
   "outputs": [
    {
     "name": "stdout",
     "output_type": "stream",
     "text": [
      "Moscow State University\n",
      "y\n",
      "rsity\n",
      "Moscow State Universi\n",
      "Univer\n",
      "Uie\n",
      "ytisrevinU etatS wocsoM\n"
     ]
    },
    {
     "ename": "TypeError",
     "evalue": "'str' object does not support item assignment",
     "output_type": "error",
     "traceback": [
      "\u001b[1;31m---------------------------------------------------------------------------\u001b[0m",
      "\u001b[1;31mTypeError\u001b[0m                                 Traceback (most recent call last)",
      "\u001b[1;32m<ipython-input-8-6d8c380d8c09>\u001b[0m in \u001b[0;36m<module>\u001b[1;34m()\u001b[0m\n\u001b[0;32m      6\u001b[0m \u001b[0mprint\u001b[0m\u001b[1;33m(\u001b[0m\u001b[0mmystring\u001b[0m\u001b[1;33m[\u001b[0m\u001b[1;33m-\u001b[0m\u001b[1;36m10\u001b[0m\u001b[1;33m:\u001b[0m\u001b[1;33m-\u001b[0m\u001b[1;36m4\u001b[0m\u001b[1;33m:\u001b[0m\u001b[1;36m2\u001b[0m\u001b[1;33m]\u001b[0m\u001b[1;33m)\u001b[0m\u001b[1;33m\u001b[0m\u001b[0m\n\u001b[0;32m      7\u001b[0m \u001b[0mprint\u001b[0m\u001b[1;33m(\u001b[0m\u001b[0mmystring\u001b[0m\u001b[1;33m[\u001b[0m\u001b[1;33m:\u001b[0m\u001b[1;33m:\u001b[0m\u001b[1;33m-\u001b[0m\u001b[1;36m1\u001b[0m\u001b[1;33m]\u001b[0m\u001b[1;33m)\u001b[0m\u001b[1;33m\u001b[0m\u001b[0m\n\u001b[1;32m----> 8\u001b[1;33m \u001b[0mmystring\u001b[0m\u001b[1;33m[\u001b[0m\u001b[1;36m0\u001b[0m\u001b[1;33m]\u001b[0m \u001b[1;33m=\u001b[0m \u001b[1;34m\"K\"\u001b[0m\u001b[1;33m\u001b[0m\u001b[0m\n\u001b[0m",
      "\u001b[1;31mTypeError\u001b[0m: 'str' object does not support item assignment"
     ]
    }
   ],
   "source": [
    "print(mystring)\n",
    "print(mystring[-1])\n",
    "print(mystring[-5:])\n",
    "print(mystring[:-2])\n",
    "print(mystring[-10:-4])\n",
    "print(mystring[-10:-4:2])\n",
    "print(mystring[::-1])\n",
    "mystring[0] = \"K\" # Since strings are immutable"
   ]
  },
  {
   "cell_type": "markdown",
   "metadata": {},
   "source": [
    "- Formatting output"
   ]
  },
  {
   "cell_type": "code",
   "execution_count": 9,
   "metadata": {},
   "outputs": [
    {
     "name": "stdout",
     "output_type": "stream",
     "text": [
      "The most famous university in Russia is Moscow State University\n",
      "The most famous university in Russia is Moscow State University\n",
      "The most famous university in Moscow State University is Russia\n"
     ]
    }
   ],
   "source": [
    "sent = \"The most famous university in Russia is {}\".format(mystring)\n",
    "print(sent)\n",
    "sent = \"The most famous university in {} is {}\".format(\"Russia\", mystring)\n",
    "print(sent)\n",
    "sent = \"The most famous university in {1} is {0}\".format(\"Russia\", mystring)\n",
    "print(sent)"
   ]
  },
  {
   "cell_type": "code",
   "execution_count": 10,
   "metadata": {},
   "outputs": [
    {
     "name": "stdout",
     "output_type": "stream",
     "text": [
      "The number pi is 3.1415926536 and the number e is 2.7182818284590450907955983\n",
      "The number e is 2.71828\n"
     ]
    }
   ],
   "source": [
    "print(\"The number pi is {1:.10f} and the number e is {0:.25f}\".format(math.e, math.pi))\n",
    "print(\"The number e is {:.5f}\".format(math.e))"
   ]
  },
  {
   "cell_type": "markdown",
   "metadata": {},
   "source": [
    "- String methods always return new string, no inplace operations"
   ]
  },
  {
   "cell_type": "code",
   "execution_count": 11,
   "metadata": {},
   "outputs": [
    {
     "name": "stdout",
     "output_type": "stream",
     "text": [
      "moscow is a capital of russia   \n",
      "Moscow is a capital of russia   \n",
      "MOSCOW IS A CAPITAL OF RUSSIA   \n",
      "moscow\n",
      "moscow is a capital of russia\n",
      "mcassccasw is a capital casf russia   \n",
      "32\n",
      "29\n"
     ]
    }
   ],
   "source": [
    "mystring = \"moscow is a capital of russia   \"\n",
    "print(mystring)\n",
    "print(mystring.capitalize())\n",
    "print(mystring.upper())\n",
    "print(\"Moscow\".lower())\n",
    "print(mystring.strip())\n",
    "print(mystring.replace(\"o\", \"cas\"))\n",
    "print(len(mystring))\n",
    "print(len(mystring.strip()))"
   ]
  },
  {
   "cell_type": "markdown",
   "metadata": {},
   "source": [
    "- Concatenation - always save result in a new string"
   ]
  },
  {
   "cell_type": "code",
   "execution_count": 12,
   "metadata": {},
   "outputs": [
    {
     "name": "stdout",
     "output_type": "stream",
     "text": [
      "MSU CMC\n"
     ]
    }
   ],
   "source": [
    "w1 = \"MSU\"\n",
    "w2 = \"CMC\"\n",
    "w3 = w1 + \" \" + w2\n",
    "print(w3)"
   ]
  },
  {
   "cell_type": "markdown",
   "metadata": {},
   "source": [
    "#### Booleans\n",
    "- True\n",
    "- False"
   ]
  },
  {
   "cell_type": "code",
   "execution_count": 13,
   "metadata": {},
   "outputs": [
    {
     "name": "stdout",
     "output_type": "stream",
     "text": [
      "False\n",
      "False\n",
      "True\n",
      "True\n"
     ]
    }
   ],
   "source": [
    "t = True\n",
    "f = False\n",
    "print(t and f)\n",
    "print(not t)\n",
    "print(t or f)\n",
    "print(t != f)  # XOR"
   ]
  },
  {
   "cell_type": "code",
   "execution_count": 14,
   "metadata": {},
   "outputs": [
    {
     "name": "stdout",
     "output_type": "stream",
     "text": [
      "10 5\n",
      "5 10\n",
      "False\n",
      "False\n",
      "True\n",
      "False\n"
     ]
    }
   ],
   "source": [
    "a, b = 10, 5\n",
    "print(a, b)\n",
    "a, b = b, a   # Fast swap\n",
    "print(a, b)\n",
    "print(a == b)\n",
    "print(a > b)\n",
    "print(a < b)\n",
    "print(a >= b)"
   ]
  },
  {
   "cell_type": "markdown",
   "metadata": {},
   "source": [
    "### Conditions and loops\n",
    "\n",
    "- if-elif-else\n",
    "- for-loop\n",
    "- while-loop"
   ]
  },
  {
   "cell_type": "markdown",
   "metadata": {},
   "source": [
    "#### if-elif-else\n",
    "\n",
    "```python\n",
    "if condition1:\n",
    "    pass\n",
    "elif condition2:\n",
    "    pass\n",
    "else:\n",
    "    pass\n",
    "```\n",
    "\n",
    "- Execute body of block that is first true"
   ]
  },
  {
   "cell_type": "code",
   "execution_count": 15,
   "metadata": {},
   "outputs": [
    {
     "name": "stdout",
     "output_type": "stream",
     "text": [
      "0\n"
     ]
    }
   ],
   "source": [
    "# Try different x\n",
    "x = 40\n",
    "if x > 50:\n",
    "    x /= 2\n",
    "elif x > 70:\n",
    "    x += 10\n",
    "else:\n",
    "    x = 0\n",
    "print(x)"
   ]
  },
  {
   "cell_type": "markdown",
   "metadata": {},
   "source": [
    "#### for-loop\n",
    "\n",
    "```python\n",
    "for a in sequence:\n",
    "    pass\n",
    "else:\n",
    "    pass\n",
    "```\n",
    "\n",
    "- Iterations over sequential data\n",
    "- May have ```else``` statement in the end to check success iterations over all elements of ```sequence``` without breaks or exceptions"
   ]
  },
  {
   "cell_type": "code",
   "execution_count": 16,
   "metadata": {},
   "outputs": [
    {
     "name": "stdout",
     "output_type": "stream",
     "text": [
      "M\n",
      "S\n",
      "U\n"
     ]
    }
   ],
   "source": [
    "# mystring = \"Moscow\"\n",
    "mystring = \"MSU CMC\"\n",
    "for letter in mystring:\n",
    "    if letter != \" \":\n",
    "        print(letter)\n",
    "    else:\n",
    "        break\n",
    "else:\n",
    "    print(\"Check all letters!\")"
   ]
  },
  {
   "cell_type": "code",
   "execution_count": 17,
   "metadata": {},
   "outputs": [
    {
     "name": "stdout",
     "output_type": "stream",
     "text": [
      "0\n",
      "2\n",
      "4\n",
      "6\n",
      "8\n"
     ]
    }
   ],
   "source": [
    "# Iteration over  numbers\n",
    "n = 10\n",
    "for i in range(n):\n",
    "    if i % 2 == 0:\n",
    "        print(i)"
   ]
  },
  {
   "cell_type": "markdown",
   "metadata": {},
   "source": [
    "#### while-loop\n",
    "\n",
    "```python\n",
    "while condition:\n",
    "    pass\n",
    "else:\n",
    "    pass\n",
    "```\n",
    "- The same as for-loop but we do not know when this loop will be finished\n",
    "- The same for ```else``` statement"
   ]
  },
  {
   "cell_type": "code",
   "execution_count": 18,
   "metadata": {},
   "outputs": [
    {
     "name": "stdout",
     "output_type": "stream",
     "text": [
      "9\n",
      "8\n",
      "7\n",
      "6\n",
      "5\n",
      "4\n",
      "3\n",
      "2\n",
      "1\n",
      "0\n",
      "OK!\n"
     ]
    }
   ],
   "source": [
    "n = 10\n",
    "while n > 0:\n",
    "    n -= 1\n",
    "    print(n)\n",
    "else:\n",
    "    print(\"OK!\")"
   ]
  },
  {
   "cell_type": "code",
   "execution_count": 19,
   "metadata": {},
   "outputs": [
    {
     "name": "stdout",
     "output_type": "stream",
     "text": [
      "4.0\n",
      "2.0\n",
      "1.0\n"
     ]
    }
   ],
   "source": [
    "m = 8\n",
    "while True:\n",
    "    if m % 2 == 0:\n",
    "        m /= 2\n",
    "    else:\n",
    "        break\n",
    "    print(m)\n",
    "else:\n",
    "    print(\"OK!\")"
   ]
  },
  {
   "cell_type": "markdown",
   "metadata": {},
   "source": [
    "### Built-in containers\n",
    "\n",
    "| C++ | Python  |\n",
    "|:--------:|:-----:|\n",
    "|```std::vector```|list|\n",
    "|```std::map```| dict|\n",
    "|```std::set```| set|\n",
    "|```std::tuple```| tuple|"
   ]
  },
  {
   "cell_type": "markdown",
   "metadata": {},
   "source": [
    "#### List\n",
    "\n",
    "- Mutable type\n",
    "- Store elements of different types\n",
    "- Resizeable\n",
    "- Indexing and slicing are similar to string\n",
    "- Complete docs [here](https://docs.python.org/3/tutorial/datastructures.html)"
   ]
  },
  {
   "cell_type": "code",
   "execution_count": 25,
   "metadata": {},
   "outputs": [
    {
     "name": "stdout",
     "output_type": "stream",
     "text": [
      "[1, 20, 30, -3]\n",
      "[10, 'Russia', True]\n",
      "1\n",
      "[1000, 20, 30, -3]\n",
      "[1000, 20, 30, -3, 'insert']\n"
     ]
    },
    {
     "ename": "IndexError",
     "evalue": "list assignment index out of range",
     "output_type": "error",
     "traceback": [
      "\u001b[1;31m---------------------------------------------------------------------------\u001b[0m",
      "\u001b[1;31mIndexError\u001b[0m                                Traceback (most recent call last)",
      "\u001b[1;32m<ipython-input-25-cd7975110ee2>\u001b[0m in \u001b[0;36m<module>\u001b[1;34m()\u001b[0m\n\u001b[0;32m      8\u001b[0m \u001b[0ml1\u001b[0m\u001b[1;33m.\u001b[0m\u001b[0minsert\u001b[0m\u001b[1;33m(\u001b[0m\u001b[1;36m10\u001b[0m\u001b[1;33m,\u001b[0m \u001b[1;34m\"insert\"\u001b[0m\u001b[1;33m)\u001b[0m\u001b[1;33m\u001b[0m\u001b[0m\n\u001b[0;32m      9\u001b[0m \u001b[0mprint\u001b[0m\u001b[1;33m(\u001b[0m\u001b[0ml1\u001b[0m\u001b[1;33m)\u001b[0m\u001b[1;33m\u001b[0m\u001b[0m\n\u001b[1;32m---> 10\u001b[1;33m \u001b[0ml1\u001b[0m\u001b[1;33m[\u001b[0m\u001b[1;36m11\u001b[0m\u001b[1;33m]\u001b[0m \u001b[1;33m=\u001b[0m \u001b[1;34m\"test\"\u001b[0m   \u001b[1;31m# This won't work\u001b[0m\u001b[1;33m\u001b[0m\u001b[0m\n\u001b[0m\u001b[0;32m     11\u001b[0m \u001b[0ml1\u001b[0m\u001b[1;33m.\u001b[0m\u001b[0mappend\u001b[0m\u001b[1;33m(\u001b[0m\u001b[1;34m'testik'\u001b[0m\u001b[1;33m)\u001b[0m\u001b[1;33m\u001b[0m\u001b[0m\n\u001b[0;32m     12\u001b[0m \u001b[0ml1\u001b[0m\u001b[1;33m\u001b[0m\u001b[0m\n",
      "\u001b[1;31mIndexError\u001b[0m: list assignment index out of range"
     ]
    }
   ],
   "source": [
    "l1 = [1, 20, 30, -3]\n",
    "print(l1)\n",
    "l2 = [10, \"Russia\", True]\n",
    "print(l2)\n",
    "print(l1[0])\n",
    "l1[0] = 1000\n",
    "print(l1)\n",
    "l1.insert(10, \"insert\")\n",
    "print(l1)\n",
    "l1[11] = \"test\"   # This won't work\n",
    "l1.append('testik')\n",
    "l1"
   ]
  },
  {
   "cell_type": "code",
   "execution_count": 26,
   "metadata": {},
   "outputs": [
    {
     "name": "stdout",
     "output_type": "stream",
     "text": [
      "1000\n",
      "20\n",
      "30\n",
      "-3\n",
      "insert\n"
     ]
    }
   ],
   "source": [
    "for element in l1:\n",
    "    print(element)"
   ]
  },
  {
   "cell_type": "code",
   "execution_count": 27,
   "metadata": {},
   "outputs": [
    {
     "name": "stdout",
     "output_type": "stream",
     "text": [
      "[1000, 20, 30, -3, 'insert', 'False']\n",
      "False [1000, 20, 30, -3, 'insert']\n",
      "['insert', -3, 30, 20, 1000]\n"
     ]
    }
   ],
   "source": [
    "l1.append(\"False\")\n",
    "print(l1)\n",
    "final_value = l1.pop()\n",
    "print(final_value, l1)\n",
    "l1.reverse()\n",
    "print(l1)"
   ]
  },
  {
   "cell_type": "code",
   "execution_count": 29,
   "metadata": {},
   "outputs": [
    {
     "name": "stdout",
     "output_type": "stream",
     "text": [
      "['insert', -3, 30, 20, 1000, 10, 'Russia', True, 10, 'Russia', True]\n",
      "['insert', -3, 30, 20, 1000, 10, 'Russia', True, 'insert', -3, 30, 20, 1000, 10, 'Russia', True]\n",
      "[['insert', -3, 30, 20, 1000, 10, 'Russia', True], ['insert', -3, 30, 20, 1000, 10, 'Russia', True]]\n",
      "['insert', -3, 30, 20, 1000, 10, 'Russia', True, 10, 'Russia', True]\n"
     ]
    }
   ],
   "source": [
    "print(l1 + l2)\n",
    "print(2 * l1)\n",
    "print(2 * [l1])\n",
    "l1 += l2\n",
    "print(l1)\n",
    "# print(l1 - l2) "
   ]
  },
  {
   "cell_type": "markdown",
   "metadata": {},
   "source": [
    "- List comprehension"
   ]
  },
  {
   "cell_type": "code",
   "execution_count": 30,
   "metadata": {},
   "outputs": [
    {
     "name": "stdout",
     "output_type": "stream",
     "text": [
      "[0, 1, 4, 9, 16]\n",
      "[0, 1, 4, 9, 16]\n",
      "[0, 4, 16]\n"
     ]
    }
   ],
   "source": [
    "nums = [0, 1, 2, 3, 4]\n",
    "squares = []\n",
    "for x in nums:\n",
    "    squares.append(x ** 2)\n",
    "print(squares)\n",
    "# Or\n",
    "squares = [x ** 2 for x in nums]\n",
    "print(squares)\n",
    "# And with if\n",
    "even_squares = [x ** 2 for x in nums if x % 2 == 0]\n",
    "print(even_squares)"
   ]
  },
  {
   "cell_type": "code",
   "execution_count": 31,
   "metadata": {},
   "outputs": [
    {
     "name": "stdout",
     "output_type": "stream",
     "text": [
      "[[1, 2, 3], [10, 20, 30]]\n",
      "[[123, 2, 3], [10, 20, 30]]\n",
      "[10, 20, 'test']\n"
     ]
    }
   ],
   "source": [
    "l1= [1,2,3]\n",
    "l2 = [10, 20, 30]\n",
    "l = [l1, l2]\n",
    "print(l)\n",
    "l1[0] = 123\n",
    "print(l)\n",
    "l[1][2] = \"test\"\n",
    "print(l2)"
   ]
  },
  {
   "cell_type": "markdown",
   "metadata": {},
   "source": [
    "#### Tuple\n",
    "\n",
    "- Immutable type as a string\n",
    "- Indexing and slicing work again\n",
    "- Packing and unpacking variables"
   ]
  },
  {
   "cell_type": "code",
   "execution_count": 33,
   "metadata": {},
   "outputs": [
    {
     "name": "stdout",
     "output_type": "stream",
     "text": [
      "(1, 2) Required 40 bytes\n",
      "[1, 2] Required 56 bytes\n"
     ]
    }
   ],
   "source": [
    "t1 = (1, 2)\n",
    "l1 = [1, 2]\n",
    "print(t1, \"Required {} bytes\".format(t1.__sizeof__()))\n",
    "print(l1, \"Required {} bytes\".format(l1.__sizeof__()))"
   ]
  },
  {
   "cell_type": "code",
   "execution_count": 35,
   "metadata": {},
   "outputs": [
    {
     "name": "stdout",
     "output_type": "stream",
     "text": [
      "1 2\n"
     ]
    }
   ],
   "source": [
    "print(t1[0], t1[1])\n",
    "# print(t1[3])"
   ]
  },
  {
   "cell_type": "code",
   "execution_count": 37,
   "metadata": {},
   "outputs": [
    {
     "name": "stdout",
     "output_type": "stream",
     "text": [
      "(1, 2, 4, 5)\n",
      "(2, 4)\n",
      "(5, 4, 2, 1)\n"
     ]
    }
   ],
   "source": [
    "t3 = t1 + (4, 5)\n",
    "print(t3)\n",
    "print(t3[1:3])\n",
    "print(t3[::-1])\n",
    "# t3[3] = 4"
   ]
  },
  {
   "cell_type": "code",
   "execution_count": 39,
   "metadata": {},
   "outputs": [
    {
     "name": "stdout",
     "output_type": "stream",
     "text": [
      "([1, 2], [10, 20])\n",
      "([10, 2], [10, 20])\n"
     ]
    }
   ],
   "source": [
    "t4 = ([1,2], [10, 20])\n",
    "print(t4)\n",
    "t4[0][0] = 10\n",
    "print(t4)\n",
    "# t4[0] = 5"
   ]
  },
  {
   "cell_type": "code",
   "execution_count": 40,
   "metadata": {},
   "outputs": [
    {
     "name": "stdout",
     "output_type": "stream",
     "text": [
      "0\n",
      "1\n"
     ]
    }
   ],
   "source": [
    "t5 = ()\n",
    "print(len(t5))\n",
    "t5 = 1,\n",
    "print(len(t5))"
   ]
  },
  {
   "cell_type": "code",
   "execution_count": 41,
   "metadata": {},
   "outputs": [
    {
     "name": "stdout",
     "output_type": "stream",
     "text": [
      "apple blueberry orange\n"
     ]
    }
   ],
   "source": [
    "t6 = (\"apple\", \"blueberry\", \"orange\")\n",
    "apple, bb, orange = t6\n",
    "print(apple, bb, orange)"
   ]
  },
  {
   "cell_type": "code",
   "execution_count": 42,
   "metadata": {},
   "outputs": [
    {
     "name": "stdout",
     "output_type": "stream",
     "text": [
      "[(0, 0), (1, 1), (2, 4), (3, 9), (4, 16), (5, 25), (6, 36), (7, 49), (8, 64), (9, 81)]\n"
     ]
    }
   ],
   "source": [
    "l1 = [(i, i**2) for i in range(10)]\n",
    "print(l1)"
   ]
  },
  {
   "cell_type": "markdown",
   "metadata": {},
   "source": [
    "#### Dict\n",
    "\n",
    "- Store (key, value) pairs\n",
    "- Key has to be immutable type\n",
    "- Values for keys can be changed\n",
    "- Add new pairs"
   ]
  },
  {
   "cell_type": "code",
   "execution_count": 43,
   "metadata": {},
   "outputs": [
    {
     "name": "stdout",
     "output_type": "stream",
     "text": [
      "{'cat': 12, 'dog': 40}\n",
      "12\n",
      "True\n"
     ]
    }
   ],
   "source": [
    "d = {\"cat\": 12, \"dog\": 40}\n",
    "print(d)\n",
    "print(d[\"cat\"])\n",
    "print(\"cat\" in d)"
   ]
  },
  {
   "cell_type": "code",
   "execution_count": 44,
   "metadata": {},
   "outputs": [
    {
     "name": "stdout",
     "output_type": "stream",
     "text": [
      "{'cat': 12, 'dog': 40, 'fox': 34}\n"
     ]
    },
    {
     "ename": "TypeError",
     "evalue": "unhashable type: 'list'",
     "output_type": "error",
     "traceback": [
      "\u001b[1;31m---------------------------------------------------------------------------\u001b[0m",
      "\u001b[1;31mTypeError\u001b[0m                                 Traceback (most recent call last)",
      "\u001b[1;32m<ipython-input-44-0c27e8dc2b88>\u001b[0m in \u001b[0;36m<module>\u001b[1;34m()\u001b[0m\n\u001b[0;32m      2\u001b[0m \u001b[0mprint\u001b[0m\u001b[1;33m(\u001b[0m\u001b[0md\u001b[0m\u001b[1;33m)\u001b[0m\u001b[1;33m\u001b[0m\u001b[0m\n\u001b[0;32m      3\u001b[0m \u001b[0md\u001b[0m\u001b[1;33m[\u001b[0m\u001b[1;33m(\u001b[0m\u001b[1;36m1\u001b[0m\u001b[1;33m,\u001b[0m\u001b[1;36m2\u001b[0m\u001b[1;33m,\u001b[0m\u001b[1;36m3\u001b[0m\u001b[1;33m)\u001b[0m\u001b[1;33m]\u001b[0m \u001b[1;33m=\u001b[0m \u001b[1;34m\"tuple\"\u001b[0m\u001b[1;33m\u001b[0m\u001b[0m\n\u001b[1;32m----> 4\u001b[1;33m \u001b[0md\u001b[0m\u001b[1;33m[\u001b[0m\u001b[1;33m[\u001b[0m\u001b[1;36m1\u001b[0m\u001b[1;33m,\u001b[0m \u001b[1;36m2\u001b[0m\u001b[1;33m,\u001b[0m \u001b[1;36m3\u001b[0m\u001b[1;33m]\u001b[0m\u001b[1;33m]\u001b[0m \u001b[1;33m=\u001b[0m \u001b[1;34m\"list\"\u001b[0m\u001b[1;33m\u001b[0m\u001b[0m\n\u001b[0m",
      "\u001b[1;31mTypeError\u001b[0m: unhashable type: 'list'"
     ]
    }
   ],
   "source": [
    "d[\"fox\"] = 34\n",
    "print(d)\n",
    "d[(1,2,3)] = \"tuple\"\n",
    "d[[1, 2, 3]] = \"list\""
   ]
  },
  {
   "cell_type": "code",
   "execution_count": 45,
   "metadata": {},
   "outputs": [
    {
     "name": "stdout",
     "output_type": "stream",
     "text": [
      "cat 12\n",
      "dog 40\n",
      "fox 34\n",
      "(1, 2, 3) tuple\n"
     ]
    }
   ],
   "source": [
    "for key in d:\n",
    "    print(key, d[key])"
   ]
  },
  {
   "cell_type": "code",
   "execution_count": 46,
   "metadata": {},
   "outputs": [
    {
     "name": "stdout",
     "output_type": "stream",
     "text": [
      "cat\n",
      "dog\n",
      "fox\n",
      "(1, 2, 3)\n"
     ]
    }
   ],
   "source": [
    "for key in d:\n",
    "    print(key)"
   ]
  },
  {
   "cell_type": "code",
   "execution_count": 47,
   "metadata": {},
   "outputs": [
    {
     "name": "stdout",
     "output_type": "stream",
     "text": [
      "12\n",
      "40\n",
      "34\n",
      "tuple\n"
     ]
    }
   ],
   "source": [
    "for val in d.values():\n",
    "    print(val)"
   ]
  },
  {
   "cell_type": "code",
   "execution_count": 48,
   "metadata": {},
   "outputs": [
    {
     "name": "stdout",
     "output_type": "stream",
     "text": [
      "cat 12\n",
      "dog 40\n",
      "fox 34\n",
      "(1, 2, 3) tuple\n"
     ]
    }
   ],
   "source": [
    "for k, v in d.items():\n",
    "    print(k, v)"
   ]
  },
  {
   "cell_type": "markdown",
   "metadata": {},
   "source": [
    "- Dict comprehensions"
   ]
  },
  {
   "cell_type": "code",
   "execution_count": 49,
   "metadata": {},
   "outputs": [
    {
     "name": "stdout",
     "output_type": "stream",
     "text": [
      "{1: 2, 2: 4, 3: 6}\n"
     ]
    }
   ],
   "source": [
    "d2 = {key: 2*key for key in [1,2,3]}\n",
    "print(d2)"
   ]
  },
  {
   "cell_type": "markdown",
   "metadata": {},
   "source": [
    "#### Set\n",
    "\n",
    "- Unordered collection with no duplicate elements \n",
    "- Support mathematical operations like union, intersection, difference, and symmetric difference\n",
    "- Complete docs [here](https://docs.python.org/3/tutorial/datastructures.html#sets)"
   ]
  },
  {
   "cell_type": "code",
   "execution_count": 50,
   "metadata": {},
   "outputs": [
    {
     "name": "stdout",
     "output_type": "stream",
     "text": [
      "set()\n",
      "{'r', 'd', 'b', 'a', 'c'} 5\n",
      "{'y', 'r', 'd', 'b', 'a', 'c'} 6\n",
      "{'y', 'r', 'd', 'b', 'c'} 5\n"
     ]
    }
   ],
   "source": [
    "s = set()\n",
    "print(s)\n",
    "string = \"abracadabra\"\n",
    "s = set(string)\n",
    "print(s, len(s))\n",
    "s.add(\"y\")\n",
    "print(s, len(s))\n",
    "s.remove(\"a\")\n",
    "print(s, len(s))"
   ]
  },
  {
   "cell_type": "code",
   "execution_count": 51,
   "metadata": {},
   "outputs": [
    {
     "name": "stdout",
     "output_type": "stream",
     "text": [
      "{56, 1, 3}\n",
      "{2}\n",
      "{1, 3, 10, 45, 56}\n",
      "{1, 2, 3, 56, 10, 45}\n"
     ]
    }
   ],
   "source": [
    "s1 = set([1,2,3,2,56])\n",
    "s2 = set([2,45,10])\n",
    "print(s1 - s2)\n",
    "print(s1 & s2)\n",
    "print(s1 ^ s2)\n",
    "print(s1 | s2)"
   ]
  },
  {
   "cell_type": "markdown",
   "metadata": {},
   "source": [
    "### Other containers\n",
    "\n",
    "- You can use other containers, which are available in module [collections](https://docs.python.org/3/library/collections.html)\n",
    "- Just import it\n",
    "```python\n",
    "import collections\n",
    "```\n",
    "and you have other containers\n",
    "    - Deque\n",
    "    - OrderedDict\n",
    "    - ..."
   ]
  },
  {
   "cell_type": "markdown",
   "metadata": {},
   "source": [
    "### Functions\n",
    "\n",
    "```python\n",
    "def function_name(arguments):\n",
    "#     make something\n",
    "    return something\n",
    "```"
   ]
  },
  {
   "cell_type": "code",
   "execution_count": 52,
   "metadata": {},
   "outputs": [
    {
     "name": "stdout",
     "output_type": "stream",
     "text": [
      "negative\n",
      "zero\n",
      "positive\n"
     ]
    }
   ],
   "source": [
    "def sign(x):\n",
    "    if x > 0:\n",
    "        return 'positive'\n",
    "    elif x < 0:\n",
    "        return 'negative'\n",
    "    else:\n",
    "        return 'zero'\n",
    "\n",
    "for x in [-1, 0, 2]:\n",
    "    print(sign(x))"
   ]
  },
  {
   "cell_type": "code",
   "execution_count": 53,
   "metadata": {},
   "outputs": [
    {
     "name": "stdout",
     "output_type": "stream",
     "text": [
      "Hello, Ivan!\n",
      "HELLO, GEORGE\n"
     ]
    }
   ],
   "source": [
    "def say_hello(name, loud=False):\n",
    "    if loud:\n",
    "        print('HELLO, {}'.format(name.upper()))\n",
    "    else:\n",
    "        print('Hello, {}!'.format(name))\n",
    "\n",
    "say_hello('Ivan')\n",
    "say_hello('George', loud=True)"
   ]
  },
  {
   "cell_type": "code",
   "execution_count": 54,
   "metadata": {},
   "outputs": [
    {
     "name": "stdout",
     "output_type": "stream",
     "text": [
      "10\n",
      "args elements\n",
      "100\n",
      "string\n",
      "kwargs elements\n",
      "s1 10\n",
      "r2 (1, 67)\n"
     ]
    }
   ],
   "source": [
    "def test_func(x, *args, **kwargs):\n",
    "    print(x)\n",
    "    print(\"args elements\")\n",
    "    for l in args:\n",
    "        print(l)\n",
    "    print(\"kwargs elements\")\n",
    "    for key in kwargs:\n",
    "        print(key, kwargs[key])\n",
    "\n",
    "test_func(10, 100, \"string\", s1=10, r2=(1,67))"
   ]
  },
  {
   "cell_type": "markdown",
   "metadata": {},
   "source": [
    "### Classes\n",
    "\n",
    "- Syntax of class defining is straightforward\n",
    "- No destructors, because of garbage collector works \n",
    "- All methods are virtual and all members are public \n",
    "- But you can make memebers private with special approaches\n",
    "- Complete doc is [here](https://docs.python.org/3/tutorial/classes.html)"
   ]
  },
  {
   "cell_type": "code",
   "execution_count": 55,
   "metadata": {},
   "outputs": [
    {
     "name": "stdout",
     "output_type": "stream",
     "text": [
      "Hello, John\n",
      "HELLO, JOHN!\n"
     ]
    }
   ],
   "source": [
    "class Greeter:\n",
    "\n",
    "    # Constructor\n",
    "    def __init__(self, name):\n",
    "        self.name = name  # Create an instance variable\n",
    "\n",
    "    # Instance method\n",
    "    def greet(self, loud=False):\n",
    "        if loud:\n",
    "            print('HELLO, {}!'.format(self.name.upper()))\n",
    "        else:\n",
    "            print('Hello, {}'.format(self.name))\n",
    "\n",
    "g = Greeter('John')  # Construct an instance of the Greeter class\n",
    "g.greet()            # Call an instance method; prints \"Hello, Fred\"\n",
    "g.greet(loud=True)   # Call an instance method; prints \"HELLO, FRED!\""
   ]
  },
  {
   "cell_type": "markdown",
   "metadata": {},
   "source": [
    "### Modules\n",
    "\n",
    "- You can import modules with command \n",
    "```python\n",
    "import module_name\n",
    "```\n",
    "and use functions from this module as\n",
    "```python\n",
    "module_name.func()\n",
    "```\n",
    "- Other way is to use aliases\n",
    "```python\n",
    "import module_name as mn\n",
    "```\n",
    "and use functions from this module as\n",
    "```python\n",
    "mn.func()\n",
    "```\n",
    "- Other ways of importing are not appropriate"
   ]
  },
  {
   "cell_type": "markdown",
   "metadata": {},
   "source": [
    "### Exerсises\n",
    "\n",
    "1. Implement bubble-sort, merge-sort and quick-sort algorithms as three functions with input argument &mdash; array and output is sorted array. Compare its running time depending on the size of array and also compare running time your functions with built-in method ```sort```. Plot lines time vs. array size for every sorting algorithm. Time has to be computed with [%timeit magic](http://ipython.readthedocs.io/en/stable/interactive/magics.html). How plot lines see further in this notebook. \n",
    "\n",
    "2. Show convergence of Taylor expansion for functions $\\sin(x)$, $e^x$ and $\\frac{1}{1 - x}$. Plot approximation error vs. number of items in sum. \n",
    "Compare different strategies of ordering items in sum. \n",
    "To compute required functions use ```numpy``` library\n",
    "\n",
    "3. Implement function that tests if given number is prime or not.\n",
    "Input is positive integer, output is ```True``` or ```False```."
   ]
  },
  {
   "cell_type": "code",
   "execution_count": 56,
   "metadata": {},
   "outputs": [],
   "source": [
    "# Your code is here"
   ]
  },
  {
   "cell_type": "markdown",
   "metadata": {},
   "source": [
    "## NumPy, SciPy & Matplotlib\n",
    "\n",
    "- Numpy is the core library for scientific computing in Python \n",
    "- It provides a high-performance multidimensional array object, and tools for working with these arrays\n",
    "- For Matlab users [here](http://scipy.github.io/old-wiki/pages/NumPy_for_Matlab_Users) is great tutorial\n",
    "- SciPy provides tools for working with sparse matrices\n",
    "- Matplotlib is a library to plot your data"
   ]
  },
  {
   "cell_type": "markdown",
   "metadata": {
    "collapsed": true
   },
   "source": [
    "### NumPy"
   ]
  },
  {
   "cell_type": "code",
   "execution_count": 57,
   "metadata": {},
   "outputs": [
    {
     "name": "stdout",
     "output_type": "stream",
     "text": [
      "[0. 0. 0. 0. 0.]\n",
      "[1. 1. 1. 1. 1.]\n",
      "[0.73656041 0.93382644 0.43383646 0.42223709 0.06284563]\n",
      "[ 0.36866016  1.33655503  0.25258837 -0.06901819  1.72913837]\n",
      "[0 1 3 4 4]\n",
      "[[1. 0. 0. 0. 0.]\n",
      " [0. 1. 0. 0. 0.]\n",
      " [0. 0. 1. 0. 0.]\n",
      " [0. 0. 0. 1. 0.]\n",
      " [0. 0. 0. 0. 1.]]\n"
     ]
    }
   ],
   "source": [
    "import numpy as np\n",
    "\n",
    "n = 5\n",
    "print(np.zeros(n))\n",
    "print(np.ones(n))\n",
    "print(np.random.rand(n))\n",
    "print(np.random.randn(n))\n",
    "print(np.random.randint(n, size=n))\n",
    "print(np.eye(n))"
   ]
  },
  {
   "cell_type": "code",
   "execution_count": 58,
   "metadata": {},
   "outputs": [
    {
     "name": "stdout",
     "output_type": "stream",
     "text": [
      "[0 1 2 3 4] (5,)\n",
      "[0.09342036 0.92236004 0.6822449  0.7139277  0.31775153]\n",
      "[0.09342036 1.92236004 2.6822449  3.7139277  4.31775153]\n",
      "[-0.09342036  0.07763996  1.3177551   2.2860723   3.68224847]\n",
      "[0 2 4 6 8]\n",
      "[ 0.          1.08417533  2.93149867  4.20210619 12.58845221]\n",
      "[ 0  1  4  9 16]\n",
      "[0.         1.         1.41421356 1.73205081 2.        ]\n",
      "5.699639058366479\n",
      "30.0 30\n"
     ]
    }
   ],
   "source": [
    "x = np.array([i for i in range(n)])\n",
    "print(x, x.shape)\n",
    "y = np.random.rand(n)\n",
    "print(y)\n",
    "print(x + y)\n",
    "print(x - y)\n",
    "print(2 * x)\n",
    "print(x / y)\n",
    "print(np.power(x, 2))\n",
    "print(np.sqrt(x))\n",
    "print(x.dot(y))\n",
    "print(np.linalg.norm(x)**2, x.dot(x))"
   ]
  },
  {
   "cell_type": "markdown",
   "metadata": {},
   "source": [
    "- Slicing is the same as for lists but slicing for numpy array returns **view** not a copy!"
   ]
  },
  {
   "cell_type": "code",
   "execution_count": 59,
   "metadata": {},
   "outputs": [
    {
     "name": "stdout",
     "output_type": "stream",
     "text": [
      "[0 1 2]\n",
      "[1000    1    2    3    4] [1000    1    2]\n",
      "[1000    1    2    3    4] [-1000     1     2]\n"
     ]
    }
   ],
   "source": [
    "x_slice = x[:3]\n",
    "print(x_slice)\n",
    "x_slice[0] = 1000\n",
    "print(x, x_slice)\n",
    "x_copy = x[:3].copy()\n",
    "x_copy[0] = -1000\n",
    "print(x, x_copy)"
   ]
  },
  {
   "cell_type": "code",
   "execution_count": 60,
   "metadata": {},
   "outputs": [
    {
     "name": "stdout",
     "output_type": "stream",
     "text": [
      "[[0.67386614 0.87788974 0.55034435 0.56525508 0.98623144]\n",
      " [0.97144278 0.44477014 0.27003625 0.35828551 0.61902225]\n",
      " [0.83812451 0.90143581 0.53184855 0.33523693 0.88813952]] [1000    1    2    3    4]\n",
      "[681.48540469 975.97856595 844.64790682]\n",
      "[[1000.67386614    1.87788974    2.55034435    3.56525508    4.98623144]\n",
      " [1000.97144278    1.44477014    2.27003625    3.35828551    4.61902225]\n",
      " [1000.83812451    1.90143581    2.53184855    3.33523693    4.88813952]]\n",
      "[[6.73866135e+02 8.77889740e-01 1.10068869e+00 1.69576523e+00\n",
      "  3.94492574e+00]\n",
      " [9.71442778e+02 4.44770135e-01 5.40072497e-01 1.07485653e+00\n",
      "  2.47608899e+00]\n",
      " [8.38124505e+02 9.01435807e-01 1.06369711e+00 1.00571078e+00\n",
      "  3.55255807e+00]]\n",
      "[[-9.99326134e+02 -1.22110260e-01 -1.44965565e+00 -2.43474492e+00\n",
      "  -3.01376856e+00]\n",
      " [-9.99028557e+02 -5.55229865e-01 -1.72996375e+00 -2.64171449e+00\n",
      "  -3.38097775e+00]\n",
      " [-9.99161875e+02 -9.85641933e-02 -1.46815145e+00 -2.66476307e+00\n",
      "  -3.11186048e+00]]\n",
      "[[6.73866135e-04 8.77889740e-01 2.75172173e-01 1.88418358e-01\n",
      "  2.46557859e-01]\n",
      " [9.71442778e-04 4.44770135e-01 1.35018124e-01 1.19428504e-01\n",
      "  1.54755562e-01]\n",
      " [8.38124505e-04 9.01435807e-01 2.65924277e-01 1.11745642e-01\n",
      "  2.22034880e-01]]\n"
     ]
    }
   ],
   "source": [
    "m, n = 3, n\n",
    "X = np.random.rand(m, n)\n",
    "print(X, x)\n",
    "print(X.dot(x))\n",
    "print(X + x)\n",
    "print(X * x)\n",
    "print(X - x)\n",
    "print(X / x)"
   ]
  },
  {
   "cell_type": "code",
   "execution_count": 61,
   "metadata": {},
   "outputs": [
    {
     "ename": "ValueError",
     "evalue": "shapes (3,4) and (5,) not aligned: 4 (dim 1) != 5 (dim 0)",
     "output_type": "error",
     "traceback": [
      "\u001b[1;31m---------------------------------------------------------------------------\u001b[0m",
      "\u001b[1;31mValueError\u001b[0m                                Traceback (most recent call last)",
      "\u001b[1;32m<ipython-input-61-9dfccd37c7aa>\u001b[0m in \u001b[0;36m<module>\u001b[1;34m()\u001b[0m\n\u001b[1;32m----> 1\u001b[1;33m \u001b[0mprint\u001b[0m\u001b[1;33m(\u001b[0m\u001b[0mnp\u001b[0m\u001b[1;33m.\u001b[0m\u001b[0mrandom\u001b[0m\u001b[1;33m.\u001b[0m\u001b[0mrand\u001b[0m\u001b[1;33m(\u001b[0m\u001b[1;36m3\u001b[0m\u001b[1;33m,\u001b[0m \u001b[1;36m4\u001b[0m\u001b[1;33m)\u001b[0m\u001b[1;33m.\u001b[0m\u001b[0mdot\u001b[0m\u001b[1;33m(\u001b[0m\u001b[0mx\u001b[0m\u001b[1;33m)\u001b[0m\u001b[1;33m)\u001b[0m\u001b[1;33m\u001b[0m\u001b[0m\n\u001b[0m",
      "\u001b[1;31mValueError\u001b[0m: shapes (3,4) and (5,) not aligned: 4 (dim 1) != 5 (dim 0)"
     ]
    }
   ],
   "source": [
    "print(np.random.rand(3, 4).dot(x))"
   ]
  },
  {
   "cell_type": "code",
   "execution_count": 62,
   "metadata": {},
   "outputs": [
    {
     "name": "stdout",
     "output_type": "stream",
     "text": [
      "[[1.16839889 2.08712882 2.10651934]\n",
      " [0.96148482 2.1657093  2.10516476]\n",
      " [0.71909222 1.56909785 1.4395249 ]\n",
      " [1.33096475 1.81743333 2.45744438]\n",
      " [1.28262143 2.71700362 2.54741346]]\n"
     ]
    },
    {
     "ename": "ValueError",
     "evalue": "operands could not be broadcast together with shapes (5,5) (5,3) ",
     "output_type": "error",
     "traceback": [
      "\u001b[1;31m---------------------------------------------------------------------------\u001b[0m",
      "\u001b[1;31mValueError\u001b[0m                                Traceback (most recent call last)",
      "\u001b[1;32m<ipython-input-62-6fcc4258d71e>\u001b[0m in \u001b[0;36m<module>\u001b[1;34m()\u001b[0m\n\u001b[0;32m      2\u001b[0m \u001b[0mY\u001b[0m \u001b[1;33m=\u001b[0m \u001b[0mnp\u001b[0m\u001b[1;33m.\u001b[0m\u001b[0mrandom\u001b[0m\u001b[1;33m.\u001b[0m\u001b[0mrand\u001b[0m\u001b[1;33m(\u001b[0m\u001b[0mn\u001b[0m\u001b[1;33m,\u001b[0m \u001b[0mm\u001b[0m\u001b[1;33m)\u001b[0m\u001b[1;33m\u001b[0m\u001b[0m\n\u001b[0;32m      3\u001b[0m \u001b[0mprint\u001b[0m\u001b[1;33m(\u001b[0m\u001b[0mX\u001b[0m\u001b[1;33m.\u001b[0m\u001b[0mdot\u001b[0m\u001b[1;33m(\u001b[0m\u001b[0mY\u001b[0m\u001b[1;33m)\u001b[0m\u001b[1;33m)\u001b[0m\u001b[1;33m\u001b[0m\u001b[0m\n\u001b[1;32m----> 4\u001b[1;33m \u001b[0mprint\u001b[0m\u001b[1;33m(\u001b[0m\u001b[0mX\u001b[0m \u001b[1;33m+\u001b[0m \u001b[0mY\u001b[0m\u001b[1;33m)\u001b[0m\u001b[1;33m\u001b[0m\u001b[0m\n\u001b[0m",
      "\u001b[1;31mValueError\u001b[0m: operands could not be broadcast together with shapes (5,5) (5,3) "
     ]
    }
   ],
   "source": [
    "X = np.random.rand(n, n)\n",
    "Y = np.random.rand(n, m)\n",
    "print(X.dot(Y))\n",
    "print(X + Y)"
   ]
  },
  {
   "cell_type": "code",
   "execution_count": 63,
   "metadata": {},
   "outputs": [
    {
     "name": "stdout",
     "output_type": "stream",
     "text": [
      "[[0.73611375 0.17769019 0.46688393 0.83210923 0.80990758]\n",
      " [0.89984313 0.92056154 0.7390683  0.40031946 0.94040725]\n",
      " [0.30320763 0.66888045 0.98457455 0.20539282 0.83519665]]\n",
      "[0.73611375 0.89984313 0.30320763]\n",
      "[0.30320763 0.66888045 0.98457455 0.20539282 0.83519665]\n",
      "[[0.73611375 0.17769019 0.46688393 0.83210923 0.80990758]\n",
      " [0.30320763 0.66888045 0.98457455 0.20539282 0.83519665]]\n",
      "[[0.73611375 0.17769019 0.46688393 0.83210923]\n",
      " [0.89984313 0.92056154 0.7390683  0.40031946]\n",
      " [0.30320763 0.66888045 0.98457455 0.20539282]]\n",
      "[0.92056154 0.66888045]\n"
     ]
    }
   ],
   "source": [
    "X = np.random.rand(m, n)\n",
    "print(X)\n",
    "print(X[:, 0])\n",
    "print(X[-1, :])\n",
    "print(X[::2, :])\n",
    "print(X[:3, :-1])\n",
    "print(X[1:, 1])"
   ]
  },
  {
   "cell_type": "code",
   "execution_count": 64,
   "metadata": {},
   "outputs": [
    {
     "name": "stdout",
     "output_type": "stream",
     "text": [
      "[[0.73611375 0.17769019 0.46688393 0.83210923 0.80990758]\n",
      " [0.89984313 0.92056154 0.7390683  0.40031946 0.94040725]\n",
      " [0.30320763 0.66888045 0.98457455 0.20539282 0.83519665]]\n",
      "2.763373147327656\n",
      "2.641249833535194\n",
      "[0.73611375 0.92056154 0.98457455]\n",
      "[0.73611375 0.17769019 0.46688393 0.83210923 0.80990758 0.89984313\n",
      " 0.92056154 0.7390683  0.40031946 0.94040725 0.30320763 0.66888045\n",
      " 0.98457455 0.20539282 0.83519665]\n",
      "[[0.73611375 0.17769019 0.46688393 0.83210923 0.80990758 0.89984313\n",
      "  0.92056154 0.7390683  0.40031946 0.94040725 0.30320763 0.66888045\n",
      "  0.98457455 0.20539282 0.83519665]]\n"
     ]
    }
   ],
   "source": [
    "print(X)\n",
    "print(np.linalg.norm(X))\n",
    "print(np.trace(X))\n",
    "print(np.diag(X))\n",
    "print(X[X > 0.1])\n",
    "print(X.reshape(1, 15))"
   ]
  },
  {
   "cell_type": "code",
   "execution_count": 65,
   "metadata": {},
   "outputs": [
    {
     "name": "stdout",
     "output_type": "stream",
     "text": [
      "0.17769018970386996\n",
      "9.920156449351238\n",
      "[1.93916452 1.76713218 2.19052677 1.4378215  2.58551148]\n",
      "0.9845745494200443\n",
      "0.6613437632900825\n"
     ]
    }
   ],
   "source": [
    "print(X.min())\n",
    "print(X.sum())\n",
    "print(X.sum(axis=0))\n",
    "print(X.max())\n",
    "print(X.mean())"
   ]
  },
  {
   "cell_type": "markdown",
   "metadata": {},
   "source": [
    "- NumPy includes implementations of almost any mathematical function and applies it element-wise to array\n",
    "- Complete doc is [here](https://docs.scipy.org/doc/numpy-1.13.0/reference/)"
   ]
  },
  {
   "cell_type": "code",
   "execution_count": 66,
   "metadata": {},
   "outputs": [
    {
     "name": "stdout",
     "output_type": "stream",
     "text": [
      "[ 0.0000000e+00  1.0000000e+00  1.2246468e-16 -1.0000000e+00\n",
      " -2.4492936e-16]\n",
      "[ 1.0000000e+00  6.1232340e-17 -1.0000000e+00 -1.8369702e-16\n",
      "  1.0000000e+00]\n"
     ]
    }
   ],
   "source": [
    "args = np.arange(0, 2.5*np.pi, 0.5*np.pi)\n",
    "print(np.sin(args))\n",
    "print(np.cos(args))"
   ]
  },
  {
   "cell_type": "code",
   "execution_count": 67,
   "metadata": {},
   "outputs": [
    {
     "name": "stdout",
     "output_type": "stream",
     "text": [
      "2.820412884586997e-13\n"
     ]
    }
   ],
   "source": [
    "n = 100\n",
    "A = np.random.rand(n, n)\n",
    "x_true = np.random.randn(n)\n",
    "b = A.dot(x_true)\n",
    "x = np.linalg.solve(A, b)\n",
    "print(np.linalg.norm(x - x_true))"
   ]
  },
  {
   "cell_type": "code",
   "execution_count": 68,
   "metadata": {},
   "outputs": [],
   "source": [
    "# Try test numpy functions for your own research routines (optional)"
   ]
  },
  {
   "cell_type": "markdown",
   "metadata": {
    "collapsed": true
   },
   "source": [
    "### SciPy"
   ]
  },
  {
   "cell_type": "code",
   "execution_count": 69,
   "metadata": {},
   "outputs": [],
   "source": [
    "import scipy.sparse as spsp\n",
    "\n",
    "main_diagonal = -2 * np.ones(n, )\n",
    "suddiag_values = np.ones(n - 1,)\n",
    "diagonals = [main_diagonal, suddiag_values, suddiag_values]\n",
    "offsets = [0, 1, -1]\n",
    "A = spsp.diags(diagonals, offsets, shape=(n, n), format='csr')"
   ]
  },
  {
   "cell_type": "markdown",
   "metadata": {},
   "source": [
    "- A lot of stuff for sparse matrices in different formats\n",
    "- Various functions about optimization, approximation, FFT, statistics, special functions and others\n",
    "- Complete doc is [here](https://docs.scipy.org/doc/scipy/reference/)"
   ]
  },
  {
   "cell_type": "markdown",
   "metadata": {
    "collapsed": true
   },
   "source": [
    "### Matplotlib\n",
    "\n",
    "- Library to plot different linea nd figures in 2D and 3D\n",
    "- Tutorial for beginners is [here](https://matplotlib.org/users/pyplot_tutorial.html) and more complete one is [here](https://matplotlib.org/users/beginner.html)\n",
    "- You can tune all parameters of plot: labels, legends, fontsize, colours, ticks, markers, linewidth and many, many others\n",
    "- Label strings support $\\TeX$ notation"
   ]
  },
  {
   "cell_type": "code",
   "execution_count": 70,
   "metadata": {},
   "outputs": [],
   "source": [
    "%matplotlib inline\n",
    "import matplotlib.pyplot as plt\n",
    "from mpl_toolkits.mplot3d import Axes3D"
   ]
  },
  {
   "cell_type": "code",
   "execution_count": 71,
   "metadata": {},
   "outputs": [
    {
     "data": {
      "text/plain": [
       "Text(0.5,1,'Parabola $y = x^2$')"
      ]
     },
     "execution_count": 71,
     "metadata": {},
     "output_type": "execute_result"
    },
    {
     "data": {
      "image/png": "[encoded data removed]",
      "text/plain": [
       "<matplotlib.figure.Figure at 0x278be98b550>"
      ]
     },
     "metadata": {},
     "output_type": "display_data"
    }
   ],
   "source": [
    "x = np.linspace(-4, 4)\n",
    "y = np.power(x, 2)\n",
    "plt.plot(x, y)\n",
    "plt.xlabel(\"$x$\", fontsize=12)\n",
    "plt.ylabel(\"$y$\", fontsize=12)\n",
    "plt.title(\"Parabola $y = x^2$\", fontsize=14)"
   ]
  },
  {
   "cell_type": "code",
   "execution_count": 72,
   "metadata": {},
   "outputs": [
    {
     "data": {
      "image/png": "[encoded data removed]",
      "text/plain": [
       "<matplotlib.figure.Figure at 0x278bea66240>"
      ]
     },
     "metadata": {},
     "output_type": "display_data"
    }
   ],
   "source": [
    "plt.figure(figsize=(10, 8))\n",
    "plt.scatter(x, y, marker=\"x\", label=\"Parabola, $y = x^2$\", color=\"red\")\n",
    "plt.plot(x, x**3, label=\"Cube, $y = x^3$\", linewidth=6)\n",
    "plt.plot(x, 20 * np.sin(x), color=\"green\", label=\"Sine, $y = 20\\sin(x)$\")\n",
    "plt.legend(loc=\"best\", fontsize=14)\n",
    "plt.xticks(fontsize=20)\n",
    "_ = plt.yticks(fontsize=20)"
   ]
  },
  {
   "cell_type": "code",
   "execution_count": 73,
   "metadata": {},
   "outputs": [
    {
     "data": {
      "image/png": "[encoded data removed]",
      "text/plain": [
       "<matplotlib.figure.Figure at 0x278beaee9b0>"
      ]
     },
     "metadata": {},
     "output_type": "display_data"
    }
   ],
   "source": [
    "x = np.linspace(1e-5, 1, 1000)\n",
    "y = 1. / x\n",
    "plt.figure(figsize=(10,4))\n",
    "plt.subplot(1,2,1)\n",
    "plt.plot(x, y)\n",
    "plt.yscale(\"log\")\n",
    "plt.title(\"Log scale\")\n",
    "\n",
    "plt.subplot(1,2,2)\n",
    "plt.plot(x, y)\n",
    "plt.title(\"Linear scale\")\n",
    "plt.tight_layout()"
   ]
  },
  {
   "cell_type": "code",
   "execution_count": 74,
   "metadata": {},
   "outputs": [
    {
     "data": {
      "text/plain": [
       "Text(0.5,0.92,'The plot of $f(x, y) = \\\\sin(x+y)$')"
      ]
     },
     "execution_count": 74,
     "metadata": {},
     "output_type": "execute_result"
    },
    {
     "data": {
      "image/png": "[encoded data removed]",
      "text/plain": [
       "<matplotlib.figure.Figure at 0x278becbe240>"
      ]
     },
     "metadata": {},
     "output_type": "display_data"
    }
   ],
   "source": [
    "linear_index = np.linspace(0, np.pi, 10, endpoint=True)\n",
    "mesh_x, mesh_y = np.meshgrid(linear_index, linear_index)\n",
    "values_3D = np.sin(mesh_x + mesh_y)\n",
    "\n",
    "fig = plt.figure(figsize=(10,6))\n",
    "ax = fig.gca(projection=\"3d\")\n",
    "\n",
    "surf = ax.plot_surface(mesh_x, mesh_y, values_3D, cmap=\"RdBu\")\n",
    "ax.view_init(azim=-45, elev=30)\n",
    "fig.colorbar(surf)\n",
    "plt.title('The plot of $f(x, y) = \\sin(x+y)$')"
   ]
  },
  {
   "cell_type": "markdown",
   "metadata": {},
   "source": [
    "### General rules about plots\n",
    "\n",
    "- Legends, labels, titles, ticks must be readable!\n",
    "- If most part of line is near 0, use log-scale for y-axis. The same is true for x-axis if necessary\n",
    "- Plot lines about the same issue in one plot"
   ]
  },
  {
   "cell_type": "markdown",
   "metadata": {
    "collapsed": true
   },
   "source": [
    "### Exercises\n",
    "\n",
    "1. Generate random low-rank matrix $500 \\times 500$ with rank $r = 10$, perform its SVD and plot how decreases singular values\n",
    "2. Compare running time of square lowrank matrix by vector multiplication in two cases:\n",
    "    - Matrix is given in lowrank format, i.e. product of 2 lowrank matrices\n",
    "    - Matrix is given as it is    \n",
    "Plot graphs time vs. dimension of the matrix for these two cases. Add legend and axis labels.\n",
    "3. Plot density function of normal distribution in 1D and 2D cases for the following parameters:\n",
    "    - $\\mu = 0, \\sigma = 1$\n",
    "    - $\\mu = 1.5, \\sigma = 0.1$\n",
    "    - $\\mu = -0.5, \\sigma = 3$\n",
    "    - $\\mu = (1, 1), \\Sigma = \\begin{bmatrix} \n",
    "    2 & 0\\\\\n",
    "    0 & 1\n",
    "    \\end{bmatrix}$\n",
    "    - $\\mu = (-1, 1), \\Sigma = \\begin{bmatrix} \n",
    "    2 & 0.1\\\\\n",
    "    1 & 1\n",
    "    \\end{bmatrix}$\n",
    "    \n",
    "For 1D case you can plot all lines in the single plot with legend. For 2D case use separate plots, add titles with corresponding parameters and colorbars."
   ]
  },
  {
   "cell_type": "code",
   "execution_count": 75,
   "metadata": {},
   "outputs": [],
   "source": [
    "# Your code is here"
   ]
  }
 ],
 "metadata": {
  "kernelspec": {
   "display_name": "Python 3",
   "language": "python",
   "name": "python3"
  },
  "language_info": {
   "codemirror_mode": {
    "name": "ipython",
    "version": 3
   },
   "file_extension": ".py",
   "mimetype": "text/x-python",
   "name": "python",
   "nbconvert_exporter": "python",
   "pygments_lexer": "ipython3",
   "version": "3.6.4"
  },
  "varInspector": {
   "cols": {
    "lenName": 16,
    "lenType": 16,
    "lenVar": 40
   },
   "kernels_config": {
    "python": {
     "delete_cmd_postfix": "",
     "delete_cmd_prefix": "del ",
     "library": "var_list.py",
     "varRefreshCmd": "print(var_dic_list())"
    },
    "r": {
     "delete_cmd_postfix": ") ",
     "delete_cmd_prefix": "rm(",
     "library": "var_list.r",
     "varRefreshCmd": "cat(var_dic_list()) "
    }
   },
   "types_to_exclude": [
    "module",
    "function",
    "builtin_function_or_method",
    "instance",
    "_Feature"
   ],
   "window_display": false
  }
 },
 "nbformat": 4,
 "nbformat_minor": 2
}
