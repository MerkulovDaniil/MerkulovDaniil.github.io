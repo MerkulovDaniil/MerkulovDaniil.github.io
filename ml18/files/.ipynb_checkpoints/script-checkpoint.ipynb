{
 "cells": [
  {
   "cell_type": "code",
   "execution_count": 155,
   "metadata": {},
   "outputs": [],
   "source": [
    "# This script reads all the files in folders notebooks, slides, html, pdf, markdown and generate .html page, that contains table with hyperlinks\n",
    "import os\n",
    "import sys\n",
    "\n",
    "mode = sys.argv[1]\n",
    "\n",
    "def list_target_files(directory, extension):\n",
    "    return list(f for f in os.listdir(directory) if f.endswith('.' + extension))\n",
    "    \n",
    "\n",
    "# Function htmltable from dict\n",
    "\n",
    "def htmltable_from_dict(dict_):\n",
    "    n_strings = len(dict_['nb'])\n",
    "    if n_strings == 0:\n",
    "        return ''\n",
    "    \n",
    "    ### Names\n",
    "    names = []\n",
    "    for name in dict_['nb']:\n",
    "        name = name[2:-6]\n",
    "        names.append(name)\n",
    "    \n",
    "    ### Preambule\n",
    "    table = '<div style=\"overflow-x:auto;\">\\n<table align=\"center\">\\n<thead>\\n<tr>\\n<th></th>\\n'\n",
    "    \n",
    "    ### Header\n",
    "    if 'slides' in dict_.keys():\n",
    "        table += '<th> slides </th>\\n'\n",
    "    \n",
    "    if 'pages' in dict_.keys():\n",
    "        table += '<th> page </th>\\n'\n",
    "    \n",
    "    if 'md' in dict_.keys():\n",
    "        table += '<th> markdown </th>\\n'\n",
    "        \n",
    "    if 'pdf' in dict_.keys():\n",
    "        table += '<th> pdf </th>\\n'\n",
    "        \n",
    "    if 'nb' in dict_.keys():\n",
    "        table += '<th> notebook </th>\\n'\n",
    "        \n",
    "    table += '</tr>\\n</thead>\\n'\n",
    "    \n",
    "    ### Body\n",
    "    table += '<tbody>\\n'\n",
    "    for i in range(n_strings):\n",
    "        table += '<tr>\\n'\n",
    "        table += '<td> ' + names[i] + ' </td>\\n'\n",
    "        if 'slides' in dict_.keys():\n",
    "            table += \"<td> <a href='./slides/\" + dict_['slides'][i] + \"'> .html </a> </td>\\n\"\n",
    "    \n",
    "        if 'pages' in dict_.keys():\n",
    "            table += \"<td> <a href='./html/\" + dict_['pages'][i] + \"'> .html </a> </td>\\n\"\n",
    "\n",
    "        if 'md' in dict_.keys():\n",
    "            table += \"<td> <a href='./markdown/\" + dict_['md'][i] + \"'> .md </a> </td>\\n\"\n",
    "\n",
    "        if 'pdf' in dict_.keys():\n",
    "            table += \"<td> <a href='./slides/\" + dict_['pdf'][i] + \"'> .pdf </a> </td>\\n\"\n",
    "\n",
    "        if 'nb' in dict_.keys():\n",
    "            table += \"<td> <a href='./Notebooks/\" + dict_['nb'][i] + \"'> .ipynb </a> </td>\\n\"\n",
    "        \n",
    "        table += '</tr>\\n'\n",
    "        \n",
    "    ### End\n",
    "    table += '</tbody>\\n</table>\\n</div>\\n'\n",
    "        \n",
    "    return table\n",
    "\n",
    "def update_html(path_to_file, table):\n",
    "    with open(path_to_file, \"r\") as f:\n",
    "        old_file = f.readlines()\n",
    "\n",
    "    with open(path_to_file + '.new', 'r+') as f:\n",
    "        epoch = 0\n",
    "        for line in old_file:\n",
    "            if (epoch == 0): \n",
    "                f.write(line)\n",
    "                if (line == '<!-- TABLE -->\\n'):\n",
    "                    epoch = 1\n",
    "                continue\n",
    "\n",
    "            if epoch == 1:\n",
    "                f.write(table)\n",
    "                epoch = 2   \n",
    "            \n",
    "            if epoch == 2:\n",
    "                if line != '<!-- ENDTAB -->\\n':\n",
    "                    continue\n",
    "                else:\n",
    "                    epoch = 3\n",
    "            \n",
    "            if epoch == 3:\n",
    "                f.write(line)\n",
    "\n",
    "\n",
    "# ================ Lectures ================\n",
    "os.chdir('../' + mode + '/')\n",
    "# ================ read ================\n",
    "\n",
    "formats = ('slides', \n",
    "           'pages', \n",
    "           'md', \n",
    "#            'pdf', \n",
    "           'nb')\n",
    "\n",
    "dict_   = dict.fromkeys(formats)\n",
    "    \n",
    "# ipynb\n",
    "nb_list = list_target_files('./Notebooks/', 'ipynb')\n",
    "# slides\n",
    "slides_list = list_target_files('./slides/', 'html')\n",
    "# html\n",
    "pages_list = list_target_files('./html/', 'html')\n",
    "# markdown\n",
    "md_list = list_target_files('./markdown/', 'md')\n",
    "# pdf\n",
    "pdf_list = list_target_files('./pdf/', 'pdf')\n",
    "\n",
    "dict_['slides'] = slides_list\n",
    "dict_['pages']  = pages_list\n",
    "dict_['pdf']    = pdf_list\n",
    "dict_['md']     = md_list\n",
    "dict_['nb']     = nb_list\n",
    "\n",
    "dicti = dict.fromkeys(formats)\n",
    "for ext in formats:\n",
    "    dicti[ext] = dict_[ext]\n",
    "# ================ generate ================\n",
    "table = htmltable_from_dict(dicti)\n",
    "# ================ write ================\n",
    "update_html('./' + mode + '.html', table)"
   ]
  },
  {
   "cell_type": "code",
   "execution_count": 140,
   "metadata": {},
   "outputs": [
    {
     "data": {
      "text/plain": [
       "{'slides': ['test-pro.html'],\n",
       " 'pages': ['test-pro.html'],\n",
       " 'md': ['test-pro.md'],\n",
       " 'nb': ['7-subgradient.ipynb', 'test-pro.ipynb']}"
      ]
     },
     "execution_count": 140,
     "metadata": {},
     "output_type": "execute_result"
    }
   ],
   "source": [
    "dicti"
   ]
  },
  {
   "cell_type": "code",
   "execution_count": 124,
   "metadata": {},
   "outputs": [
    {
     "name": "stdout",
     "output_type": "stream",
     "text": [
      "epta\n"
     ]
    }
   ],
   "source": [
    "with open('../lectures/lectures.html', \"r+\") as f:\n",
    "    for line in f:\n",
    "        if line == '<!-- TABLE -->\\n':\n",
    "            print('epta')"
   ]
  },
  {
   "cell_type": "code",
   "execution_count": 122,
   "metadata": {},
   "outputs": [
    {
     "data": {
      "text/plain": [
       "'<!-- TABLE -->\\n'"
      ]
     },
     "execution_count": 122,
     "metadata": {},
     "output_type": "execute_result"
    }
   ],
   "source": [
    "linex"
   ]
  }
 ],
 "metadata": {
  "kernelspec": {
   "display_name": "Python 3",
   "language": "python",
   "name": "python3"
  },
  "language_info": {
   "codemirror_mode": {
    "name": "ipython",
    "version": 3
   },
   "file_extension": ".py",
   "mimetype": "text/x-python",
   "name": "python",
   "nbconvert_exporter": "python",
   "pygments_lexer": "ipython3",
   "version": "3.6.5"
  }
 },
 "nbformat": 4,
 "nbformat_minor": 2
}
