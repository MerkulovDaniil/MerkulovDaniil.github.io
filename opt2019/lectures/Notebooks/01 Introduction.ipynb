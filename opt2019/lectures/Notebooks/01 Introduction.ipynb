{
 "cells": [
  {
   "cell_type": "markdown",
   "metadata": {
    "nbpresent": {
     "id": "7e5f0ba3-2aab-4514-8a73-9cd9bab4b09e"
    },
    "slideshow": {
     "slide_type": "slide"
    }
   },
   "source": [
    "# Методы Оптимизации. Даниил Меркулов. Введение."
   ]
  },
  {
   "cell_type": "markdown",
   "metadata": {
    "nbpresent": {
     "id": "f71bc77d-60e8-40e7-b57c-f49413c5845c"
    },
    "slideshow": {
     "slide_type": "slide"
    }
   },
   "source": [
    "## Структура курса и семинаров\n",
    "\n",
    "* Годовой курс. Осенний семестр теоретический. Весенний - практический.\n",
    "* Экзамен после обоих семестров.\n",
    "* _Лекции_ по средам в 10.45; _Семинары_ по понедельникам в 17.05 907 КПМ\n",
    "* На семинаре: краткий письменный опрос по материалам предыдущего семинара, обзор необходимой теории, решение задач, сдача домашнего задания"
   ]
  },
  {
   "cell_type": "markdown",
   "metadata": {
    "nbpresent": {
     "id": "b3ff32d8-5dfe-4de1-bd91-4f833b614c4f"
    },
    "slideshow": {
     "slide_type": "slide"
    }
   },
   "source": [
    "## Расписание (примерное)\n",
    "\n",
    "* Неделя 1. Введение\n",
    "* Неделя 2. Выпуклость. Выпуклое множество\n",
    "* Неделя 3. Проекция точки на множество. Отделимость\n",
    "* Неделя 4. Сопряженные множества. Лемма Фаркаша\n",
    "* Неделя 5. Векторное дифференцирование\n",
    "* Неделя 6. Выпуклые функции. Задачи выпуклого программирования\n",
    "* Неделя 7. Субдифференциал\n",
    "* Неделя 8. Промежуточная контрольная"
   ]
  },
  {
   "cell_type": "markdown",
   "metadata": {
    "nbpresent": {
     "id": "397e4c8a-285a-43ba-bb49-49cb86817da1"
    },
    "slideshow": {
     "slide_type": "subslide"
    }
   },
   "source": [
    "* Неделя 9. Конус возможных направлений, касательный конус, острый экстремум\n",
    "* Неделя 10. Сопряжённые функции\n",
    "* Неделя 11. Условия оптимальности\n",
    "* Неделя 12. Двойственная задача\n",
    "* Неделя 13. Задача аппроксимации\n",
    "* Неделя 14. Задачи линейной алгебры\n",
    "* Неделя 15. Контрольная/ сдачи/ резерв"
   ]
  },
  {
   "cell_type": "markdown",
   "metadata": {
    "nbpresent": {
     "id": "31922faf-f44d-4973-b6a8-d6aca4849db1"
    },
    "slideshow": {
     "slide_type": "slide"
    }
   },
   "source": [
    "## Приём домашнего задания\n",
    "\n",
    "* Домашнее задание оформляется в $ \\LaTeX $ или `jupyter`. Другие формы (листочки, сканы тетрадки и пр.) не принимаются :(\n",
    "* Задание отправляется **единым** файлом (форматы: `.pdf`, `.ipynb`, `.zip`, `.rar`) в степике. Ссылка чуть позже.\n",
    "* Возможно внесение исправлений/правок в отправленное дз. Тогда оно будет датироваться **последней** отправкой"
   ]
  },
  {
   "cell_type": "markdown",
   "metadata": {
    "nbpresent": {
     "id": "c62eba18-5691-4700-9846-6baa3cb893c0"
    },
    "slideshow": {
     "slide_type": "subslide"
    }
   },
   "source": [
    "* Каждое дз необходимо защитить устно, после чего за него будет выставлена оценка. Возможности для устной сдачи: Понедельник 18.30 - 20.00. В любой другой день в Skoltech по предварительной договоренности.\n",
    "* Дедлайны по каждой домашке: 1-ый до начала следующего семинара (+1 неделя), 2-ой (+3 недели). После 1-ого и до 2-го дедлайнов стоимость дз линейно убывает до нуля."
   ]
  },
  {
   "cell_type": "markdown",
   "metadata": {
    "nbpresent": {
     "id": "9d576b8a-f8c1-4d00-b2e5-c9999a7cd5cd"
    },
    "slideshow": {
     "slide_type": "slide"
    }
   },
   "source": [
    "## Система оценивания\n",
    "\n",
    "![center](../files/grade.png)\n",
    "\n",
    "* БОНУС! Люди, которые начнут работать над проектами (ссылка чуть позже) в этом семестре получат +20% к рейтингу (т.е. если Ваша оценка 64%, но вы работали над проектами - я поставлю 84%, т.е. максимум 120%, но оценка считается по 100%)"
   ]
  },
  {
   "cell_type": "markdown",
   "metadata": {
    "nbpresent": {
     "id": "66bc2ecf-3354-4d17-ba91-66df54c820af"
    },
    "slideshow": {
     "slide_type": "slide"
    }
   },
   "source": [
    "## Система анонимного фидбека\n",
    "\n",
    "* После каждого семинара в канале публикуется ссылка с опросом о прошедшем семинаре. Это очень важно, оставьте пару комментариев - это анонимно.\n",
    "https://t.me/mipt_optimization"
   ]
  },
  {
   "cell_type": "markdown",
   "metadata": {
    "nbpresent": {
     "id": "859661cf-839c-4597-a911-ea822961c0d6"
    },
    "slideshow": {
     "slide_type": "slide"
    }
   },
   "source": [
    "## Материалы\n",
    "\n",
    "### Оптимизация\n",
    "1. [Stephen Boyd, Lieven Vandenberghe. Convex Optimization](https://web.stanford.edu/~boyd/cvxbook/bv_cvxbook.pdf)\n",
    "\n",
    "2. [Курс по выпуклой оптимизации в Stanford'e](https://web.stanford.edu/class/ee364a/)\n",
    "\n",
    "3. [Курс по оптимизации L. Vandenberghe в UCLA](http://www.seas.ucla.edu/~vandenbe/ee236b/ee236b.html) \n",
    "\n",
    "4. [Материалы по оптимизации А.Катруцы ФУПМ МФТИ](https://github.com/amkatrutsa/MIPT-Opt) \n",
    "\n",
    "5. [Ю.Е. Нестеров. Методы выпуклой оптимизации](http://premolab.ru/pub_files/pub5/MnexoB89z7.pdf)\n",
    "\n",
    "6. [Б.Т. Поляк. Введение в оптимизацию](https://mega.nz/#!fctUlQoZ!id1FfSYuJKZJPP8xrpR1lnfW4HhC8NJhbN0wyO_5S3I)\n",
    "\n",
    "7. [Видео лекций S. Boyd'a по курсу Convex Optimization в Stanford'е](https://www.youtube.com/watch?v=McLq1hEq3UY&list=PL3940DD956CDF0622)\n",
    "\n",
    "8. [Миникурс по выпуклой оптимизации от S. Boyd'a](http://stanford.edu/~boyd/papers/cvx_short_course.html)\n",
    "\n",
    "9. [Convex Optimization: Algorithms and Complexity by S. Bubeck](https://mega.nz/#!CVcxyDCY!225VpAG7KC9V4wZ3zPwDUEotaw1pvnD9ArL6uVmLhB0)\n",
    "\n",
    "10. [Matrix Cookbook](https://www.math.uwaterloo.ca/~hwolkowi/matrixcookbook.pdf)\n",
    "\n",
    "\n",
    "###  $ \\LaTeX $\n",
    "1. [Ссылка на шаблон sharelatex для дз](https://www.sharelatex.com/project/59b1398c4caa997315dfbba9)\n",
    "2. [Лекция \"Latex для начинающих\"](https://www.youtube.com/watch?v=hSc0H143ddw)\n",
    "3. [Литература](https://mega.nz/#F!vBsU3KID!lg8OGbjGJUMb8FtMPLyclg) - Настольная книга, шпоргалка и краткое введение."
   ]
  },
  {
   "cell_type": "markdown",
   "metadata": {
    "nbpresent": {
     "id": "f9d5b1a2-65ec-4351-ad7f-c0383d434d8f"
    },
    "slideshow": {
     "slide_type": "slide"
    }
   },
   "source": [
    "## Примеры задач оптимизации или чего можно достичь, изучая этот дивный мир\n",
    "\n",
    "### Искусственный интеллект. Машинное обучение"
   ]
  },
  {
   "cell_type": "markdown",
   "metadata": {
    "nbpresent": {
     "id": "08bd2e97-8f20-4d43-8789-b4bdf386b121"
    },
    "slideshow": {
     "slide_type": "subslide"
    }
   },
   "source": [
    "![center](../files/dl.png)"
   ]
  },
  {
   "cell_type": "markdown",
   "metadata": {
    "nbpresent": {
     "id": "f7661d06-5cdd-4262-a455-59a2a5fdb753"
    },
    "slideshow": {
     "slide_type": "subslide"
    }
   },
   "source": [
    "![center](../files/saddle.gif)"
   ]
  },
  {
   "cell_type": "markdown",
   "metadata": {
    "nbpresent": {
     "id": "310e022d-b44f-417b-be6b-3a902b3eb426"
    },
    "slideshow": {
     "slide_type": "subslide"
    }
   },
   "source": [
    "![center](../files/crit.gif)"
   ]
  },
  {
   "cell_type": "markdown",
   "metadata": {
    "nbpresent": {
     "id": "588841b8-2ccc-4b33-8bad-f01df6790f78"
    },
    "slideshow": {
     "slide_type": "slide"
    }
   },
   "source": [
    "### Задача выбора портфолио\n",
    "\n",
    "* Переменные - количество денег, инвестируемых в конкретный актив\n",
    "* Ограничения - бюджет, min/max необходимое количество инвестиций в актив(ы)\n",
    "* Минимизируемый функционал: общий риск или дисперсия оценки возвращенных средств"
   ]
  },
  {
   "cell_type": "markdown",
   "metadata": {
    "nbpresent": {
     "id": "da2ccf08-2c51-4a30-804c-34ad44b580f3"
    },
    "slideshow": {
     "slide_type": "slide"
    }
   },
   "source": [
    "### Индустрия мультипликации\n",
    "\n",
    "[Статья](http://www.cs.ubc.ca/nest/imager/tr/2015/Canvases/CameraReady.pdf)\n",
    "\n",
    "Вход: рисунок, скелет.\n",
    "![center](../files/cinema_in.png)"
   ]
  },
  {
   "cell_type": "markdown",
   "metadata": {
    "nbpresent": {
     "id": "1a27ca93-5fe1-476c-82be-79f86cf3baa8"
    },
    "slideshow": {
     "slide_type": "subslide"
    }
   },
   "source": [
    "Выход: 3d модель, подобранная с помощью алгоритмов выпуклой оптимизации и корректно поставленной задачи оптимизации.\n",
    "![center](../files/cinema_out.gif)"
   ]
  },
  {
   "cell_type": "markdown",
   "metadata": {
    "nbpresent": {
     "id": "b2fc853f-1f74-4ce3-8de2-eb9c86ab631b"
    },
    "slideshow": {
     "slide_type": "slide"
    }
   },
   "source": [
    "### Общая математическая формулировка\n",
    "\n",
    "$$\\text{minimize } f_0(x)$$\n",
    "$$\\text{subject to } f_i(x) \\le b_i, i = 1, \\ldots, m$$\n",
    "\n",
    "* $x = (x_1, \\ldots, x_n)$: оптимизируемые параметры (переменные)\n",
    "* $f_0: \\mathbf{R}^n \\rightarrow \\mathbf{R}$: целевая функция\n",
    "* $f_i: \\mathbf{R}^n \\rightarrow \\mathbf{R}, i = 1, \\ldots, m$: ограничения\n",
    "\n",
    "Решение $x^*$ доставляет наименьшее значение функции $f_0(x)$ среди всех $x$, удовлетворяющих ограничениям"
   ]
  },
  {
   "cell_type": "markdown",
   "metadata": {
    "nbpresent": {
     "id": "6d88ff4c-c8d8-451c-8901-cfb3a2031b0d"
    },
    "slideshow": {
     "slide_type": "slide"
    }
   },
   "source": [
    "### История и текущее положение дел\n",
    "\n",
    "#### Теория\n",
    "* 1900 - 1970: выпуклый анализ\n",
    "* 1933+ : теория вероятностей, математическая статистика\n",
    "\n",
    "![center](../files/opt_place.png)"
   ]
  },
  {
   "cell_type": "markdown",
   "metadata": {
    "nbpresent": {
     "id": "7e0bfdef-e612-4034-b65f-e14e3bcf2583"
    },
    "slideshow": {
     "slide_type": "subslide"
    }
   },
   "source": [
    "#### Методы\n",
    "* 1947: Симплексный метод решения задач линейного программирования (Данциг)\n",
    "* 1960-ые: Методы внутренней точки \n",
    "* 1970-ые: Метод эллипоидов. Субградиентные методы\n",
    "* 1980-ые: Методы внутренней точки, работающие за полиномиальное время для линейного программирования\n",
    "* 1987+ : Методы внутренней точки для нелинейной выпуклой оптимизации (Немировский, Нестеров)\n",
    "* 2000+ : Стохастические алгоритмы невыпуклой оптимизации"
   ]
  },
  {
   "cell_type": "markdown",
   "metadata": {
    "nbpresent": {
     "id": "32681175-85b2-4881-963c-17fbf0871c20"
    },
    "slideshow": {
     "slide_type": "subslide"
    }
   },
   "source": [
    "\n",
    "#### Приложения\n",
    "* до 1990: в основном, исследование операций\n",
    "* после 1990: бурное развитие приложений, обработка сигналов, разработка схем\n",
    "* 2007+ : нейронные сети"
   ]
  },
  {
   "cell_type": "markdown",
   "metadata": {
    "nbpresent": {
     "id": "ec340b47-49f0-42b9-ac0b-c714c4c47145"
    },
    "slideshow": {
     "slide_type": "slide"
    }
   },
   "source": [
    "## Пример решения задачи оптимизации с помощью геометрической интерпретации\n",
    "\n",
    "### Пример 1\n",
    "\n",
    "$\\text{extr}\\left(x_1 + x_2\\right)$ при условии $x_1^2 + 4x_2^2 \\le 4$\n",
    "\n",
    "Решение:\n",
    "\n",
    "* Не обязательно, но полезно посмотреть на иллюстрацию ниже, чтобы представить картину полностью (иллюстрацию можно двигать и увеличивать). На ней построена целевая функция во всех точках допустимого множества"
   ]
  },
  {
   "cell_type": "code",
   "execution_count": 1,
   "metadata": {},
   "outputs": [
    {
     "name": "stdout",
     "output_type": "stream",
     "text": [
      "Collecting plotly\n",
      "\u001b[?25l  Downloading https://files.pythonhosted.org/packages/6f/ad/3784bd093dc41d4a03804df70876143a17cdb6e50f5f1fc996c3aea1dd2a/plotly-3.2.0-py2.py3-none-any.whl (37.0MB)\n",
      "\u001b[K    100% |████████████████████████████████| 37.0MB 438kB/s ta 0:00:011    44% |██████████████▎                 | 16.5MB 2.3MB/s eta 0:00:10    65% |████████████████████▉           | 24.1MB 5.6MB/s eta 0:00:03    80% |██████████████████████████      | 29.9MB 5.3MB/s eta 0:00:02\n",
      "\u001b[?25hRequirement already satisfied: pytz in /home/bratishka/anaconda3/lib/python3.6/site-packages (from plotly) (2018.4)\n",
      "Requirement already satisfied: nbformat>=4.2 in /home/bratishka/anaconda3/lib/python3.6/site-packages (from plotly) (4.4.0)\n",
      "Requirement already satisfied: requests in /home/bratishka/anaconda3/lib/python3.6/site-packages (from plotly) (2.18.4)\n",
      "Requirement already satisfied: six in /home/bratishka/anaconda3/lib/python3.6/site-packages (from plotly) (1.11.0)\n",
      "Requirement already satisfied: decorator>=4.0.6 in /home/bratishka/anaconda3/lib/python3.6/site-packages (from plotly) (4.3.0)\n",
      "Collecting retrying>=1.3.3 (from plotly)\n",
      "  Downloading https://files.pythonhosted.org/packages/44/ef/beae4b4ef80902f22e3af073397f079c96969c69b2c7d52a57ea9ae61c9d/retrying-1.3.3.tar.gz\n",
      "Requirement already satisfied: ipython_genutils in /home/bratishka/anaconda3/lib/python3.6/site-packages (from nbformat>=4.2->plotly) (0.2.0)\n",
      "Requirement already satisfied: traitlets>=4.1 in /home/bratishka/anaconda3/lib/python3.6/site-packages (from nbformat>=4.2->plotly) (4.3.2)\n",
      "Requirement already satisfied: jsonschema!=2.5.0,>=2.4 in /home/bratishka/anaconda3/lib/python3.6/site-packages (from nbformat>=4.2->plotly) (2.6.0)\n",
      "Requirement already satisfied: jupyter_core in /home/bratishka/anaconda3/lib/python3.6/site-packages (from nbformat>=4.2->plotly) (4.4.0)\n",
      "Requirement already satisfied: chardet<3.1.0,>=3.0.2 in /home/bratishka/anaconda3/lib/python3.6/site-packages (from requests->plotly) (3.0.4)\n",
      "Requirement already satisfied: idna<2.7,>=2.5 in /home/bratishka/anaconda3/lib/python3.6/site-packages (from requests->plotly) (2.6)\n",
      "Requirement already satisfied: urllib3<1.23,>=1.21.1 in /home/bratishka/anaconda3/lib/python3.6/site-packages (from requests->plotly) (1.22)\n",
      "Requirement already satisfied: certifi>=2017.4.17 in /home/bratishka/anaconda3/lib/python3.6/site-packages (from requests->plotly) (2018.4.16)\n",
      "Building wheels for collected packages: retrying\n",
      "  Running setup.py bdist_wheel for retrying ... \u001b[?25ldone\n",
      "\u001b[?25h  Stored in directory: /home/bratishka/.cache/pip/wheels/d7/a9/33/acc7b709e2a35caa7d4cae442f6fe6fbf2c43f80823d46460c\n",
      "Successfully built retrying\n",
      "Installing collected packages: retrying, plotly\n",
      "Successfully installed plotly-3.2.0 retrying-1.3.3\n"
     ]
    }
   ],
   "source": [
    "!pip install plotly "
   ]
  },
  {
   "cell_type": "code",
   "execution_count": null,
   "metadata": {
    "hide_input": false,
    "nbpresent": {
     "id": "40b6f44b-4caa-403d-91cc-3625429bf4a7"
    },
    "scrolled": false,
    "slideshow": {
     "slide_type": "subslide"
    }
   },
   "outputs": [],
   "source": [
    "import plotly\n",
    "import plotly.plotly as py\n",
    "import plotly.graph_objs as go\n",
    "plotly.offline.init_notebook_mode(connected=True)\n",
    "\n",
    "import numpy as np\n",
    "\n",
    "r = np.linspace(0,1,240)                  # radius\n",
    "phi = np.linspace(0, 2*np.pi, 240)        # angle\n",
    "\n",
    "r, phi = np.meshgrid(r, phi)              # computational grid\n",
    "\n",
    "x1 = 2 * r * np.cos(phi)                         # parametrization\n",
    "x2 = r * np.sin(phi)\n",
    "z = np.zeros((240,240))\n",
    "\n",
    "budget_set = go.Surface(x=x1, y=x2, z=z, opacity = 0.9)\n",
    "f = x1+x2                                 # target function\n",
    "# x1 = np.linspace(-4,4)\n",
    "# x2 = np.linspace(-2,2)\n",
    "# f = np.zeros((len(x1), len(x2)))\n",
    "\n",
    "# for i in range(len(x1)):\n",
    "#     for j in range(len(x2)):\n",
    "#         f[i][j] = x1[i]+ x2[j]\n",
    "\n",
    "target_function = go.Surface(x = x1, y = x2, z=f, opacity = 0.8)\n",
    "\n",
    "data = [budget_set, target_function]\n",
    "\n",
    "layout = go.Layout(\n",
    "    title='Пример 1',\n",
    "    scene=dict(\n",
    "        xaxis=dict(\n",
    "            title = 'x1',\n",
    "            gridcolor='rgb(255, 255, 255)',\n",
    "            zerolinecolor='rgb(255, 255, 255)',\n",
    "            showbackground=True,\n",
    "            backgroundcolor='rgb(230, 230,230)'\n",
    "        ),\n",
    "        yaxis=dict(\n",
    "            title = 'x2',\n",
    "            gridcolor='rgb(255, 255, 255)',\n",
    "            zerolinecolor='rgb(255, 255, 255)',\n",
    "            showbackground=True,\n",
    "            backgroundcolor='rgb(230, 230,230)'\n",
    "        ),\n",
    "        zaxis=dict(\n",
    "            title = 'f(x1, x2)',\n",
    "            gridcolor='rgb(255, 255, 255)',\n",
    "            zerolinecolor='rgb(255, 255, 255)',\n",
    "            showbackground=True,\n",
    "            backgroundcolor='rgb(230, 230,230)'\n",
    "        )\n",
    "    )\n",
    ")\n",
    "\n",
    "fig = go.Figure(data=data, layout=layout)\n",
    "plotly.offline.iplot(fig)"
   ]
  },
  {
   "cell_type": "markdown",
   "metadata": {
    "nbpresent": {
     "id": "1341c537-d081-44f7-b653-0903a22d3894"
    },
    "slideshow": {
     "slide_type": "subslide"
    }
   },
   "source": [
    "Для столь простого примера экстремумы ясны сразу, тем не менее, воспользуемся стандартной геометрической процедурой поиска:\n",
    "* Задача поиска экстремума заключается в поиске всех *инфимумов* (обратите внимание на написание), *супремумов*, *максимумов* и *минимумов* целевой функции из допустимого множества.\n",
    "* Для того, чтобы найти точки максимума и минимума имеет смысл нарисовать линии уровня целевой функции в проекции на допустимое множество:"
   ]
  },
  {
   "cell_type": "code",
   "execution_count": 3,
   "metadata": {
    "hide_input": true,
    "nbpresent": {
     "id": "7686f056-b638-4fec-b01e-4972ae411178"
    },
    "scrolled": false,
    "slideshow": {
     "slide_type": "subslide"
    }
   },
   "outputs": [
    {
     "data": {
      "text/plain": [
       "<matplotlib.legend.Legend at 0x7fc7700841d0>"
      ]
     },
     "execution_count": 3,
     "metadata": {},
     "output_type": "execute_result"
    },
    {
     "data": {
      "image/png": "[encoded data removed]",
      "text/plain": [
       "<Figure size 432x288 with 1 Axes>"
      ]
     },
     "metadata": {},
     "output_type": "display_data"
    }
   ],
   "source": [
    "import numpy as np\n",
    "from matplotlib import pyplot as plt\n",
    "%matplotlib inline\n",
    "\n",
    "r = 1                 # radius\n",
    "phi = np.linspace(0, 2*np.pi, 240)        # angle\n",
    "\n",
    "r, phi = np.meshgrid(r, phi)              # computational grid\n",
    "\n",
    "x1 = 2 * r * np.cos(phi)                         # parametrization\n",
    "x2 = r * np.sin(phi)\n",
    "\n",
    "plt.plot(x1,x2)\n",
    "plt.plot(x1, -2-x1, label='-2')\n",
    "plt.plot(x1, -1-x1, label='-1')\n",
    "plt.plot(x1, -x1, label='0')\n",
    "plt.plot(x1, 1-x1, label='1')\n",
    "plt.plot(x1, 2-x1, label='2')\n",
    "plt.ylim([-2,2])\n",
    "\n",
    "plt.legend()\n"
   ]
  },
  {
   "cell_type": "markdown",
   "metadata": {
    "nbpresent": {
     "id": "05538707-91ae-4b92-8f2e-a9f557aeca62"
    },
    "slideshow": {
     "slide_type": "subslide"
    }
   },
   "source": [
    "Ясно, что максимум и минимум достигается на границе целевого множества, т.е. на пересечении прямой $x_2 = c - x_1$ и эллипса $x_1^2 + 4x_2^2 = 4$.\n",
    "Решение задачи, доступное любому школьнику состоит в том, чтобы решить систему уравнений \n",
    "$$\n",
    " \\begin{cases}\n",
    "   x_2 = c - x_1, \\\\\n",
    "   x_1^2 + 4x_2^2 = 4.\n",
    " \\end{cases}\n",
    "$$\n",
    "\n",
    "При максимальном и минимальном допустимом значении $c$.\n",
    "\n",
    "$$\n",
    "\\begin{cases}\n",
    "   x_2 = c - x_1, \\\\\n",
    "   5x_1^2 - 8c x_1 + 4c^2 - 4 = 0\n",
    "\\end{cases}\n",
    "$$\n",
    "\n",
    "$$D = 64 c^2 - 80 c^2 + 80 = 80 - 16c^2$$\n",
    "\n",
    "$$x_1 = \\dfrac{8c \\pm \\sqrt{80 - 16c^2}}{10}$$\n",
    "\n",
    "Очевидно, что $c^2 \\le 5 \\rightarrow c_{min} = - \\sqrt{5}, c_{max} = \\sqrt{5}$\n",
    "\n",
    "Значит, $x_1 = \\dfrac{4}{5}c, \\; x_2 = \\dfrac{1}{5}c$, тогда $\\left(\\dfrac{4}{\\sqrt{5}}, \\dfrac{1}{\\sqrt{5}}\\right)$ - $max$, $\\left(-\\dfrac{4}{\\sqrt{5}}, -\\dfrac{1}{\\sqrt{5}}\\right)$ - $min$ \n",
    "\n",
    "В данной задаче супремум совпадает с точкой максимума, а инфимум с точкой минимума.\n",
    "Действительно:"
   ]
  },
  {
   "cell_type": "code",
   "execution_count": 4,
   "metadata": {
    "hide_input": true,
    "nbpresent": {
     "id": "e4a92762-5feb-4853-b8fc-9e41d02352d5"
    },
    "scrolled": false
   },
   "outputs": [
    {
     "data": {
      "text/plain": [
       "(-2, 2)"
      ]
     },
     "execution_count": 4,
     "metadata": {},
     "output_type": "execute_result"
    },
    {
     "data": {
      "image/png": "[encoded data removed]",
      "text/plain": [
       "<Figure size 432x288 with 1 Axes>"
      ]
     },
     "metadata": {},
     "output_type": "display_data"
    }
   ],
   "source": [
    "plt.plot(x1,x2)\n",
    "plt.plot(x1, np.sqrt(5)-x1, label='sqrt(5)')\n",
    "plt.plot(x1, -np.sqrt(5)-x1, label='-sqrt(5)')\n",
    "plt.ylim([-2,2])"
   ]
  },
  {
   "cell_type": "markdown",
   "metadata": {
    "nbpresent": {
     "id": "a416d7e2-a06b-468d-9834-e3b811a03d75"
    },
    "slideshow": {
     "slide_type": "subslide"
    }
   },
   "source": [
    "* Искомые точки так же можно было найти, приравняв [уравнение касательной к кривой второго порядка](https://ru.wikipedia.org/wiki/Кривая_второго_порядка) к $-1$ (угловому коэффициенту прямой уровней).\n",
    "* Отметим так же, что ситуация, когда решение оптимизационной задачи лежат на границе допустимого множества - частое явление."
   ]
  },
  {
   "cell_type": "markdown",
   "metadata": {
    "nbpresent": {
     "id": "6e8cd4b1-5986-4c2d-bf64-69fe9daf478f"
    },
    "slideshow": {
     "slide_type": "slide"
    }
   },
   "source": [
    "### Пример 2\n",
    "\n",
    "$\\text{extr}\\left(\\left|x_1\\right|^\\lambda + 2 \\left|x_2\\right|^\\lambda \\right)$ при условии $x_1^2 + 4x_2^2 \\le 4, \\;\\; \\lambda \\neq 0$\n",
    "\n",
    "Решение:\n",
    "\n",
    "* Эта задача - с параметром $\\lambda$, поэтому здесь очень важно рассмотреть все случаи. Для начала ограничимся положительными значениями $\\lambda$. \n",
    "* Взгляните на рисунки при $\\lambda < 1, \\lambda = 1, \\lambda > 1$."
   ]
  },
  {
   "cell_type": "code",
   "execution_count": null,
   "metadata": {
    "hide_input": false,
    "nbpresent": {
     "id": "7675ccee-acf0-40fa-ac83-8530331e7e08"
    },
    "scrolled": true,
    "slideshow": {
     "slide_type": "fragment"
    }
   },
   "outputs": [],
   "source": [
    "import plotly\n",
    "import plotly.plotly as py\n",
    "import plotly.graph_objs as go\n",
    "from plotly import tools\n",
    "plotly.offline.init_notebook_mode(connected=True)\n",
    "\n",
    "import numpy as np\n",
    "\n",
    "precise = 40\n",
    "r = np.linspace(0,1,precise)                  # radius\n",
    "phi = np.linspace(0, 2*np.pi, precise)        # angle\n",
    "\n",
    "r, phi = np.meshgrid(r, phi)              # computational grid\n",
    "\n",
    "x1 = 2 * r * np.cos(phi)                         # parametrization\n",
    "x2 = r * np.sin(phi)\n",
    "z = np.zeros((precise,precise))\n",
    "\n",
    "budget_set = go.Surface(x=x1, y=x2, z=z, opacity = 0.9)\n",
    "lam = [0.5, 1, 2]\n",
    "fig = tools.make_subplots(rows=1, cols=len(lam),specs=[[{'is_3d': True} for i in range(len(lam))]])\n",
    "f_ = {}\n",
    "for lamb in lam:\n",
    "    f_[lamb] = np.abs(x1)**lamb + 2*np.abs(x2)**lamb         # target function\n",
    "\n",
    "target_function = {}\n",
    "\n",
    "data = [budget_set]\n",
    "\n",
    "fig['layout'].update(title='lambda > 0')\n",
    "scene = dict(\n",
    "    xaxis=dict(\n",
    "        title = 'x1',\n",
    "        gridcolor='rgb(255, 255, 255)',\n",
    "        zerolinecolor='rgb(255, 255, 255)',\n",
    "        showbackground=True,\n",
    "        backgroundcolor='rgb(230, 230,230)'\n",
    "    ),\n",
    "    yaxis=dict(\n",
    "        title = 'x2',\n",
    "        gridcolor='rgb(255, 255, 255)',\n",
    "        zerolinecolor='rgb(255, 255, 255)',\n",
    "        showbackground=True,\n",
    "        backgroundcolor='rgb(230, 230,230)'\n",
    "    ),\n",
    "    zaxis=dict(\n",
    "        title = 'f(x1, x2)',\n",
    "        gridcolor='rgb(255, 255, 255)',\n",
    "        zerolinecolor='rgb(255, 255, 255)',\n",
    "        showbackground=True,\n",
    "        backgroundcolor='rgb(230, 230,230)'\n",
    "    )\n",
    ")\n",
    "i = 1\n",
    "for lamb in lam:\n",
    "    target_function[lamb] = go.Surface(x = x1, y = x2, z=f_[lamb], opacity = 0.8, name = 'lambda = '+str(lamb))\n",
    "    data.append(target_function[lamb])\n",
    "    fig.append_trace(budget_set, 1, i)\n",
    "    fig.append_trace(target_function[lamb], 1, i)\n",
    "    fig['layout']['scene'+str(i)].update(scene)\n",
    "    i += 1\n",
    "\n",
    "plotly.offline.iplot(fig)"
   ]
  },
  {
   "cell_type": "markdown",
   "metadata": {
    "nbpresent": {
     "id": "543abd1b-a6ba-4231-b911-e357ea93e3ae"
    },
    "slideshow": {
     "slide_type": "subslide"
    }
   },
   "source": [
    "По хорошему, задача решается абсолютно так же - рисованием линий уровней $f(x_1, x_2) = const$ и приравниванием уравнений касательных. Однако, в этой задаче ясно, что $(0, 0)$ - точка $min$ (она же инфимум этой задачи). Что же касается максимумов, давайте посмотрим:\n",
    "\n",
    "$$\n",
    " \\begin{cases}\n",
    "   x_1^2 + 4x_2^2 = 4, \\\\\n",
    "   \\left|x_1\\right|^\\lambda + 2 \\left|x_2\\right|^\\lambda = c\n",
    " \\end{cases}\n",
    "$$\n",
    "\n",
    "В силу симметрии, можем рассмотреть лишь положительные значения $x_1, x_2$:\n",
    "\n",
    "$$\n",
    " \\begin{cases}\n",
    "   x_1^2 + 4x_2^2 = 4, \\\\\n",
    "   x_1^\\lambda + 2 x_2^\\lambda = c\n",
    " \\end{cases}\n",
    "$$\n",
    "\n",
    "Вообще говоря, надо решить эту систему для всех $\\lambda$ и максимального значения $c$, т.е. можно выразить $x_2 = x_2(x_1)$ и приравнять производные по $x_1$ первого и второго уравнений (условие касания). Особый интерес вызывает поведение решений при $\\lambda \\in (1,2)$, при всех остальных положительных значениях решения совпадают с теми, что указаны на рисунке выше. Читателю предлагается придумать способ найти аналитическое решение в этом случае.\n",
    "\n",
    "В случае же $\\lambda <0$ точка $(0,0)$ является супремумом целевой функции на заданном множестве. И эту точку стоит включить в ответ. Графики ниже."
   ]
  },
  {
   "cell_type": "code",
   "execution_count": null,
   "metadata": {
    "hide_input": false,
    "nbpresent": {
     "id": "00457009-74c9-4769-ab63-2724af35125e"
    },
    "slideshow": {
     "slide_type": "subslide"
    }
   },
   "outputs": [],
   "source": [
    "import plotly\n",
    "import plotly.plotly as py\n",
    "import plotly.graph_objs as go\n",
    "from plotly import tools\n",
    "plotly.offline.init_notebook_mode(connected=True)\n",
    "\n",
    "import numpy as np\n",
    "\n",
    "precise = 40\n",
    "r = np.linspace(0,1,precise)                  # radius\n",
    "phi = np.linspace(0, 2*np.pi, precise)        # angle\n",
    "\n",
    "r, phi = np.meshgrid(r, phi)              # computational grid\n",
    "\n",
    "x1 = 2 * r * np.cos(phi)                         # parametrization\n",
    "x2 = r * np.sin(phi)\n",
    "z = np.zeros((precise,precise))\n",
    "\n",
    "budget_set = go.Surface(x=x1, y=x2, z=z, opacity = 0.9)\n",
    "lam = [-0.5, -1, -2]\n",
    "fig = tools.make_subplots(rows=1, cols=len(lam),specs=[[{'is_3d': True} for i in range(len(lam))]])\n",
    "f_ = {}\n",
    "for lamb in lam:\n",
    "    f_[lamb] = np.abs(x1)**lamb + 2*np.abs(x2)**lamb         # target function\n",
    "\n",
    "target_function = {}\n",
    "\n",
    "data = [budget_set]\n",
    "\n",
    "fig['layout'].update(title='lambda < 0')\n",
    "scene = dict(\n",
    "    xaxis=dict(\n",
    "        title = 'x1',\n",
    "        gridcolor='rgb(255, 255, 255)',\n",
    "        zerolinecolor='rgb(255, 255, 255)',\n",
    "        showbackground=True,\n",
    "        backgroundcolor='rgb(230, 230,230)'\n",
    "    ),\n",
    "    yaxis=dict(\n",
    "        title = 'x2',\n",
    "        gridcolor='rgb(255, 255, 255)',\n",
    "        zerolinecolor='rgb(255, 255, 255)',\n",
    "        showbackground=True,\n",
    "        backgroundcolor='rgb(230, 230,230)'\n",
    "    ),\n",
    "    zaxis=dict(\n",
    "        title = 'f(x1, x2)',\n",
    "        gridcolor='rgb(255, 255, 255)',\n",
    "        zerolinecolor='rgb(255, 255, 255)',\n",
    "        showbackground=True,\n",
    "        backgroundcolor='rgb(230, 230,230)',\n",
    "        range = [0,20]\n",
    "    )\n",
    ")\n",
    "i = 1\n",
    "for lamb in lam:\n",
    "    target_function[lamb] = go.Surface(x = x1, y = x2, z=f_[lamb], opacity = 0.8, name = 'lambda = '+str(lamb))\n",
    "    data.append(target_function[lamb])\n",
    "    fig.append_trace(budget_set, 1, i)\n",
    "    fig.append_trace(target_function[lamb], 1, i)\n",
    "    fig['layout']['scene'+str(i)].update(scene)\n",
    "    i += 1\n",
    "\n",
    "plotly.offline.iplot(fig)"
   ]
  },
  {
   "cell_type": "markdown",
   "metadata": {
    "nbpresent": {
     "id": "7aeb41ef-f545-4e2a-99e1-6b5832701720"
    },
    "slideshow": {
     "slide_type": "slide"
    }
   },
   "source": [
    "## Домашнее задание 1\n",
    "Используя геометрические интерпретации, решить следующие экстремальные задачи:\n",
    "1. $\\text{extr}\\left(\\left|x_1\\right|^\\lambda + 2 \\left|x_2\\right|^\\lambda \\right)$ при условии $x_1^2 + 4x_2^2 = 4, \\;\\; \\lambda \\neq 0$\n",
    "\n",
    "2. $\\text{extr}\\left(x_1^2 + 4x_2^2\\right)$ при условии $\\left|x_1\\right|^\\lambda + 2 \\left|x_2\\right|^\\lambda \\le 1, \\;\\; \\lambda \\neq 0$\n",
    "\n",
    "3. $\\text{extr}\\left(x_1^2 + 4x_2^2\\right)$ при условии $\\left|x_1\\right|^\\lambda + 2 \\left|x_2\\right|^\\lambda = 1, \\;\\; \\lambda \\neq 0$\n",
    "\n",
    "В качестве решения необходимо предоставить либо:\n",
    "- `jupyter notebook` с построенными графиками целевой функции и бюджетного множества, описывающие различные параметры $\\lambda$. Для построения графиков можно использовать код указанный в этом семинаре, но будет проще рабоать с библиотекой `matplotlib`\n",
    "- Аналитическое решение при $\\lambda \\in Z \\neq 0$ с рассмотрением всех случаев\n",
    "\n",
    "Плюсом будут отмечены те решения, что рассмотрят $\\lambda \\in R \\backslash \\{0\\}$"
   ]
  }
 ],
 "metadata": {
  "anaconda-cloud": {},
  "celltoolbar": "Slideshow",
  "kernelspec": {
   "display_name": "Python 3",
   "language": "python",
   "name": "python3"
  },
  "language_info": {
   "codemirror_mode": {
    "name": "ipython",
    "version": 3
   },
   "file_extension": ".py",
   "mimetype": "text/x-python",
   "name": "python",
   "nbconvert_exporter": "python",
   "pygments_lexer": "ipython3",
   "version": "3.6.5"
  },
  "latex_envs": {
   "LaTeX_envs_menu_present": true,
   "bibliofile": "biblio.bib",
   "cite_by": "apalike",
   "current_citInitial": 1,
   "eqLabelWithNumbers": true,
   "eqNumInitial": 1,
   "labels_anchors": false,
   "latex_user_defs": false,
   "report_style_numbering": false,
   "user_envs_cfg": false
  },
  "nbpresent": {
   "slides": {
    "02f2ea68-6ad5-45a7-b48e-c2dac726dc1b": {
     "id": "02f2ea68-6ad5-45a7-b48e-c2dac726dc1b",
     "prev": "b5c04f31-43a2-42e1-b0ed-57844ecde34d",
     "regions": {
      "721c0051-69f8-41b4-9549-ec2beb5bc8c2": {
       "attrs": {
        "height": 0.4,
        "width": 0.8,
        "x": 0.1,
        "y": 0.5
       },
       "content": {
        "cell": "e4a92762-5feb-4853-b8fc-9e41d02352d5",
        "part": "whole"
       },
       "id": "721c0051-69f8-41b4-9549-ec2beb5bc8c2"
      },
      "afb225ca-885b-4406-9ceb-b821aa32ab90": {
       "attrs": {
        "height": 0.8,
        "width": 0.8,
        "x": 0.1,
        "y": 0.1
       },
       "content": {
        "cell": "05538707-91ae-4b92-8f2e-a9f557aeca62",
        "part": "whole"
       },
       "id": "afb225ca-885b-4406-9ceb-b821aa32ab90"
      }
     }
    },
    "1686a7ec-01b4-4796-9664-dd6fcff48a98": {
     "id": "1686a7ec-01b4-4796-9664-dd6fcff48a98",
     "prev": "5df63e7a-7559-4edf-927e-761b7409d56e",
     "regions": {
      "880877b9-e24f-4f68-b9ca-2daf4832a222": {
       "attrs": {
        "height": 0.8,
        "width": 0.8,
        "x": 0.1,
        "y": 0.1
       },
       "content": {
        "cell": "c62eba18-5691-4700-9846-6baa3cb893c0",
        "part": "whole"
       },
       "id": "880877b9-e24f-4f68-b9ca-2daf4832a222"
      }
     }
    },
    "1ccb59b8-f67d-4174-85cd-5b92064bfd24": {
     "id": "1ccb59b8-f67d-4174-85cd-5b92064bfd24",
     "prev": "9a6f1cb8-923d-4962-bc69-49fefb9c19fd",
     "regions": {
      "9b3835f9-f439-4b6b-9cc7-63ea5d553749": {
       "attrs": {
        "height": 0.8,
        "width": 0.8,
        "x": 0.1,
        "y": 0.1
       },
       "content": {
        "cell": "7e0bfdef-e612-4034-b65f-e14e3bcf2583",
        "part": "whole"
       },
       "id": "9b3835f9-f439-4b6b-9cc7-63ea5d553749"
      }
     }
    },
    "296c0a82-12b0-4e41-bdd6-7945b488d956": {
     "id": "296c0a82-12b0-4e41-bdd6-7945b488d956",
     "prev": "f4eed89c-7d8e-488d-b74f-19f6d7abeda1",
     "regions": {
      "9ba1c9e2-0c8d-4169-afeb-a8a6f86ad34d": {
       "attrs": {
        "height": 0.8,
        "width": 0.8,
        "x": 0.1,
        "y": 0.1
       },
       "content": {
        "cell": "588841b8-2ccc-4b33-8bad-f01df6790f78",
        "part": "whole"
       },
       "id": "9ba1c9e2-0c8d-4169-afeb-a8a6f86ad34d"
      }
     }
    },
    "2d756df5-c6c5-4b11-8cad-93038f90f1b9": {
     "id": "2d756df5-c6c5-4b11-8cad-93038f90f1b9",
     "prev": "69510567-0618-4b6a-828e-5db09d4cbe00",
     "regions": {
      "454c4c4f-588a-4cb1-9a71-5def4453d3cf": {
       "attrs": {
        "height": 0.4,
        "width": 0.8,
        "x": 0.1,
        "y": 0.5
       },
       "content": {
        "cell": "7675ccee-acf0-40fa-ac83-8530331e7e08",
        "part": "whole"
       },
       "id": "454c4c4f-588a-4cb1-9a71-5def4453d3cf"
      },
      "99d20333-c211-4cca-930c-71102e324729": {
       "attrs": {
        "height": 0.8,
        "width": 0.8,
        "x": 0.1,
        "y": 0.1
       },
       "content": {
        "cell": "6e8cd4b1-5986-4c2d-bf64-69fe9daf478f",
        "part": "whole"
       },
       "id": "99d20333-c211-4cca-930c-71102e324729"
      }
     }
    },
    "2ee2805e-ee0f-4368-afd8-2db923b5e490": {
     "id": "2ee2805e-ee0f-4368-afd8-2db923b5e490",
     "prev": "da23418a-1c48-4d10-98ce-807f7aedb717",
     "regions": {
      "28ce861f-7a71-49f5-b527-cbb3f3e68666": {
       "attrs": {
        "height": 0.8,
        "width": 0.8,
        "x": 0.1,
        "y": 0.1
       },
       "content": {
        "cell": "66bc2ecf-3354-4d17-ba91-66df54c820af",
        "part": "whole"
       },
       "id": "28ce861f-7a71-49f5-b527-cbb3f3e68666"
      }
     }
    },
    "3240e38f-29e9-4e13-adc6-0dcfa6d37a75": {
     "id": "3240e38f-29e9-4e13-adc6-0dcfa6d37a75",
     "prev": "92d0247f-0c63-4e7f-8a99-f648c0fb53cb",
     "regions": {
      "10444ea4-6424-4e78-843d-7ae01b5a3e1b": {
       "attrs": {
        "height": 0.8,
        "width": 0.8,
        "x": 0.1,
        "y": 0.1
       },
       "content": {
        "cell": "f7661d06-5cdd-4262-a455-59a2a5fdb753",
        "part": "whole"
       },
       "id": "10444ea4-6424-4e78-843d-7ae01b5a3e1b"
      }
     }
    },
    "4043471b-f4cd-4938-ae93-346ab5ae0471": {
     "id": "4043471b-f4cd-4938-ae93-346ab5ae0471",
     "prev": "296c0a82-12b0-4e41-bdd6-7945b488d956",
     "regions": {
      "8ad20be5-9a2c-4ec6-9370-7d4d4c7d25e5": {
       "attrs": {
        "height": 0.8,
        "width": 0.8,
        "x": 0.1,
        "y": 0.1
       },
       "content": {
        "cell": "da2ccf08-2c51-4a30-804c-34ad44b580f3",
        "part": "whole"
       },
       "id": "8ad20be5-9a2c-4ec6-9370-7d4d4c7d25e5"
      }
     }
    },
    "4d4b21f1-0b84-42ec-89ec-a239010437a2": {
     "id": "4d4b21f1-0b84-42ec-89ec-a239010437a2",
     "prev": "1ccb59b8-f67d-4174-85cd-5b92064bfd24",
     "regions": {
      "fb2ebf23-36ad-40e8-9ee3-7deec130f301": {
       "attrs": {
        "height": 0.8,
        "width": 0.8,
        "x": 0.1,
        "y": 0.1
       },
       "content": {
        "cell": "32681175-85b2-4881-963c-17fbf0871c20",
        "part": "whole"
       },
       "id": "fb2ebf23-36ad-40e8-9ee3-7deec130f301"
      }
     }
    },
    "5df63e7a-7559-4edf-927e-761b7409d56e": {
     "id": "5df63e7a-7559-4edf-927e-761b7409d56e",
     "prev": "ee60fc43-4c2c-45e7-bdf2-21a41b3f901d",
     "regions": {
      "44eab4ec-6ab9-4ce2-9c2f-fb6a8ef7ba40": {
       "attrs": {
        "height": 0.8,
        "width": 0.8,
        "x": 0.1,
        "y": 0.1
       },
       "content": {
        "cell": "31922faf-f44d-4973-b6a8-d6aca4849db1",
        "part": "whole"
       },
       "id": "44eab4ec-6ab9-4ce2-9c2f-fb6a8ef7ba40"
      }
     }
    },
    "69510567-0618-4b6a-828e-5db09d4cbe00": {
     "id": "69510567-0618-4b6a-828e-5db09d4cbe00",
     "prev": "02f2ea68-6ad5-45a7-b48e-c2dac726dc1b",
     "regions": {
      "3f4f0e91-23b6-4a72-8b7c-a5f651183d9a": {
       "attrs": {
        "height": 0.8,
        "width": 0.8,
        "x": 0.1,
        "y": 0.1
       },
       "content": {
        "cell": "a416d7e2-a06b-468d-9834-e3b811a03d75",
        "part": "whole"
       },
       "id": "3f4f0e91-23b6-4a72-8b7c-a5f651183d9a"
      }
     }
    },
    "69f945de-f1db-4b97-b11c-f75c936c94dc": {
     "id": "69f945de-f1db-4b97-b11c-f75c936c94dc",
     "prev": "fe83862e-9bb9-47a3-869f-805dc26e9188",
     "regions": {
      "ea689667-4393-43fa-8a2f-955ca52ebe01": {
       "attrs": {
        "height": 0.8,
        "width": 0.8,
        "x": 0.1,
        "y": 0.1
       },
       "content": {
        "cell": "b2fc853f-1f74-4ce3-8de2-eb9c86ab631b",
        "part": "whole"
       },
       "id": "ea689667-4393-43fa-8a2f-955ca52ebe01"
      }
     }
    },
    "734eab91-42e2-4878-a606-879ce86b7f91": {
     "id": "734eab91-42e2-4878-a606-879ce86b7f91",
     "prev": "7d63c671-46b8-40a3-a798-fc680296aad6",
     "regions": {
      "5dc83919-868e-4135-bc9a-a43cc6fe83fd": {
       "attrs": {
        "height": 0.8,
        "width": 0.8,
        "x": 0.1,
        "y": 0.1
       },
       "content": {
        "cell": "f71bc77d-60e8-40e7-b57c-f49413c5845c",
        "part": "whole"
       },
       "id": "5dc83919-868e-4135-bc9a-a43cc6fe83fd"
      }
     }
    },
    "7be73076-069c-415a-a967-a32203cd84cf": {
     "id": "7be73076-069c-415a-a967-a32203cd84cf",
     "prev": "4d4b21f1-0b84-42ec-89ec-a239010437a2",
     "regions": {
      "64ecb34d-9cec-494e-a94d-99b6c84e0452": {
       "attrs": {
        "height": 0.8,
        "width": 0.8,
        "x": 0.1,
        "y": 0.1
       },
       "content": {
        "cell": "ec340b47-49f0-42b9-ac0b-c714c4c47145",
        "part": "whole"
       },
       "id": "64ecb34d-9cec-494e-a94d-99b6c84e0452"
      }
     }
    },
    "7d63c671-46b8-40a3-a798-fc680296aad6": {
     "id": "7d63c671-46b8-40a3-a798-fc680296aad6",
     "prev": null,
     "regions": {
      "cb3a6f8f-c6ba-49b3-a520-8c08e550ee89": {
       "attrs": {
        "height": 0.8,
        "width": 0.8,
        "x": 0.1,
        "y": 0.1
       },
       "content": {
        "cell": "7e5f0ba3-2aab-4514-8a73-9cd9bab4b09e",
        "part": "whole"
       },
       "id": "cb3a6f8f-c6ba-49b3-a520-8c08e550ee89"
      }
     }
    },
    "92d0247f-0c63-4e7f-8a99-f648c0fb53cb": {
     "id": "92d0247f-0c63-4e7f-8a99-f648c0fb53cb",
     "prev": "9be0db2a-5058-4735-8ba3-45da7a40830d",
     "regions": {
      "c9511454-f78b-4fb5-b5cb-50d8864e7588": {
       "attrs": {
        "height": 0.8,
        "width": 0.8,
        "x": 0.1,
        "y": 0.1
       },
       "content": {
        "cell": "08bd2e97-8f20-4d43-8789-b4bdf386b121",
        "part": "whole"
       },
       "id": "c9511454-f78b-4fb5-b5cb-50d8864e7588"
      }
     }
    },
    "97e163bc-a913-4d07-904d-8531b33d556e": {
     "id": "97e163bc-a913-4d07-904d-8531b33d556e",
     "prev": "f496e59b-a304-4bb5-8a80-001890eda4fe",
     "regions": {
      "51ff56a9-ae36-4292-97c6-65232830e60a": {
       "attrs": {
        "height": 0.8,
        "width": 0.8,
        "x": 0.1,
        "y": 0.1
       },
       "content": {
        "cell": "1341c537-d081-44f7-b653-0903a22d3894",
        "part": "whole"
       },
       "id": "51ff56a9-ae36-4292-97c6-65232830e60a"
      }
     }
    },
    "9a6f1cb8-923d-4962-bc69-49fefb9c19fd": {
     "id": "9a6f1cb8-923d-4962-bc69-49fefb9c19fd",
     "prev": "69f945de-f1db-4b97-b11c-f75c936c94dc",
     "regions": {
      "298223a1-ac5b-4562-addc-b0c32737bde2": {
       "attrs": {
        "height": 0.8,
        "width": 0.8,
        "x": 0.1,
        "y": 0.1
       },
       "content": {
        "cell": "6d88ff4c-c8d8-451c-8901-cfb3a2031b0d",
        "part": "whole"
       },
       "id": "298223a1-ac5b-4562-addc-b0c32737bde2"
      }
     }
    },
    "9abe0dbd-e188-415a-9027-04bf039741a0": {
     "id": "9abe0dbd-e188-415a-9027-04bf039741a0",
     "prev": "2ee2805e-ee0f-4368-afd8-2db923b5e490",
     "regions": {
      "798af75b-2be8-4cd0-be37-4874fe6d5750": {
       "attrs": {
        "height": 0.8,
        "width": 0.8,
        "x": 0.1,
        "y": 0.1
       },
       "content": {
        "cell": "859661cf-839c-4597-a911-ea822961c0d6",
        "part": "whole"
       },
       "id": "798af75b-2be8-4cd0-be37-4874fe6d5750"
      }
     }
    },
    "9be0db2a-5058-4735-8ba3-45da7a40830d": {
     "id": "9be0db2a-5058-4735-8ba3-45da7a40830d",
     "prev": "9abe0dbd-e188-415a-9027-04bf039741a0",
     "regions": {
      "c47ed4b9-0461-4e91-8534-2286d5761ae0": {
       "attrs": {
        "height": 0.8,
        "width": 0.8,
        "x": 0.1,
        "y": 0.1
       },
       "content": {
        "cell": "f9d5b1a2-65ec-4351-ad7f-c0383d434d8f",
        "part": "whole"
       },
       "id": "c47ed4b9-0461-4e91-8534-2286d5761ae0"
      }
     }
    },
    "b20a060f-220a-4eeb-a622-7fe9ae7d7cc8": {
     "id": "b20a060f-220a-4eeb-a622-7fe9ae7d7cc8",
     "prev": "ddbcfcc5-02af-4660-b6f2-3678b8442a64",
     "regions": {
      "edc6b7ff-4aaa-4fcd-a8e2-b0336c1cd511": {
       "attrs": {
        "height": 0.8,
        "width": 0.8,
        "x": 0.1,
        "y": 0.1
       },
       "content": {
        "cell": "7aeb41ef-f545-4e2a-99e1-6b5832701720",
        "part": "whole"
       },
       "id": "edc6b7ff-4aaa-4fcd-a8e2-b0336c1cd511"
      }
     }
    },
    "b5c04f31-43a2-42e1-b0ed-57844ecde34d": {
     "id": "b5c04f31-43a2-42e1-b0ed-57844ecde34d",
     "prev": "97e163bc-a913-4d07-904d-8531b33d556e",
     "regions": {
      "c277e0f1-397e-49d1-98e2-301e861526f0": {
       "attrs": {
        "height": 0.8,
        "width": 0.8,
        "x": 0.1,
        "y": 0.1
       },
       "content": {
        "cell": "7686f056-b638-4fec-b01e-4972ae411178",
        "part": "whole"
       },
       "id": "c277e0f1-397e-49d1-98e2-301e861526f0"
      }
     }
    },
    "bfb8eb41-3f02-4072-84f0-883e0f6ef591": {
     "id": "bfb8eb41-3f02-4072-84f0-883e0f6ef591",
     "prev": "2d756df5-c6c5-4b11-8cad-93038f90f1b9",
     "regions": {
      "81323715-2a46-43db-b404-29b018245171": {
       "attrs": {
        "height": 0.8,
        "width": 0.8,
        "x": 0.1,
        "y": 0.1
       },
       "content": {
        "cell": "543abd1b-a6ba-4231-b911-e357ea93e3ae",
        "part": "whole"
       },
       "id": "81323715-2a46-43db-b404-29b018245171"
      }
     }
    },
    "cb36afac-9008-4e7c-bb80-4cd0ccd22789": {
     "id": "cb36afac-9008-4e7c-bb80-4cd0ccd22789",
     "prev": "734eab91-42e2-4878-a606-879ce86b7f91",
     "regions": {
      "4b257da3-8bab-4402-abbf-5a8e2d00b424": {
       "attrs": {
        "height": 0.8,
        "width": 0.8,
        "x": 0.1,
        "y": 0.1
       },
       "content": {
        "cell": "b3ff32d8-5dfe-4de1-bd91-4f833b614c4f",
        "part": "whole"
       },
       "id": "4b257da3-8bab-4402-abbf-5a8e2d00b424"
      }
     }
    },
    "da23418a-1c48-4d10-98ce-807f7aedb717": {
     "id": "da23418a-1c48-4d10-98ce-807f7aedb717",
     "prev": "1686a7ec-01b4-4796-9664-dd6fcff48a98",
     "regions": {
      "c7e5f432-e10e-437c-ae6a-f6eca6c81f0c": {
       "attrs": {
        "height": 0.8,
        "width": 0.8,
        "x": 0.1,
        "y": 0.1
       },
       "content": {
        "cell": "9d576b8a-f8c1-4d00-b2e5-c9999a7cd5cd",
        "part": "whole"
       },
       "id": "c7e5f432-e10e-437c-ae6a-f6eca6c81f0c"
      }
     }
    },
    "ddbcfcc5-02af-4660-b6f2-3678b8442a64": {
     "id": "ddbcfcc5-02af-4660-b6f2-3678b8442a64",
     "prev": "bfb8eb41-3f02-4072-84f0-883e0f6ef591",
     "regions": {
      "be1191ef-d6a0-4870-ab36-9c31f0f6277c": {
       "attrs": {
        "height": 0.8,
        "width": 0.8,
        "x": 0.1,
        "y": 0.1
       },
       "content": {
        "cell": "00457009-74c9-4769-ab63-2724af35125e",
        "part": "whole"
       },
       "id": "be1191ef-d6a0-4870-ab36-9c31f0f6277c"
      }
     }
    },
    "ee60fc43-4c2c-45e7-bdf2-21a41b3f901d": {
     "id": "ee60fc43-4c2c-45e7-bdf2-21a41b3f901d",
     "prev": "cb36afac-9008-4e7c-bb80-4cd0ccd22789",
     "regions": {
      "d5cf8a65-e097-46dd-ae67-16b1084a2198": {
       "attrs": {
        "height": 0.8,
        "width": 0.8,
        "x": 0.1,
        "y": 0.1
       },
       "content": {
        "cell": "397e4c8a-285a-43ba-bb49-49cb86817da1",
        "part": "whole"
       },
       "id": "d5cf8a65-e097-46dd-ae67-16b1084a2198"
      }
     }
    },
    "f496e59b-a304-4bb5-8a80-001890eda4fe": {
     "id": "f496e59b-a304-4bb5-8a80-001890eda4fe",
     "prev": "7be73076-069c-415a-a967-a32203cd84cf",
     "regions": {
      "bf256331-300f-4326-b82a-c14af403d9b6": {
       "attrs": {
        "height": 0.8,
        "width": 0.8,
        "x": 0.1,
        "y": 0.1
       },
       "content": {
        "cell": "40b6f44b-4caa-403d-91cc-3625429bf4a7",
        "part": "whole"
       },
       "id": "bf256331-300f-4326-b82a-c14af403d9b6"
      }
     }
    },
    "f4eed89c-7d8e-488d-b74f-19f6d7abeda1": {
     "id": "f4eed89c-7d8e-488d-b74f-19f6d7abeda1",
     "prev": "3240e38f-29e9-4e13-adc6-0dcfa6d37a75",
     "regions": {
      "12f1fd84-3d79-409b-a6f3-d634a67ff97f": {
       "attrs": {
        "height": 0.8,
        "width": 0.8,
        "x": 0.1,
        "y": 0.1
       },
       "content": {
        "cell": "310e022d-b44f-417b-be6b-3a902b3eb426",
        "part": "whole"
       },
       "id": "12f1fd84-3d79-409b-a6f3-d634a67ff97f"
      }
     }
    },
    "fe83862e-9bb9-47a3-869f-805dc26e9188": {
     "id": "fe83862e-9bb9-47a3-869f-805dc26e9188",
     "prev": "4043471b-f4cd-4938-ae93-346ab5ae0471",
     "regions": {
      "c00687fb-ed96-4976-930d-c7dfc934651e": {
       "attrs": {
        "height": 0.8,
        "width": 0.8,
        "x": 0.1,
        "y": 0.1
       },
       "content": {
        "cell": "1a27ca93-5fe1-476c-82be-79f86cf3baa8",
        "part": "whole"
       },
       "id": "c00687fb-ed96-4976-930d-c7dfc934651e"
      }
     }
    }
   },
   "themes": {
    "default": "0c99f5a0-8fe6-4a35-bcf0-1c761dc68402",
    "theme": {
     "08628237-21bc-49b9-b8c9-0a9983134b3d": {
      "backgrounds": {
       "dc7afa04-bf90-40b1-82a5-726e3cff5267": {
        "background-color": "31af15d2-7e15-44c5-ab5e-e04b16a89eff",
        "id": "dc7afa04-bf90-40b1-82a5-726e3cff5267"
       }
      },
      "id": "08628237-21bc-49b9-b8c9-0a9983134b3d",
      "palette": {
       "19cc588f-0593-49c9-9f4b-e4d7cc113b1c": {
        "id": "19cc588f-0593-49c9-9f4b-e4d7cc113b1c",
        "rgb": [
         252,
         252,
         252
        ]
       },
       "31af15d2-7e15-44c5-ab5e-e04b16a89eff": {
        "id": "31af15d2-7e15-44c5-ab5e-e04b16a89eff",
        "rgb": [
         68,
         68,
         68
        ]
       },
       "50f92c45-a630-455b-aec3-788680ec7410": {
        "id": "50f92c45-a630-455b-aec3-788680ec7410",
        "rgb": [
         197,
         226,
         245
        ]
       },
       "c5cc3653-2ee1-402a-aba2-7caae1da4f6c": {
        "id": "c5cc3653-2ee1-402a-aba2-7caae1da4f6c",
        "rgb": [
         43,
         126,
         184
        ]
       },
       "efa7f048-9acb-414c-8b04-a26811511a21": {
        "id": "efa7f048-9acb-414c-8b04-a26811511a21",
        "rgb": [
         25.118061674008803,
         73.60176211453744,
         107.4819383259912
        ]
       }
      },
      "rules": {
       "a": {
        "color": "19cc588f-0593-49c9-9f4b-e4d7cc113b1c"
       },
       "blockquote": {
        "color": "50f92c45-a630-455b-aec3-788680ec7410",
        "font-size": 3
       },
       "code": {
        "font-family": "Anonymous Pro"
       },
       "h1": {
        "color": "19cc588f-0593-49c9-9f4b-e4d7cc113b1c",
        "font-family": "Merriweather",
        "font-size": 8
       },
       "h2": {
        "color": "19cc588f-0593-49c9-9f4b-e4d7cc113b1c",
        "font-family": "Merriweather",
        "font-size": 6
       },
       "h3": {
        "color": "50f92c45-a630-455b-aec3-788680ec7410",
        "font-family": "Lato",
        "font-size": 5.5
       },
       "h4": {
        "color": "c5cc3653-2ee1-402a-aba2-7caae1da4f6c",
        "font-family": "Lato",
        "font-size": 5
       },
       "h5": {
        "font-family": "Lato"
       },
       "h6": {
        "font-family": "Lato"
       },
       "h7": {
        "font-family": "Lato"
       },
       "li": {
        "color": "50f92c45-a630-455b-aec3-788680ec7410",
        "font-size": 3.25
       },
       "pre": {
        "font-family": "Anonymous Pro",
        "font-size": 4
       }
      },
      "text-base": {
       "color": "19cc588f-0593-49c9-9f4b-e4d7cc113b1c",
       "font-family": "Lato",
       "font-size": 4
      }
     },
     "0c99f5a0-8fe6-4a35-bcf0-1c761dc68402": {
      "backgrounds": {
       "backgroundColor": {
        "background-color": "backgroundColor",
        "id": "backgroundColor"
       }
      },
      "id": "0c99f5a0-8fe6-4a35-bcf0-1c761dc68402",
      "palette": {
       "backgroundColor": {
        "id": "backgroundColor",
        "rgb": [
         253,
         246,
         227
        ]
       },
       "headingColor": {
        "id": "headingColor",
        "rgb": [
         88,
         110,
         117
        ]
       },
       "linkColor": {
        "id": "linkColor",
        "rgb": [
         38,
         139,
         210
        ]
       },
       "mainColor": {
        "id": "mainColor",
        "rgb": [
         101,
         123,
         131
        ]
       }
      },
      "rules": {
       "a": {
        "color": "linkColor"
       },
       "h1": {
        "color": "headingColor",
        "font-family": "Oswald",
        "font-size": 7
       },
       "h2": {
        "color": "headingColor",
        "font-family": "Oswald",
        "font-size": 5
       },
       "h3": {
        "color": "headingColor",
        "font-family": "Oswald",
        "font-size": 3.75
       },
       "h4": {
        "color": "headingColor",
        "font-family": "Oswald",
        "font-size": 3
       },
       "h5": {
        "color": "headingColor",
        "font-family": "Oswald"
       },
       "h6": {
        "color": "headingColor",
        "font-family": "Oswald"
       },
       "h7": {
        "color": "headingColor",
        "font-family": "Oswald"
       },
       "li": {
        "color": "mainColor",
        "font-family": "Lato",
        "font-size": 5
       },
       "p": {
        "color": "mainColor",
        "font-family": "Lato",
        "font-size": 5
       }
      },
      "text-base": {
       "color": "mainColor",
       "font-family": "Lato",
       "font-size": 5
      }
     },
     "2990f581-7b85-4795-abca-4743d47dc124": {
      "backgrounds": {
       "backgroundColor": {
        "background-color": "backgroundColor",
        "id": "backgroundColor"
       }
      },
      "id": "2990f581-7b85-4795-abca-4743d47dc124",
      "palette": {
       "backgroundColor": {
        "id": "backgroundColor",
        "rgb": [
         0,
         43,
         54
        ]
       },
       "headingColor": {
        "id": "headingColor",
        "rgb": [
         238,
         232,
         213
        ]
       },
       "linkColor": {
        "id": "linkColor",
        "rgb": [
         38,
         139,
         210
        ]
       },
       "mainColor": {
        "id": "mainColor",
        "rgb": [
         147,
         161,
         161
        ]
       }
      },
      "rules": {
       "a": {
        "color": "linkColor"
       },
       "h1": {
        "color": "headingColor",
        "font-family": "Oswald",
        "font-size": 7
       },
       "h2": {
        "color": "headingColor",
        "font-family": "Oswald",
        "font-size": 5
       },
       "h3": {
        "color": "headingColor",
        "font-family": "Oswald",
        "font-size": 3.75
       },
       "h4": {
        "color": "headingColor",
        "font-family": "Oswald",
        "font-size": 3
       },
       "h5": {
        "color": "headingColor",
        "font-family": "Oswald"
       },
       "h6": {
        "color": "headingColor",
        "font-family": "Oswald"
       },
       "h7": {
        "color": "headingColor",
        "font-family": "Oswald"
       },
       "li": {
        "color": "mainColor",
        "font-family": "Lato",
        "font-size": 5
       },
       "p": {
        "color": "mainColor",
        "font-family": "Lato",
        "font-size": 5
       }
      },
      "text-base": {
       "color": "mainColor",
       "font-family": "Lato",
       "font-size": 5
      }
     },
     "44d35e87-e4ac-4e24-a3bc-3991e4b5ba38": {
      "backgrounds": {
       "backgroundColor": {
        "background-color": "backgroundColor",
        "id": "backgroundColor"
       }
      },
      "id": "44d35e87-e4ac-4e24-a3bc-3991e4b5ba38",
      "palette": {
       "backgroundColor": {
        "id": "backgroundColor",
        "rgb": [
         256,
         256,
         256
        ]
       },
       "headingColor": {
        "id": "headingColor",
        "rgb": [
         34,
         34,
         34
        ]
       },
       "linkColor": {
        "id": "linkColor",
        "rgb": [
         42,
         118,
         221
        ]
       },
       "mainColor": {
        "id": "mainColor",
        "rgb": [
         34,
         34,
         34
        ]
       }
      },
      "rules": {
       "a": {
        "color": "linkColor"
       },
       "h1": {
        "color": "headingColor",
        "font-family": "Source Sans Pro",
        "font-size": 5.25
       },
       "h2": {
        "color": "headingColor",
        "font-family": "Source Sans Pro",
        "font-size": 4
       },
       "h3": {
        "color": "headingColor",
        "font-family": "Source Sans Pro",
        "font-size": 3.5
       },
       "h4": {
        "color": "headingColor",
        "font-family": "Source Sans Pro",
        "font-size": 3
       },
       "h5": {
        "color": "headingColor",
        "font-family": "Source Sans Pro"
       },
       "h6": {
        "color": "headingColor",
        "font-family": "Source Sans Pro"
       },
       "h7": {
        "color": "headingColor",
        "font-family": "Source Sans Pro"
       },
       "li": {
        "color": "mainColor",
        "font-family": "Source Sans Pro",
        "font-size": 6
       },
       "p": {
        "color": "mainColor",
        "font-family": "Source Sans Pro",
        "font-size": 6
       }
      },
      "text-base": {
       "color": "mainColor",
       "font-family": "Source Sans Pro",
       "font-size": 6
      }
     },
     "52d4efb1-f892-4199-904c-d4a31372da35": {
      "backgrounds": {
       "backgroundColor": {
        "background-color": "backgroundColor",
        "id": "backgroundColor"
       }
      },
      "id": "52d4efb1-f892-4199-904c-d4a31372da35",
      "palette": {
       "backgroundColor": {
        "id": "backgroundColor",
        "rgb": [
         34,
         34,
         34
        ]
       },
       "headingColor": {
        "id": "headingColor",
        "rgb": [
         238,
         238,
         238
        ]
       },
       "linkColor": {
        "id": "linkColor",
        "rgb": [
         170,
         34,
         51
        ]
       },
       "mainColor": {
        "id": "mainColor",
        "rgb": [
         238,
         238,
         238
        ]
       }
      },
      "rules": {
       "a": {
        "color": "linkColor"
       },
       "h1": {
        "color": "headingColor",
        "font-family": "Ubuntu",
        "font-size": 7
       },
       "h2": {
        "color": "headingColor",
        "font-family": "Ubuntu",
        "font-size": 5
       },
       "h3": {
        "color": "headingColor",
        "font-family": "Ubuntu",
        "font-size": 3.75
       },
       "h4": {
        "color": "headingColor",
        "font-family": "Ubuntu",
        "font-size": 3
       },
       "h5": {
        "color": "headingColor",
        "font-family": "Ubuntu"
       },
       "h6": {
        "color": "headingColor",
        "font-family": "Ubuntu"
       },
       "h7": {
        "color": "headingColor",
        "font-family": "Ubuntu"
       },
       "li": {
        "color": "mainColor",
        "font-family": "Ubuntu",
        "font-size": 5
       },
       "p": {
        "color": "mainColor",
        "font-family": "Ubuntu",
        "font-size": 5
       }
      },
      "text-base": {
       "color": "mainColor",
       "font-family": "Ubuntu",
       "font-size": 5
      }
     },
     "5a5d8517-d4b3-4f13-8f03-04777cbd4627": {
      "backgrounds": {
       "backgroundColor": {
        "background-color": "backgroundColor",
        "id": "backgroundColor"
       }
      },
      "id": "5a5d8517-d4b3-4f13-8f03-04777cbd4627",
      "palette": {
       "backgroundColor": {
        "id": "backgroundColor",
        "rgb": [
         17,
         17,
         17
        ]
       },
       "headingColor": {
        "id": "headingColor",
        "rgb": [
         238,
         238,
         238
        ]
       },
       "linkColor": {
        "id": "linkColor",
        "rgb": [
         231,
         173,
         82
        ]
       },
       "mainColor": {
        "id": "mainColor",
        "rgb": [
         238,
         238,
         238
        ]
       }
      },
      "rules": {
       "a": {
        "color": "linkColor"
       },
       "h1": {
        "color": "headingColor",
        "font-family": "Montserrat",
        "font-size": 7
       },
       "h2": {
        "color": "headingColor",
        "font-family": "Montserrat",
        "font-size": 5
       },
       "h3": {
        "color": "headingColor",
        "font-family": "Montserrat",
        "font-size": 3.75
       },
       "h4": {
        "color": "headingColor",
        "font-family": "Montserrat",
        "font-size": 3
       },
       "h5": {
        "color": "headingColor",
        "font-family": "Montserrat"
       },
       "h6": {
        "color": "headingColor",
        "font-family": "Montserrat"
       },
       "h7": {
        "color": "headingColor",
        "font-family": "Montserrat"
       },
       "li": {
        "color": "mainColor",
        "font-family": "Open Sans",
        "font-size": 4
       },
       "p": {
        "color": "mainColor",
        "font-family": "Open Sans",
        "font-size": 4
       }
      },
      "text-base": {
       "color": "mainColor",
       "font-family": "Open Sans",
       "font-size": 4
      }
     },
     "5ae37dac-dcaa-4671-bad5-990d08d91439": {
      "backgrounds": {
       "backgroundColor": {
        "background-color": "backgroundColor",
        "id": "backgroundColor"
       }
      },
      "id": "5ae37dac-dcaa-4671-bad5-990d08d91439",
      "palette": {
       "backgroundColor": {
        "id": "backgroundColor",
        "rgb": [
         34,
         34,
         34
        ]
       },
       "headingColor": {
        "id": "headingColor",
        "rgb": [
         256,
         256,
         256
        ]
       },
       "linkColor": {
        "id": "linkColor",
        "rgb": [
         66,
         175,
         250
        ]
       },
       "mainColor": {
        "id": "mainColor",
        "rgb": [
         256,
         256,
         256
        ]
       }
      },
      "rules": {
       "a": {
        "color": "linkColor"
       },
       "h1": {
        "color": "headingColor",
        "font-family": "Source Sans Pro",
        "font-size": 5.25
       },
       "h2": {
        "color": "headingColor",
        "font-family": "Source Sans Pro",
        "font-size": 4
       },
       "h3": {
        "color": "headingColor",
        "font-family": "Source Sans Pro",
        "font-size": 3.5
       },
       "h4": {
        "color": "headingColor",
        "font-family": "Source Sans Pro",
        "font-size": 3
       },
       "h5": {
        "color": "headingColor",
        "font-family": "Source Sans Pro"
       },
       "h6": {
        "color": "headingColor",
        "font-family": "Source Sans Pro"
       },
       "h7": {
        "color": "headingColor",
        "font-family": "Source Sans Pro"
       },
       "li": {
        "color": "mainColor",
        "font-family": "Source Sans Pro",
        "font-size": 6
       },
       "p": {
        "color": "mainColor",
        "font-family": "Source Sans Pro",
        "font-size": 6
       }
      },
      "text-base": {
       "color": "mainColor",
       "font-family": "Source Sans Pro",
       "font-size": 6
      }
     },
     "815fb993-b253-43b6-a837-e49b7a62dc83": {
      "id": "815fb993-b253-43b6-a837-e49b7a62dc83",
      "palette": {
       "19cc588f-0593-49c9-9f4b-e4d7cc113b1c": {
        "id": "19cc588f-0593-49c9-9f4b-e4d7cc113b1c",
        "rgb": [
         252,
         252,
         252
        ]
       },
       "31af15d2-7e15-44c5-ab5e-e04b16a89eff": {
        "id": "31af15d2-7e15-44c5-ab5e-e04b16a89eff",
        "rgb": [
         68,
         68,
         68
        ]
       },
       "50f92c45-a630-455b-aec3-788680ec7410": {
        "id": "50f92c45-a630-455b-aec3-788680ec7410",
        "rgb": [
         155,
         177,
         192
        ]
       },
       "c5cc3653-2ee1-402a-aba2-7caae1da4f6c": {
        "id": "c5cc3653-2ee1-402a-aba2-7caae1da4f6c",
        "rgb": [
         43,
         126,
         184
        ]
       },
       "efa7f048-9acb-414c-8b04-a26811511a21": {
        "id": "efa7f048-9acb-414c-8b04-a26811511a21",
        "rgb": [
         25.118061674008803,
         73.60176211453744,
         107.4819383259912
        ]
       }
      },
      "rules": {
       "blockquote": {
        "color": "50f92c45-a630-455b-aec3-788680ec7410"
       },
       "code": {
        "font-family": "Anonymous Pro"
       },
       "h1": {
        "color": "c5cc3653-2ee1-402a-aba2-7caae1da4f6c",
        "font-family": "Lato",
        "font-size": 8
       },
       "h2": {
        "color": "c5cc3653-2ee1-402a-aba2-7caae1da4f6c",
        "font-family": "Lato",
        "font-size": 6
       },
       "h3": {
        "color": "50f92c45-a630-455b-aec3-788680ec7410",
        "font-family": "Lato",
        "font-size": 5.5
       },
       "h4": {
        "color": "c5cc3653-2ee1-402a-aba2-7caae1da4f6c",
        "font-family": "Lato",
        "font-size": 5
       },
       "h5": {
        "font-family": "Lato"
       },
       "h6": {
        "font-family": "Lato"
       },
       "h7": {
        "font-family": "Lato"
       },
       "pre": {
        "font-family": "Anonymous Pro",
        "font-size": 4
       }
      },
      "text-base": {
       "font-family": "Merriweather",
       "font-size": 4
      }
     },
     "a3a6747a-8929-4f3d-98a4-0803861905b3": {
      "backgrounds": {
       "backgroundColor": {
        "background-color": "backgroundColor",
        "id": "backgroundColor"
       }
      },
      "id": "a3a6747a-8929-4f3d-98a4-0803861905b3",
      "palette": {
       "backgroundColor": {
        "id": "backgroundColor",
        "rgb": [
         256,
         256,
         256
        ]
       },
       "headingColor": {
        "id": "headingColor",
        "rgb": [
         0,
         0,
         0
        ]
       },
       "linkColor": {
        "id": "linkColor",
        "rgb": [
         0,
         0,
         139
        ]
       },
       "mainColor": {
        "id": "mainColor",
        "rgb": [
         0,
         0,
         0
        ]
       }
      },
      "rules": {
       "a": {
        "color": "linkColor"
       },
       "h1": {
        "color": "headingColor",
        "font-family": "News Cycle",
        "font-size": 7
       },
       "h2": {
        "color": "headingColor",
        "font-family": "News Cycle",
        "font-size": 5
       },
       "h3": {
        "color": "headingColor",
        "font-family": "News Cycle",
        "font-size": 3.75
       },
       "h4": {
        "color": "headingColor",
        "font-family": "News Cycle",
        "font-size": 3
       },
       "h5": {
        "color": "headingColor",
        "font-family": "News Cycle"
       },
       "h6": {
        "color": "headingColor",
        "font-family": "News Cycle"
       },
       "h7": {
        "color": "headingColor",
        "font-family": "News Cycle"
       },
       "li": {
        "color": "mainColor",
        "font-family": "Lato",
        "font-size": 5
       },
       "p": {
        "color": "mainColor",
        "font-family": "Lato",
        "font-size": 5
       }
      },
      "text-base": {
       "color": "mainColor",
       "font-family": "Lato",
       "font-size": 5
      }
     },
     "b7797485-f6c3-45d4-8483-e9e932e3568f": {
      "backgrounds": {
       "backgroundColor": {
        "background-color": "backgroundColor",
        "id": "backgroundColor"
       }
      },
      "id": "b7797485-f6c3-45d4-8483-e9e932e3568f",
      "palette": {
       "backgroundColor": {
        "id": "backgroundColor",
        "rgb": [
         43,
         43,
         43
        ]
       },
       "headingColor": {
        "id": "headingColor",
        "rgb": [
         238,
         238,
         238
        ]
       },
       "linkColor": {
        "id": "linkColor",
        "rgb": [
         19,
         218,
         236
        ]
       },
       "mainColor": {
        "id": "mainColor",
        "rgb": [
         238,
         238,
         238
        ]
       }
      },
      "rules": {
       "a": {
        "color": "linkColor"
       },
       "h1": {
        "color": "headingColor",
        "font-family": "Oswald",
        "font-size": 7
       },
       "h2": {
        "color": "headingColor",
        "font-family": "Oswald",
        "font-size": 5
       },
       "h3": {
        "color": "headingColor",
        "font-family": "Oswald",
        "font-size": 3.75
       },
       "h4": {
        "color": "headingColor",
        "font-family": "Oswald",
        "font-size": 3
       },
       "h5": {
        "color": "headingColor",
        "font-family": "Oswald"
       },
       "h6": {
        "color": "headingColor",
        "font-family": "Oswald"
       },
       "h7": {
        "color": "headingColor",
        "font-family": "Oswald"
       },
       "li": {
        "color": "mainColor",
        "font-family": "Lato",
        "font-size": 5
       },
       "p": {
        "color": "mainColor",
        "font-family": "Lato",
        "font-size": 5
       }
      },
      "text-base": {
       "color": "mainColor",
       "font-family": "Lato",
       "font-size": 5
      }
     },
     "e07cda7b-a230-4153-ac10-95b99a416cc3": {
      "backgrounds": {
       "backgroundColor": {
        "background-color": "backgroundColor",
        "id": "backgroundColor"
       }
      },
      "id": "e07cda7b-a230-4153-ac10-95b99a416cc3",
      "palette": {
       "backgroundColor": {
        "id": "backgroundColor",
        "rgb": [
         247,
         243,
         222
        ]
       },
       "headingColor": {
        "id": "headingColor",
        "rgb": [
         51,
         51,
         51
        ]
       },
       "linkColor": {
        "id": "linkColor",
        "rgb": [
         139,
         116,
         61
        ]
       },
       "mainColor": {
        "id": "mainColor",
        "rgb": [
         51,
         51,
         51
        ]
       }
      },
      "rules": {
       "a": {
        "color": "linkColor"
       },
       "h1": {
        "color": "headingColor",
        "font-family": "Oswald",
        "font-size": 7
       },
       "h2": {
        "color": "headingColor",
        "font-family": "Oswald",
        "font-size": 5
       },
       "h3": {
        "color": "headingColor",
        "font-family": "Oswald",
        "font-size": 3.75
       },
       "h4": {
        "color": "headingColor",
        "font-family": "Oswald",
        "font-size": 3
       },
       "h5": {
        "color": "headingColor",
        "font-family": "Oswald"
       },
       "h6": {
        "color": "headingColor",
        "font-family": "Oswald"
       },
       "h7": {
        "color": "headingColor",
        "font-family": "Oswald"
       },
       "li": {
        "color": "mainColor",
        "font-family": "Lato",
        "font-size": 5
       },
       "p": {
        "color": "mainColor",
        "font-family": "Lato",
        "font-size": 5
       }
      },
      "text-base": {
       "color": "mainColor",
       "font-family": "Lato",
       "font-size": 5
      }
     },
     "ec2105cc-f0a6-4ba6-a659-ad1407daa9ee": {
      "backgrounds": {
       "backgroundColor": {
        "background-color": "backgroundColor",
        "id": "backgroundColor"
       }
      },
      "id": "ec2105cc-f0a6-4ba6-a659-ad1407daa9ee",
      "palette": {
       "backgroundColor": {
        "id": "backgroundColor",
        "rgb": [
         240,
         241,
         235
        ]
       },
       "headingColor": {
        "id": "headingColor",
        "rgb": [
         56,
         61,
         61
        ]
       },
       "linkColor": {
        "id": "linkColor",
        "rgb": [
         81,
         72,
         61
        ]
       },
       "mainColor": {
        "id": "mainColor",
        "rgb": [
         0,
         0,
         0
        ]
       }
      },
      "rules": {
       "a": {
        "color": "linkColor"
       },
       "h1": {
        "color": "headingColor",
        "font-family": "EB Garamond",
        "font-size": 7
       },
       "h2": {
        "color": "headingColor",
        "font-family": "EB Garamond",
        "font-size": 5
       },
       "h3": {
        "color": "headingColor",
        "font-family": "EB Garamond",
        "font-size": 3.75
       },
       "h4": {
        "color": "headingColor",
        "font-family": "EB Garamond",
        "font-size": 3
       },
       "h5": {
        "color": "headingColor",
        "font-family": "EB Garamond"
       },
       "h6": {
        "color": "headingColor",
        "font-family": "EB Garamond"
       },
       "h7": {
        "color": "headingColor",
        "font-family": "EB Garamond"
       },
       "li": {
        "color": "mainColor",
        "font-family": "EB Garamond",
        "font-size": 5
       },
       "p": {
        "color": "mainColor",
        "font-family": "EB Garamond",
        "font-size": 5
       }
      },
      "text-base": {
       "color": "mainColor",
       "font-family": "EB Garamond",
       "font-size": 5
      }
     },
     "f8ef31be-c5e2-4729-a5b0-a845470311fa": {
      "backgrounds": {
       "backgroundColor": {
        "background-color": "backgroundColor",
        "id": "backgroundColor"
       }
      },
      "id": "f8ef31be-c5e2-4729-a5b0-a845470311fa",
      "palette": {
       "backgroundColor": {
        "id": "backgroundColor",
        "rgb": [
         247,
         251,
         252
        ]
       },
       "headingColor": {
        "id": "headingColor",
        "rgb": [
         51,
         51,
         51
        ]
       },
       "linkColor": {
        "id": "linkColor",
        "rgb": [
         59,
         117,
         158
        ]
       },
       "mainColor": {
        "id": "mainColor",
        "rgb": [
         51,
         51,
         51
        ]
       }
      },
      "rules": {
       "a": {
        "color": "linkColor"
       },
       "h1": {
        "color": "headingColor",
        "font-family": "Quicksand",
        "font-size": 7
       },
       "h2": {
        "color": "headingColor",
        "font-family": "Quicksand",
        "font-size": 5
       },
       "h3": {
        "color": "headingColor",
        "font-family": "Quicksand",
        "font-size": 3.75
       },
       "h4": {
        "color": "headingColor",
        "font-family": "Quicksand",
        "font-size": 3
       },
       "h5": {
        "color": "headingColor",
        "font-family": "Quicksand"
       },
       "h6": {
        "color": "headingColor",
        "font-family": "Quicksand"
       },
       "h7": {
        "color": "headingColor",
        "font-family": "Quicksand"
       },
       "li": {
        "color": "mainColor",
        "font-family": "Open Sans",
        "font-size": 5
       },
       "p": {
        "color": "mainColor",
        "font-family": "Open Sans",
        "font-size": 5
       }
      },
      "text-base": {
       "color": "mainColor",
       "font-family": "Open Sans",
       "font-size": 5
      }
     }
    }
   }
  },
  "varInspector": {
   "cols": {
    "lenName": 16,
    "lenType": 16,
    "lenVar": 40
   },
   "kernels_config": {
    "python": {
     "delete_cmd_postfix": "",
     "delete_cmd_prefix": "del ",
     "library": "var_list.py",
     "varRefreshCmd": "print(var_dic_list())"
    },
    "r": {
     "delete_cmd_postfix": ") ",
     "delete_cmd_prefix": "rm(",
     "library": "var_list.r",
     "varRefreshCmd": "cat(var_dic_list()) "
    }
   },
   "types_to_exclude": [
    "module",
    "function",
    "builtin_function_or_method",
    "instance",
    "_Feature"
   ],
   "window_display": false
  }
 },
 "nbformat": 4,
 "nbformat_minor": 1
}
