{
 "cells": [
  {
   "cell_type": "markdown",
   "metadata": {},
   "source": [
    "# Домашнее задание 5\n",
    "\n",
    "1. Найти $\\nabla f(x)$, если $f(x) = \\|Ax\\| - \\|x^TA\\|$\n",
    "\n",
    "2. Найти $\\nabla f(x), f''(x)$, если $f(x) = \\dfrac{-1}{1 + x^Tx}$\n",
    "\n",
    "3. Найти $f'(X)$, если $f(X) = \\det X$  \n",
    "  Примечание: здесь под $f'(X)$ подразумевается оценка фунции $f(X)$ первого порядка в смысле разложения в ряд Тейлора:\n",
    "  $$\n",
    "    f(X + \\Delta X) \\approx f(X) + \\mathbf{tr}(f'(X)^T \\Delta X)\n",
    "  $$\n",
    "\n",
    "4. Найти $f''(X)$, если $f(X) = \\log \\det X, \\;\\;\\; X \\in \\mathbb{S}^{n \\times n}_{++}$  \n",
    "  Примечание: здесь под $f''(X)$ подразумевается оценка фунции $f(X)$ второго порядка в смысле разложения в ряд Тейлора:\n",
    "  $$\n",
    "  f(X + \\Delta X) \\approx f(X) + \\mathbf{tr}(f'(X)^T \\Delta X) + \\frac{1}{2}\\mathbf{tr}(\\Delta X^T f''(X) \\Delta X)\n",
    "  $$\n",
    "\n",
    "5. Найти градиент и гессиан функции $f : \\mathbb{R}^n \\to \\mathbb{R}$\n",
    "$$\n",
    "f(x) = \\log \\sum\\limits_{i=1}^m \\exp (a_i^Tx + b_i), \\;\\;\\;\\; a_1, \\ldots, a_m \\in \\mathbb{R}^n; \\;\\;\\;  b_1, \\ldots, b_m  \\in \\mathbb{R}\n",
    "$$"
   ]
  }
 ],
 "metadata": {
  "kernelspec": {
   "display_name": "Python 3",
   "language": "python",
   "name": "python3"
  },
  "language_info": {
   "codemirror_mode": {
    "name": "ipython",
    "version": 3
   },
   "file_extension": ".py",
   "mimetype": "text/x-python",
   "name": "python",
   "nbconvert_exporter": "python",
   "pygments_lexer": "ipython3",
   "version": "3.6.4"
  },
  "toc": {
   "nav_menu": {},
   "number_sections": false,
   "sideBar": true,
   "skip_h1_title": false,
   "title_cell": "Table of Contents",
   "title_sidebar": "Contents",
   "toc_cell": false,
   "toc_position": {},
   "toc_section_display": true,
   "toc_window_display": false
  },
  "varInspector": {
   "cols": {
    "lenName": 16,
    "lenType": 16,
    "lenVar": 40
   },
   "kernels_config": {
    "python": {
     "delete_cmd_postfix": "",
     "delete_cmd_prefix": "del ",
     "library": "var_list.py",
     "varRefreshCmd": "print(var_dic_list())"
    },
    "r": {
     "delete_cmd_postfix": ") ",
     "delete_cmd_prefix": "rm(",
     "library": "var_list.r",
     "varRefreshCmd": "cat(var_dic_list()) "
    }
   },
   "types_to_exclude": [
    "module",
    "function",
    "builtin_function_or_method",
    "instance",
    "_Feature"
   ],
   "window_display": false
  }
 },
 "nbformat": 4,
 "nbformat_minor": 2
}
