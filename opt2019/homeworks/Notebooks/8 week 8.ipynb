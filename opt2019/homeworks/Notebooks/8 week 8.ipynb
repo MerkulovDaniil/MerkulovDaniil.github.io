{
 "cells": [
  {
   "cell_type": "markdown",
   "metadata": {},
   "source": [
    "# Домашнее задание 8\n",
    "\n",
    "1. Найти $f^*(y)$, если $f(x) = -\\dfrac{1}{x}, \\;\\; x\\in \\mathbb{R}_{++}$\n",
    "2. Найти $f^*(y)$, если $f(x) = -0,5 - \\log x, \\;\\; x>0$\n",
    "3. Найти $f^*(y)$, если $f(x) = \\log \\left( \\sum\\limits_{i=1}^n e^{x_i} \\right)$\n",
    "4. Найти $f^*(y)$, если $f(x) = - (a^2 - x^2)^{1/2}, \\;\\;\\; |x| \\le a, \\;\\;\\; a>0$"
   ]
  }
 ],
 "metadata": {
  "kernelspec": {
   "display_name": "Python 3",
   "language": "python",
   "name": "python3"
  },
  "language_info": {
   "codemirror_mode": {
    "name": "ipython",
    "version": 3
   },
   "file_extension": ".py",
   "mimetype": "text/x-python",
   "name": "python",
   "nbconvert_exporter": "python",
   "pygments_lexer": "ipython3",
   "version": "3.6.4"
  },
  "toc": {
   "nav_menu": {},
   "number_sections": false,
   "sideBar": true,
   "skip_h1_title": false,
   "title_cell": "Table of Contents",
   "title_sidebar": "Contents",
   "toc_cell": false,
   "toc_position": {},
   "toc_section_display": true,
   "toc_window_display": false
  },
  "varInspector": {
   "cols": {
    "lenName": 16,
    "lenType": 16,
    "lenVar": 40
   },
   "kernels_config": {
    "python": {
     "delete_cmd_postfix": "",
     "delete_cmd_prefix": "del ",
     "library": "var_list.py",
     "varRefreshCmd": "print(var_dic_list())"
    },
    "r": {
     "delete_cmd_postfix": ") ",
     "delete_cmd_prefix": "rm(",
     "library": "var_list.r",
     "varRefreshCmd": "cat(var_dic_list()) "
    }
   },
   "types_to_exclude": [
    "module",
    "function",
    "builtin_function_or_method",
    "instance",
    "_Feature"
   ],
   "window_display": false
  }
 },
 "nbformat": 4,
 "nbformat_minor": 2
}
