{
 "cells": [
  {
   "cell_type": "markdown",
   "metadata": {},
   "source": [
    "# Домашнее задание 6\n",
    "\n",
    "1. Выпуклы ли следующие функции: $f(x) = e^x - 1, \\; x \\in \\mathbb{R};\\;\\;\\; f(x_1, x_2) = x_1x_2, \\; x \\in \\mathbb{R}^2_{++};\\;\\;\\; f(x_1, x_2) = 1/(x_1x_2), \\; x \\in \\mathbb{R}^2_{++}$?\n",
    "\n",
    "2. Докажите, что множество $S = \\left\\{ x \\in \\mathbb{R}^n \\mid \\prod\\limits_{i=1}^n x_i \\geq 1 \\right\\}$ выпукло.\n",
    "\n",
    "3. Докажите, что функция $f(X) = \\mathbf{tr}(X^{-1}), X \\in S^n_{++}$ выпукла, а $g(X) = (\\det X)^{1/n}, X \\in S^n_{++}$ вогнута.\n",
    "\n",
    "4. Расстоянием Кульбака - Лейблера между между $p,q \\in \\mathbb{R}^n_{++}$ называется:\n",
    "$$\n",
    "D(p,q) = \\sum\\limits_{i=1}^n (p_i \\log(p_i/q_i) - p_i + q_i)\n",
    "$$\n",
    "Докажите, что $D(p,q) \\geq 0 \\forall p,q \\in \\mathbb{R}^n_{++}$ и $D(p,q) = 0 \\leftrightarrow p = q$  \n",
    "Подсказка: \n",
    "$$\n",
    "D(p,q) = f(p) - f(q) - \\nabla f(q)^T(p-q), \\;\\;\\;\\; f(p) = \\sum\\limits_{i=1}^n p_i \\log p_i\n",
    "$$\n",
    "\n",
    "5. Пусть $x$ - действительнозначная переменная, принимающая конечный набор значений $a_1 < a_2 < \\ldots < a_n$ с вероятностями $\\mathbb{P}(x = a_i) = p_i$. Оцените выпуклость и вогнутость следующих функций от $p$ на множестве $\\left\\{p \\mid \\sum\\limits_{i=1}^n p_i = 1, p_i \\ge 0 \\right\\}$  \n",
    "  * $\\mathbb{E}x$\n",
    "  * $\\mathbb{P}\\{x \\ge \\alpha\\}$\n",
    "  * $\\mathbb{P}\\{\\alpha \\le x \\le \\beta\\}$\n",
    "  * $\\sum\\limits_{i=1}^n p_i \\log p_i​$\n",
    "  * $\\mathbb{V}x = \\mathbb{E}(x - \\mathbb{E}x)^2$\n",
    "  * $\\mathbf{quartile}(x) = {\\operatorname{inf}}\\left\\{ \\beta \\mid \\mathbb{P}\\{x \\le \\beta\\} \\ge 0.25 \\right\\}$"
   ]
  }
 ],
 "metadata": {
  "kernelspec": {
   "display_name": "Python 3",
   "language": "python",
   "name": "python3"
  },
  "language_info": {
   "codemirror_mode": {
    "name": "ipython",
    "version": 3
   },
   "file_extension": ".py",
   "mimetype": "text/x-python",
   "name": "python",
   "nbconvert_exporter": "python",
   "pygments_lexer": "ipython3",
   "version": "3.6.4"
  },
  "toc": {
   "nav_menu": {},
   "number_sections": false,
   "sideBar": true,
   "skip_h1_title": false,
   "title_cell": "Table of Contents",
   "title_sidebar": "Contents",
   "toc_cell": false,
   "toc_position": {},
   "toc_section_display": true,
   "toc_window_display": false
  },
  "varInspector": {
   "cols": {
    "lenName": 16,
    "lenType": 16,
    "lenVar": 40
   },
   "kernels_config": {
    "python": {
     "delete_cmd_postfix": "",
     "delete_cmd_prefix": "del ",
     "library": "var_list.py",
     "varRefreshCmd": "print(var_dic_list())"
    },
    "r": {
     "delete_cmd_postfix": ") ",
     "delete_cmd_prefix": "rm(",
     "library": "var_list.r",
     "varRefreshCmd": "cat(var_dic_list()) "
    }
   },
   "types_to_exclude": [
    "module",
    "function",
    "builtin_function_or_method",
    "instance",
    "_Feature"
   ],
   "window_display": false
  }
 },
 "nbformat": 4,
 "nbformat_minor": 2
}
