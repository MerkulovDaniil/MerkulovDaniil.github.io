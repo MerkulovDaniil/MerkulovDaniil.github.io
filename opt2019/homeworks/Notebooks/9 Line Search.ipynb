{
 "cells": [
  {
   "cell_type": "markdown",
   "metadata": {
    "deletable": false,
    "editable": false,
    "nbgrader": {
     "checksum": "2cae76a17dd2572442037d72de878e81",
     "grade": false,
     "grade_id": "cell-1fdec7cec4dac8f5",
     "locked": true,
     "schema_version": 1,
     "solution": false
    }
   },
   "source": [
    "# Одномерная минимизация и скорость сходимости"
   ]
  },
  {
   "cell_type": "markdown",
   "metadata": {
    "deletable": false,
    "editable": false,
    "nbgrader": {
     "checksum": "b3f881349d49b12bc5eaa354c4fa547f",
     "grade": false,
     "grade_id": "cell-ad404ae5ee63d5ea",
     "locked": true,
     "schema_version": 1,
     "solution": false
    }
   },
   "source": [
    "## Теория"
   ]
  },
  {
   "cell_type": "markdown",
   "metadata": {
    "deletable": false,
    "editable": false,
    "nbgrader": {
     "checksum": "e4b95544e54af51541dc406fb11d8b6b",
     "grade": false,
     "grade_id": "cell-2c5402e2a2fb6587",
     "locked": true,
     "schema_version": 1,
     "solution": false
    }
   },
   "source": [
    "### 1\n",
    "Определить скорость сходимости следующих последовательностей:\n",
    "\n",
    "1. $r_k = \\left\\{ (0.707)^k \\right\\}_{k=1}^\\infty$\n",
    "2. $r_k = \\left\\{ (0.707)^{2^k} \\right\\}_{k=1}^\\infty$\n",
    "3. $r_k = \\left\\{ \\dfrac{1}{k^2} \\right\\}_{k=1}^\\infty$\n",
    "4. $r_k = \\left\\{ \\dfrac{1}{k!} \\right\\}_{k=1}^\\infty$\n",
    "5. $r_k =\\begin{cases} \\frac{1}{k}, & \\mbox{if } k\\mbox{ is even} \\\\ \\frac{1}{k^2}, & \\mbox{if } k\\mbox{ is odd} \\end{cases}$\n",
    "6. $r_k =\\begin{cases} \\frac{1}{k^k}, & \\mbox{if } k\\mbox{ is even} \\\\ \\frac{1}{k^{2k}}, & \\mbox{if } k\\mbox{ is odd} \\end{cases}$"
   ]
  },
  {
   "cell_type": "markdown",
   "metadata": {
    "deletable": false,
    "nbgrader": {
     "checksum": "3017267660070e001e82ec5574c6b059",
     "grade": true,
     "grade_id": "cell-3f0dd23e3bac74dd",
     "locked": false,
     "points": 2,
     "schema_version": 1,
     "solution": true
    }
   },
   "source": [
    "YOUR ANSWER HERE"
   ]
  },
  {
   "cell_type": "markdown",
   "metadata": {
    "deletable": false,
    "editable": false,
    "nbgrader": {
     "checksum": "e76a775fa2035ad3de3abdd2dcab8255",
     "grade": false,
     "grade_id": "cell-eec927cb058248f1",
     "locked": true,
     "schema_version": 1,
     "solution": false
    }
   },
   "source": [
    "### 2\n",
    "Рассмотрите функцию $f(x) = x \\cdot e^x + \\sin e^x, \\;\\;\\; x \\in [-5, 0]$ . Рассмотрите методы локализации решения, при которых отрезок делится на 2 части в фиксированной пропорции $t: x_t = a + t*(b-a)$.\n",
    "\n",
    "* Проведите эксперименты при различных значениях $t \\in [0,1]$ и постройте график зависимости $\\overline{N} (t)$ - среднего значения количества итераций, необходимых для достижения $\\varepsilon$ - точности от параметра $t$. (Для каждого значения $t$ провести не менее 5 запусков).</li>\n",
    "* Попробуйте на каждом шаге выбирать точку так, чтобы $t$ было распределено равномерно от $0$ до $1$. Постройте график зависимости среднего (по экспериментам) значения функции от итерации. Помимо среднего отложите на графике так же разброс, соответствующий стандартному отклонению. Провести не менее 33 экспериментов. Сравните результаты по среднему количеству итераций с первым пунктом.</li>\n",
    "\n",
    "Считать $\\varepsilon = 10^{-7}$."
   ]
  },
  {
   "cell_type": "markdown",
   "metadata": {
    "deletable": false,
    "nbgrader": {
     "checksum": "538b17c4246b5cfc61da8ed4f9e24856",
     "grade": true,
     "grade_id": "cell-b6b9a8a1425f3c2c",
     "locked": false,
     "points": 4,
     "schema_version": 1,
     "solution": true
    }
   },
   "source": [
    "YOUR ANSWER HERE"
   ]
  },
  {
   "cell_type": "markdown",
   "metadata": {
    "deletable": false,
    "editable": false,
    "nbgrader": {
     "checksum": "f61ccb18ab4df5508195cabd815c8c44",
     "grade": false,
     "grade_id": "cell-22934b0d2196a67c",
     "locked": true,
     "schema_version": 1,
     "solution": false
    }
   },
   "source": [
    "## Практика"
   ]
  },
  {
   "cell_type": "markdown",
   "metadata": {
    "deletable": false,
    "editable": false,
    "nbgrader": {
     "checksum": "503b1f42a5b5eb4b6bc8f8be67bb9994",
     "grade": false,
     "grade_id": "dichotomy_cond",
     "locked": true,
     "schema_version": 1,
     "solution": false
    }
   },
   "source": [
    "### 3\n",
    "Напишите функцию `dichotomy()`, которая решает задачу минимизации одномерной функции $f(x)=ax^2+b⋅x+c$  при условии, что $x_1\\leq x \\leq x_2$,$x_1 < x_2$ с помощью метода дихотомии с $\\varepsilon$ точностью относительно размера локализуемого отрезка. Функция возвращает массив из 5 последних итераций в формате np.array."
   ]
  },
  {
   "cell_type": "code",
   "execution_count": null,
   "metadata": {
    "deletable": false,
    "nbgrader": {
     "checksum": "562679d9e3a3ef1daeebcf5f05a5bc27",
     "grade": false,
     "grade_id": "dichotomy",
     "locked": false,
     "schema_version": 1,
     "solution": true
    }
   },
   "outputs": [],
   "source": [
    "import numpy as np\n",
    "def dichotomy(a,b,c,x1,x2, epsilon):\n",
    "    # YOUR CODE HERE\n",
    "    raise NotImplementedError()\n",
    "    return array_of_5_last_iterations"
   ]
  },
  {
   "cell_type": "code",
   "execution_count": null,
   "metadata": {
    "deletable": false,
    "editable": false,
    "nbgrader": {
     "checksum": "7ce12116ced60b23e4167bc9f1a5a815",
     "grade": true,
     "grade_id": "test_dichotomy",
     "locked": true,
     "points": 2,
     "schema_version": 1,
     "solution": false
    }
   },
   "outputs": [],
   "source": []
  },
  {
   "cell_type": "markdown",
   "metadata": {
    "deletable": false,
    "editable": false,
    "nbgrader": {
     "checksum": "e015d82b85366ecb8e643105edd17312",
     "grade": false,
     "grade_id": "fibonacci_cond",
     "locked": true,
     "schema_version": 1,
     "solution": false
    }
   },
   "source": [
    "### 4\n",
    "Напишите функцию `fibonacci()`, которая решает задачу минимизации одномерной функции $f(x)=ax^2+b⋅x+c$  при условии, что $x_1\\leq x \\leq x_2$,$x_1 < x_2$ с помощью метода Фибоначчи с $\\varepsilon$ точностью относительно размера локализуемого отрезка. Функция возвращает массив из 5 последних итераций в формате np.array."
   ]
  },
  {
   "cell_type": "code",
   "execution_count": null,
   "metadata": {
    "deletable": false,
    "nbgrader": {
     "checksum": "f63a56d43b3218ff809a4e73af3dae12",
     "grade": false,
     "grade_id": "fibonacci",
     "locked": false,
     "schema_version": 1,
     "solution": true
    }
   },
   "outputs": [],
   "source": [
    "import numpy as np\n",
    "def fibonacci(a,b,c,x1,x2, epsilon):\n",
    "    # YOUR CODE HERE\n",
    "    raise NotImplementedError()"
   ]
  },
  {
   "cell_type": "code",
   "execution_count": null,
   "metadata": {
    "deletable": false,
    "editable": false,
    "nbgrader": {
     "checksum": "47985750c0792328cda9d805be7ffcbb",
     "grade": true,
     "grade_id": "test_fibonacci",
     "locked": true,
     "points": 2,
     "schema_version": 1,
     "solution": false
    }
   },
   "outputs": [],
   "source": []
  }
 ],
 "metadata": {
  "kernelspec": {
   "display_name": "Python 3",
   "language": "python",
   "name": "python3"
  },
  "language_info": {
   "codemirror_mode": {
    "name": "ipython",
    "version": 3
   },
   "file_extension": ".py",
   "mimetype": "text/x-python",
   "name": "python",
   "nbconvert_exporter": "python",
   "pygments_lexer": "ipython3",
   "version": "3.6.4"
  },
  "toc": {
   "nav_menu": {},
   "number_sections": false,
   "sideBar": true,
   "skip_h1_title": false,
   "title_cell": "Table of Contents",
   "title_sidebar": "Contents",
   "toc_cell": false,
   "toc_position": {},
   "toc_section_display": true,
   "toc_window_display": false
  },
  "varInspector": {
   "cols": {
    "lenName": 16,
    "lenType": 16,
    "lenVar": 40
   },
   "kernels_config": {
    "python": {
     "delete_cmd_postfix": "",
     "delete_cmd_prefix": "del ",
     "library": "var_list.py",
     "varRefreshCmd": "print(var_dic_list())"
    },
    "r": {
     "delete_cmd_postfix": ") ",
     "delete_cmd_prefix": "rm(",
     "library": "var_list.r",
     "varRefreshCmd": "cat(var_dic_list()) "
    }
   },
   "types_to_exclude": [
    "module",
    "function",
    "builtin_function_or_method",
    "instance",
    "_Feature"
   ],
   "window_display": false
  }
 },
 "nbformat": 4,
 "nbformat_minor": 2
}
