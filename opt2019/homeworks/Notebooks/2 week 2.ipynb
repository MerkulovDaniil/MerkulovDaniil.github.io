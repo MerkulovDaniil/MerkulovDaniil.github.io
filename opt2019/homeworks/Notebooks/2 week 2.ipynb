{
 "cells": [
  {
   "cell_type": "markdown",
   "metadata": {},
   "source": [
    "## Домашнее задание 2\n",
    "\n",
    "1. Покажите, что множество афинно тогда и только тогда, когда его пересечение с любой прямой афинно.\n",
    "\n",
    "2. Пусть $S_1, \\ldots, S_k$ - произвольные непустые множества в $\\mathbb{R}^n$. Докажите, что:\n",
    "    * $ \\mathbf{cone} \\left( \\bigcup\\limits_{i=1}^k S_i\\right) = \\sum\\limits_{i=1}^k \\mathbf{cone} \\left( S_i\\right) $\n",
    "    * $ \\mathbf{conv} \\left( \\sum\\limits_{i=1}^k S_i\\right) = \\sum\\limits_{i=1}^k \\mathbf{conv} \\left( S_i\\right) $\n",
    "3. Докажите, что множество $S \\subseteq \\mathbb{R}^n$ выпукло тогда и только тогда, когда $(\\alpha + \\beta)S = \\alpha S + \\beta S$ для всех неотрицательных $\\alpha$ и $\\beta$\n",
    "\n",
    "4. Пусть $x \\in \\mathbb{R}$ - случайная величина с заданным вероятностным распределением $\\mathbb{P}(x = a_i) = p_i$, где $i = 1, \\ldots, n$, а $a_1 < \\ldots < a_n$. Говорят, что вектор вероятностей исходов $p \\in \\mathbb{R}^n$ принадлежит вероятностному симплексу, т.е. $P = \\left\\{ p \\mid \\mathbf{1}^Tp = 1, p \\succeq 0\\right\\} = \\left\\{ p \\mid p_1 + \\ldots + p_n = 1, p_i \\ge 0 \\right\\}$. \n",
    "    \n",
    "    Определите, выпукло ли множество таких $p$, которые удовлетворяют условию:\n",
    "    \n",
    "    * $\\mathbb{P}(x > \\alpha) \\le \\beta$\n",
    "    * $\\mathbb{E} |x^{2018}| \\le \\alpha \\mathbb{E}|x|$\n",
    "    * $\\mathbb{E} |x^{2}| \\ge \\alpha $\n",
    "    * $\\mathbb{V}x \\ge \\alpha$\n",
    "\n",
    "\n",
    "В качестве решения необходимо предоставить либо:\n",
    "- `.pdf` файл, сверстанный с помощью $ \\LaTeX $ с решениями задач\n",
    "- `.ipynb` с оформленным решением "
   ]
  }
 ],
 "metadata": {
  "kernelspec": {
   "display_name": "Python 3",
   "language": "python",
   "name": "python3"
  },
  "language_info": {
   "codemirror_mode": {
    "name": "ipython",
    "version": 3
   },
   "file_extension": ".py",
   "mimetype": "text/x-python",
   "name": "python",
   "nbconvert_exporter": "python",
   "pygments_lexer": "ipython3",
   "version": "3.6.5"
  }
 },
 "nbformat": 4,
 "nbformat_minor": 2
}
