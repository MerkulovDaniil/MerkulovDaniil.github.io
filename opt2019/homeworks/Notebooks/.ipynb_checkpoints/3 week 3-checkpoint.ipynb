{
 "cells": [
  {
   "cell_type": "markdown",
   "metadata": {},
   "source": [
    "\n",
    "# Домашнее задание 3\n",
    "\n",
    "0. Найти $\\pi_S (y) = \\pi$, если $S = \\{x \\in \\mathbb{R}^n \\mid c^T x \\ge b \\}$\n",
    "\n",
    "0. Найти $\\pi_S (y) = \\pi$, если $S = \\{x \\in \\mathbb{R}^n \\mid x = x_0 + X \\alpha, X \\in \\mathbb{R}^{n \\times m},  \\alpha \\in \\mathbb{R}^{m}\\}$, $y \\notin S$\n",
    "\n",
    "0. Построить гиперплоскость, разделяющую $S_1$ и $S_2$:\n",
    "$$S_1 = \\left\\{ x \\in \\mathbb{R}^n \\mid x_1^2 + x_2^2 + \\ldots + x_n^2 \\le 1\\right\\}, \\;\\;\\; S_2 = \\left\\{ x \\in \\mathbb{R}^n \\mid x_1^2 + x_2^2 + \\ldots + x_{n-1}^2 + 1 \\le x_n \\right\\}$$\n",
    "\n",
    "0. Построить опорную гиперплоскость для множества $S = \\left\\{ x \\in \\mathbb{R}^3 \\mid \\frac{x_1^2}{4}+\\frac{x_2^2}{8}+\\frac{x_3^2}{25} \\le 1 \\right\\}$ в граничной точке $x_0 = \\left(-1, \\frac{12}{5}, \\frac{\\sqrt{3}}{2}\\right)$\n",
    "\n",
    "0. Пусть $S \\subset \\mathbb{R}^n$ - замкнутое выпуклое множество, $\\mathbf{x} \\in S$. Найти множество $Y \\subset \\mathbb{R}^n$ такое, что $\\forall \\mathbf{y} \\in Y$ выполнено $\\mathbf{x} = \\pi_S(\\mathbf{y})$\n",
    "\n",
    "0. Пусть даны $\\mathbf{x} \\in \\mathbb{R}^n$ и выпуклый конус $K \\subseteq \\mathbb{R}^n$. Пусть $Y = \\mathbf{x} + K$, $\\mathbf{y} \\in Y$. Найти множество $X \\subset \\mathbb{R}^n$, такое, что $\\mathbf{x} \\in X, \\forall \\mathbf{y} \\in Y: x = \\pi_X(\\mathbf{y})$\n",
    "\n",
    "\n",
    "В качестве решения необходимо предоставить либо:\n",
    "- `.pdf` файл, сверстанный с помощью $ \\LaTeX $ с решениями задач\n",
    "- `.html` с оформленным решением, полученный из `.ipynb`"
   ]
  }
 ],
 "metadata": {
  "kernelspec": {
   "display_name": "Python 3",
   "language": "python",
   "name": "python3"
  },
  "language_info": {
   "codemirror_mode": {
    "name": "ipython",
    "version": 3
   },
   "file_extension": ".py",
   "mimetype": "text/x-python",
   "name": "python",
   "nbconvert_exporter": "python",
   "pygments_lexer": "ipython3",
   "version": "3.6.4"
  },
  "varInspector": {
   "cols": {
    "lenName": 16,
    "lenType": 16,
    "lenVar": 40
   },
   "kernels_config": {
    "python": {
     "delete_cmd_postfix": "",
     "delete_cmd_prefix": "del ",
     "library": "var_list.py",
     "varRefreshCmd": "print(var_dic_list())"
    },
    "r": {
     "delete_cmd_postfix": ") ",
     "delete_cmd_prefix": "rm(",
     "library": "var_list.r",
     "varRefreshCmd": "cat(var_dic_list()) "
    }
   },
   "types_to_exclude": [
    "module",
    "function",
    "builtin_function_or_method",
    "instance",
    "_Feature"
   ],
   "window_display": false
  }
 },
 "nbformat": 4,
 "nbformat_minor": 2
}
