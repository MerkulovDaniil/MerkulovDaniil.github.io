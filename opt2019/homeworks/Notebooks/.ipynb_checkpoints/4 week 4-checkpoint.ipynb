{
 "cells": [
  {
   "cell_type": "markdown",
   "metadata": {},
   "source": [
    "# Домашнее задание 4\n",
    "\n",
    "1. Найти и изобразить на плоскости множество, сопряженное к многогранному конусу: $$ S = \\mathbf{conv} \\left\\{ (-4,-1), (-2,-1), (-2,1)\\right\\} + \\mathbf{cone} \\left\\{ (1,0), (2,1)\\right\\} $$\n",
    "1. Найти и изобразить на плоскости множество, сопряженное к полиэдру: $$S = \\left\\{ x \\in \\mathbb{R}^2 \\mid -3x_1 + 2x_2 \\le 7, x_1 + 5x_2 \\le 9, x_1 - x_2 \\le 3, -x_2 \\le 1\\right\\}$$\n",
    "1. Доказать, что если понятие сопряженного множества к множеству $S$ вводить как: $$S^* = \\{y \\ \\in \\mathbb{R}^n \\mid \\langle y, x\\rangle \\le 1 \\;\\; \\forall x \\in S\\}, $$ то единичный шар с центром в нуле - единственное самосопряженное множество в $\\mathbb{R}^n$.\n",
    "1. Найти множество, сопряженное к эллипсоиду: $$ S = \\left\\{ x \\in \\mathbb{R}^n \\mid \\sum\\limits_{i = 1}^n a_i^2 x_i^2 \\le \\varepsilon^2 \\right\\}$$"
   ]
  }
 ],
 "metadata": {
  "kernelspec": {
   "display_name": "Python 3",
   "language": "python",
   "name": "python3"
  },
  "language_info": {
   "codemirror_mode": {
    "name": "ipython",
    "version": 3
   },
   "file_extension": ".py",
   "mimetype": "text/x-python",
   "name": "python",
   "nbconvert_exporter": "python",
   "pygments_lexer": "ipython3",
   "version": "3.6.4"
  },
  "toc": {
   "nav_menu": {},
   "number_sections": false,
   "sideBar": true,
   "skip_h1_title": false,
   "title_cell": "Table of Contents",
   "title_sidebar": "Contents",
   "toc_cell": false,
   "toc_position": {},
   "toc_section_display": true,
   "toc_window_display": false
  },
  "varInspector": {
   "cols": {
    "lenName": 16,
    "lenType": 16,
    "lenVar": 40
   },
   "kernels_config": {
    "python": {
     "delete_cmd_postfix": "",
     "delete_cmd_prefix": "del ",
     "library": "var_list.py",
     "varRefreshCmd": "print(var_dic_list())"
    },
    "r": {
     "delete_cmd_postfix": ") ",
     "delete_cmd_prefix": "rm(",
     "library": "var_list.r",
     "varRefreshCmd": "cat(var_dic_list()) "
    }
   },
   "types_to_exclude": [
    "module",
    "function",
    "builtin_function_or_method",
    "instance",
    "_Feature"
   ],
   "window_display": false
  }
 },
 "nbformat": 4,
 "nbformat_minor": 2
}
